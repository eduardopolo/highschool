{
  "nbformat": 4,
  "nbformat_minor": 0,
  "metadata": {
    "colab": {
      "provenance": [],
      "authorship_tag": "ABX9TyP56SwZiL3RugRp7rPgEf+g",
      "include_colab_link": true
    },
    "kernelspec": {
      "name": "python3",
      "display_name": "Python 3"
    },
    "language_info": {
      "name": "python"
    }
  },
  "cells": [
    {
      "cell_type": "markdown",
      "metadata": {
        "id": "view-in-github",
        "colab_type": "text"
      },
      "source": [
        "<a href=\"https://colab.research.google.com/github/eduardopolo/highschool/blob/main/Explicacao_funcoes_python.ipynb\" target=\"_parent\"><img src=\"https://colab.research.google.com/assets/colab-badge.svg\" alt=\"Open In Colab\"/></a>"
      ]
    },
    {
      "cell_type": "code",
      "execution_count": null,
      "metadata": {
        "colab": {
          "base_uri": "https://localhost:8080/"
        },
        "id": "6B8KAiszwVSk",
        "outputId": "fdddaa6a-19fc-47ac-def1-07d8bfe9caf5"
      },
      "outputs": [
        {
          "output_type": "stream",
          "name": "stdout",
          "text": [
            "O dígito 3 aparece 2 vezes no número 10332.\n"
          ]
        }
      ],
      "source": [
        "def apareceDigito(n, d):\n",
        "    # Caso base: quando o número é zero, não há mais dígitos para verificar\n",
        "    if n == 0:\n",
        "        return 0\n",
        "    else:\n",
        "        # Verifica se o último dígito do número é igual a d\n",
        "        last_digit = n % 10\n",
        "        if last_digit == d:\n",
        "            # Se for igual, adiciona 1 e chama a função recursivamente com o número sem o último dígito\n",
        "            return 1 + apareceDigito(n // 10, d)\n",
        "        else:\n",
        "            # Se não for igual, apenas chama a função recursivamente com o número sem o último dígito\n",
        "            return apareceDigito(n // 10, d)\n",
        "\n",
        "# Exemplo de uso\n",
        "numero = 10332\n",
        "digito = 3\n",
        "quantidade = apareceDigito(numero, digito)\n",
        "print(f'O dígito {digito} aparece {quantidade} vezes no número {numero}.')\n"
      ]
    },
    {
      "cell_type": "code",
      "source": [
        "def apareceDigito(n, d):\n",
        "    # Caso base: quando n é um dígito único\n",
        "    if n < 10:\n",
        "        if n == d:\n",
        "            return 1\n",
        "        else:\n",
        "            return 0\n",
        "    else:\n",
        "        # Verifica o último dígito e chama recursivamente para o restante do número\n",
        "        if n % 10 == d:\n",
        "            return 1 + apareceDigito(n // 10, d)\n",
        "        else:\n",
        "            return apareceDigito(n // 10, d)\n",
        "\n",
        "# Exemplo de uso\n",
        "numero = 1234321\n",
        "digito = 2\n",
        "resultado = apareceDigito(numero, digito)\n",
        "print(f'O dígito {digito} aparece {resultado} vezes no número {numero}')\n"
      ],
      "metadata": {
        "colab": {
          "base_uri": "https://localhost:8080/"
        },
        "id": "vYDv2qqzyDjS",
        "outputId": "cdde08e4-e1de-4ac1-ec30-e4758b01a0a0"
      },
      "execution_count": null,
      "outputs": [
        {
          "output_type": "stream",
          "name": "stdout",
          "text": [
            "O dígito 2 aparece 2 vezes no número 1234321\n"
          ]
        }
      ]
    },
    {
      "cell_type": "code",
      "source": [
        "def stringInversa(s):\n",
        "    # Caso base: string vazia\n",
        "    if s == \"\":\n",
        "        return \"\"\n",
        "    else:\n",
        "        # Chamada recursiva para o restante da string\n",
        "        return s[-1] + stringInversa(s[:-1])\n",
        "\n",
        "# Exemplo de uso\n",
        "texto = \"Python é incrível!\"\n",
        "resultado = stringInversa(texto)\n",
        "print(resultado)"
      ],
      "metadata": {
        "id": "RdRz2OAw0f4G",
        "colab": {
          "base_uri": "https://localhost:8080/"
        },
        "outputId": "93686dc0-8b8e-4c08-bc3e-419c7b84143c"
      },
      "execution_count": null,
      "outputs": [
        {
          "output_type": "stream",
          "name": "stdout",
          "text": [
            "!levírcni é nohtyP\n"
          ]
        }
      ]
    },
    {
      "cell_type": "code",
      "source": [
        "# Exercícios: #\n",
        "\n",
        "def apareceDigito(n, d):\n",
        "    if n < 10:\n",
        "        if n == d:\n",
        "            return 1\n",
        "        else:\n",
        "            return 0\n",
        "    else:\n",
        "        if n % 10 == d:\n",
        "            return 1 + apareceDigito(n // 10, d)\n",
        "        else:\n",
        "            return apareceDigito(n // 10, d)\n",
        "\n",
        "print (apareceDigito)"
      ],
      "metadata": {
        "colab": {
          "base_uri": "https://localhost:8080/"
        },
        "id": "VJjMBOXdy7vs",
        "outputId": "34aadfac-ab23-4f3d-ef03-b7e760943224"
      },
      "execution_count": 1,
      "outputs": [
        {
          "output_type": "stream",
          "name": "stdout",
          "text": [
            "<function apareceDigito at 0x7a2209eb4220>\n"
          ]
        }
      ]
    },
    {
      "cell_type": "code",
      "source": [
        "def stringInversa(s):\n",
        "    if s == \"\":\n",
        "        return \"\"\n",
        "    else:\n",
        "        return s[-1] + stringInversa(s[:-1])\n",
        "\n",
        "texto = \"Aprendendo\"\n",
        "resultado = stringInversa(texto)\n",
        "print(resultado)"
      ],
      "metadata": {
        "colab": {
          "base_uri": "https://localhost:8080/"
        },
        "id": "L6O5mGfzzlJp",
        "outputId": "68d289d0-137b-435c-a2bb-18cd4e054a6d"
      },
      "execution_count": null,
      "outputs": [
        {
          "output_type": "stream",
          "name": "stdout",
          "text": [
            "odnednerpA\n"
          ]
        }
      ]
    }
  ]
}