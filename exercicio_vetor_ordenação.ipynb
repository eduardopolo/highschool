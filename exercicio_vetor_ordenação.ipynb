{
  "nbformat": 4,
  "nbformat_minor": 0,
  "metadata": {
    "colab": {
      "provenance": [],
      "authorship_tag": "ABX9TyOVW+1LrfHPW5mwaJizWJKV",
      "include_colab_link": true
    },
    "kernelspec": {
      "name": "python3",
      "display_name": "Python 3"
    },
    "language_info": {
      "name": "python"
    }
  },
  "cells": [
    {
      "cell_type": "markdown",
      "metadata": {
        "id": "view-in-github",
        "colab_type": "text"
      },
      "source": [
        "<a href=\"https://colab.research.google.com/github/eduardopolo/highschool/blob/main/exercicio_vetor_ordena%C3%A7%C3%A3o.ipynb\" target=\"_parent\"><img src=\"https://colab.research.google.com/assets/colab-badge.svg\" alt=\"Open In Colab\"/></a>"
      ]
    },
    {
      "cell_type": "code",
      "source": [
        "# Exercício 1\n",
        "\n",
        "def particao(x,li,ls):\n",
        "    a=x[li]\n",
        "    acima=ls\n",
        "    abaixo=li\n",
        "    while abaixo < acima:\n",
        "        while x[abaixo] >=a and abaixo<ls:\n",
        "            abaixo+=1\n",
        "        while x[acima]<a:\n",
        "            acima-=1\n",
        "        if abaixo < acima:\n",
        "            x[abaixo],x[acima]=x[acima],x[abaixo]\n",
        "    x[li]=x[acima]\n",
        "    x[acima]=a\n",
        "    print(\"\\n\",x)\n",
        "\n",
        "    return acima\n",
        "\n",
        "def quick(x,li,lf):\n",
        "\n",
        "    if (li >= lf):\n",
        "        return\n",
        "    ret = particao(x,li,lf)  # retorna 5\n",
        "    quick(x,li,ret-1)  # quick (x, 0, 4)\n",
        "    quick(x,ret+1,lf)  # quick (x, 6, 15)\n",
        "\n",
        "\n",
        "\n",
        "x=[12,30,15,4,5,3,70,10,2,40,50,45,25,21,23,24]\n",
        "print(f'Nao ordenado: {x} \\n\\n')\n",
        "quick(x,0,len(x)-1)\n",
        "print(f'\\nOrdenado quick: {x} \\n\\n')"
      ],
      "metadata": {
        "colab": {
          "base_uri": "https://localhost:8080/"
        },
        "id": "gIZvf_yB7FZ-",
        "outputId": "9af941c5-bc8a-42d5-b791-31fc14bf270a"
      },
      "execution_count": null,
      "outputs": [
        {
          "output_type": "stream",
          "name": "stdout",
          "text": [
            "Nao ordenado: [12, 30, 15, 4, 5, 3, 70, 10, 2, 40, 50, 45, 25, 21, 23, 24] \n",
            "\n",
            "\n",
            "\n",
            " [50, 30, 15, 24, 23, 21, 70, 25, 45, 40, 12, 2, 10, 3, 5, 4]\n",
            "\n",
            " [70, 50, 15, 24, 23, 21, 30, 25, 45, 40, 12, 2, 10, 3, 5, 4]\n",
            "\n",
            " [70, 50, 40, 24, 23, 21, 30, 25, 45, 15, 12, 2, 10, 3, 5, 4]\n",
            "\n",
            " [70, 50, 45, 40, 23, 21, 30, 25, 24, 15, 12, 2, 10, 3, 5, 4]\n",
            "\n",
            " [70, 50, 45, 40, 25, 24, 30, 23, 21, 15, 12, 2, 10, 3, 5, 4]\n",
            "\n",
            " [70, 50, 45, 40, 30, 25, 24, 23, 21, 15, 12, 2, 10, 3, 5, 4]\n",
            "\n",
            " [70, 50, 45, 40, 30, 25, 24, 23, 21, 15, 12, 4, 10, 3, 5, 2]\n",
            "\n",
            " [70, 50, 45, 40, 30, 25, 24, 23, 21, 15, 12, 5, 10, 4, 3, 2]\n",
            "\n",
            " [70, 50, 45, 40, 30, 25, 24, 23, 21, 15, 12, 10, 5, 4, 3, 2]\n",
            "\n",
            "Ordenado quick: [70, 50, 45, 40, 30, 25, 24, 23, 21, 15, 12, 10, 5, 4, 3, 2] \n",
            "\n",
            "\n"
          ]
        }
      ]
    },
    {
      "cell_type": "code",
      "source": [
        "## Exercício 2\n",
        "def ordenar(arr):\n",
        "    n = len(arr)\n",
        "    for i in range(n - 1):\n",
        "        if arr[i] > arr[i + 1]:\n",
        "            return False\n",
        "    return True\n",
        "\n",
        "v1 = [13, 22, 31, 41, 54]\n",
        "\n",
        "print(\"Vetor 1 está classificado em ordem crescente:\",ordenar (vetor1))\n",
        "\n"
      ],
      "metadata": {
        "colab": {
          "base_uri": "https://localhost:8080/"
        },
        "id": "ijsbhFU2-o_I",
        "outputId": "f14dbf93-46f5-4cd3-a801-253d99db366a"
      },
      "execution_count": null,
      "outputs": [
        {
          "output_type": "stream",
          "name": "stdout",
          "text": [
            "Vetor 1 está classificado em ordem crescente: True\n"
          ]
        }
      ]
    }
  ]
}