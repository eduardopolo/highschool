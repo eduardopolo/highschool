{
  "nbformat": 4,
  "nbformat_minor": 0,
  "metadata": {
    "colab": {
      "provenance": [],
      "include_colab_link": true
    },
    "kernelspec": {
      "name": "python3",
      "display_name": "Python 3"
    },
    "language_info": {
      "name": "python"
    }
  },
  "cells": [
    {
      "cell_type": "markdown",
      "metadata": {
        "id": "view-in-github",
        "colab_type": "text"
      },
      "source": [
        "<a href=\"https://colab.research.google.com/github/eduardopolo/highschool/blob/main/labtec_dev_alg.ipynb\" target=\"_parent\"><img src=\"https://colab.research.google.com/assets/colab-badge.svg\" alt=\"Open In Colab\"/></a>"
      ]
    },
    {
      "cell_type": "markdown",
      "metadata": {
        "id": "_BGshMO2gS7c"
      },
      "source": [
        "> # **`Laboratório e Técnicas de Desenvolvimento de Algoritmos`**\n",
        "> ### **Ciência da Computação - 2º semestre**\n",
        "---\n",
        "---"
      ]
    },
    {
      "cell_type": "markdown",
      "metadata": {
        "id": "_T3eTBmghImC"
      },
      "source": [
        "> # **Revisão:**\n",
        "---\n",
        "---\n",
        "+ ## Estrutura lógica sequencial (bloco de comandos).\n",
        "    + ### Variáveis e Comandos de Entrada e Saída de dados.\n",
        "    + ### Comando de atribuição, cálculos e funções matemáticas.\n",
        "+ ## Estrutura lógica condicional (simples e composta).\n",
        "    + ### Operadores relacionais e operadores lógicos."
      ]
    },
    {
      "cell_type": "markdown",
      "metadata": {
        "id": "ylzwPZhKiizU"
      },
      "source": [
        "> ## **Estrutura lógica sequencial (bloco de comandos)**:\n",
        "---\n",
        "+ ### Variáveis:\n",
        "    + #### Regra para nomes de variáveis: `letra ou _, seguido ou não de letras, dígitos ou _`."
      ]
    },
    {
      "cell_type": "code",
      "metadata": {
        "colab": {
          "base_uri": "https://localhost:8080/"
        },
        "id": "J-DHldHOisX3",
        "outputId": "a3d52747-63dd-406a-b585-792744f42051"
      },
      "source": [
        "a = 10\n",
        "b = 20\n",
        "soma = a + b\n",
        "print('Soma =', soma)"
      ],
      "execution_count": null,
      "outputs": [
        {
          "output_type": "stream",
          "name": "stdout",
          "text": [
            "Soma = 30\n"
          ]
        }
      ]
    },
    {
      "cell_type": "markdown",
      "metadata": {
        "id": "8zje4UbeWowz"
      },
      "source": [
        "> ### **Operadores matemáticos:**\n",
        "---\n",
        "\n",
        "+ ### Adição: `+`\n",
        "+ ### Subtração: `-`\n",
        "+ ### Multiplicação: `*`\n",
        "+ ### Divisão: `/`\n",
        "+ ### Resto da divisão: `%`\n",
        "+ ### Quociente da divisão: `//`\n",
        "+ ### Potência: `**`"
      ]
    },
    {
      "cell_type": "code",
      "metadata": {
        "colab": {
          "base_uri": "https://localhost:8080/"
        },
        "id": "s-iaYWwEXVOO",
        "outputId": "052c102a-0292-4446-bba3-9e0267a740f3"
      },
      "source": [
        "print(5 + 7)\n",
        "print(5 - 9)\n",
        "print(3 * 6)\n",
        "print(5 / 2)\n",
        "print(11 % 3)\n",
        "print(11 // 3)\n",
        "print(2 ** 10)"
      ],
      "execution_count": null,
      "outputs": [
        {
          "output_type": "stream",
          "name": "stdout",
          "text": [
            "12\n",
            "-4\n",
            "18\n",
            "2.5\n",
            "2\n",
            "3\n",
            "1024\n"
          ]
        }
      ]
    },
    {
      "cell_type": "markdown",
      "metadata": {
        "id": "t9ggSmiXZCNj"
      },
      "source": [
        "> ### `Exemplo`: calcular e mostrar a área de um retângulo, onde o usuário fornece os lados.\n",
        "---"
      ]
    },
    {
      "cell_type": "code",
      "metadata": {
        "colab": {
          "base_uri": "https://localhost:8080/"
        },
        "id": "tXJC_YCbZZb1",
        "outputId": "1afab9ec-d1ba-4907-a82f-1b9fc1f4048b"
      },
      "source": [
        "# área de um retângulo\n",
        "\n",
        "lado1 = float(input('Lado 1 (m): '))  # entrada\n",
        "lado2 = float(input('\\nLado 2 (m): '))  # entrada\n",
        "area = lado1 * lado2\n",
        "print(f'\\nÁrea do retângulo = {lado1:.2f} x {lado2:.2f} = {area:.2f} m²')  # saída"
      ],
      "execution_count": null,
      "outputs": [
        {
          "output_type": "stream",
          "name": "stdout",
          "text": [
            "Lado 1 (m): 10\n",
            "\n",
            "Lado 2 (m): 2\n",
            "\n",
            "Área do retângulo = 10.00 x 2.00 = 20.00 m²\n"
          ]
        }
      ]
    },
    {
      "cell_type": "markdown",
      "metadata": {
        "id": "GKgUoKGZgv6Z"
      },
      "source": [
        "> ### **Funções matemáticas:**\n",
        "---\n",
        "+ ### Módulo (biblioteca) `math` (import)."
      ]
    },
    {
      "cell_type": "markdown",
      "metadata": {
        "id": "LFTGWHiOx2l8"
      },
      "source": [
        "> ### `Exemplos`:"
      ]
    },
    {
      "cell_type": "code",
      "metadata": {
        "colab": {
          "base_uri": "https://localhost:8080/"
        },
        "outputId": "35a9e173-ac6f-40b4-fc0d-ca7aec185428",
        "id": "eDztbzcydI05"
      },
      "source": [
        "# Exemplo de cálculo da hipotenusa de um triângulo retângulo\n",
        "\n",
        "from math import sqrt # use 'import math' para importar o módulo inteiro\n",
        "\n",
        "ca = float(input('Cateto A: '))\n",
        "cb = float(input('\\nCateto B: '))\n",
        "hi = sqrt(ca ** 2 + cb ** 2)  # Ou ainda: (ca ** 2 + cb ** 2) ** 0.5\n",
        "print(f'\\nHipotenusa = {hi:.3f}')"
      ],
      "execution_count": null,
      "outputs": [
        {
          "output_type": "stream",
          "text": [
            "Cateto A: 4\n",
            "\n",
            "Cateto B: 3\n",
            "\n",
            "Hipotenusa = 5.000\n"
          ],
          "name": "stdout"
        }
      ]
    },
    {
      "cell_type": "code",
      "metadata": {
        "colab": {
          "base_uri": "https://localhost:8080/"
        },
        "id": "PnP4Gc9wl8KZ",
        "outputId": "6dd39909-a50e-4b30-da56-636815848e0e"
      },
      "source": [
        "# Exemplo de cálculo do seno de um ângulo em graus\n",
        "\n",
        "from math import sin, radians\n",
        "\n",
        "ang = float(input('Ângulo (graus): '))\n",
        "seno = sin(radians(ang))  # ou converter usando a fórmula: ang * 3.14 / 180\n",
        "print(f'\\nSeno de {ang:.1f}° = {seno:.3f}')"
      ],
      "execution_count": null,
      "outputs": [
        {
          "output_type": "stream",
          "name": "stdout",
          "text": [
            "Ângulo (graus): 45\n",
            "\n",
            "Seno de 45.0° = 0.707\n"
          ]
        }
      ]
    },
    {
      "cell_type": "markdown",
      "metadata": {
        "id": "dFu6GMsYpb_n"
      },
      "source": [
        "> ## **Estrutura lógica condicional (simples e composta):**\n",
        "---\n",
        "### Algoritmo: comando simples e composto.\n",
        "    se ? então\n",
        "    início\n",
        "        ...comandos...   (verdadeiro)\n",
        "    fim\n",
        "#  \n",
        "    se ? então\n",
        "    início\n",
        "        ...comandos...   (verdadeiro)\n",
        "    fim\n",
        "    senão\n",
        "    início\n",
        "        ...comandos...   (falso)\n",
        "    fim"
      ]
    },
    {
      "cell_type": "markdown",
      "metadata": {
        "id": "E80HoQzlKQ1Q"
      },
      "source": [
        " > ## **Linguagem `Python`:** o deslocamento para direita (Tab) inicia um bloco de comandos e o retorno para a coluna à esquerda finaliza o bloco.\n",
        " ---\n",
        "\n",
        "    if ?:       # Comando condicional SIMPLES\n",
        "        ...\n",
        "        ...\n",
        "#  \n",
        "    if ?:       # Comando condicional COMPOSTO\n",
        "        ...\n",
        "        ...\n",
        "    else:\n",
        "        ...\n",
        "        ...\n",
        "\n",
        "\n",
        "> ### `?` : condição (V ou F)."
      ]
    },
    {
      "cell_type": "markdown",
      "metadata": {
        "id": "mJ5B2BnLqCqN"
      },
      "source": [
        "> ### **`Condições`:**\n",
        "---\n",
        "+ ### Resultam sempre em Verdadeiro ou Falso (`True` ou `False`).\n",
        "+ ### Operadores relacionais:\n",
        " + ## `<` `<=` `>` `>=` `==` `!=`\n",
        "+ ### Operadores lógicos:\n",
        " + ## `and` (e) `or` (ou) `not` (negação)"
      ]
    },
    {
      "cell_type": "markdown",
      "metadata": {
        "id": "VmMFYk3B-rOO"
      },
      "source": [
        "> ### **Prioridade (ou precedência) de Operadores:**\n",
        "\n",
        "[https://www.inf.pucrs.br/flash/algfis/aulas/selecao/build/selecao/PrecedenceofOperators.html](https://www.inf.pucrs.br/flash/algfis/aulas/selecao/build/selecao/PrecedenceofOperators.html)"
      ]
    },
    {
      "cell_type": "markdown",
      "metadata": {
        "id": "90ZWcTa5SIDy"
      },
      "source": [
        "> ## **Exercícios:**\n",
        "---\n",
        "---"
      ]
    },
    {
      "cell_type": "markdown",
      "metadata": {
        "id": "wJ3zIZa4SaeV"
      },
      "source": [
        "> ### `1.` Programa para mostrar o maior valor entre 3 números inteiros:"
      ]
    },
    {
      "cell_type": "code",
      "metadata": {
        "colab": {
          "base_uri": "https://localhost:8080/"
        },
        "id": "LMWChkbuSHMn",
        "outputId": "9d58cbfe-f015-41c7-971b-a40ea580fbd3"
      },
      "source": [
        "a = int(input('Valor de A: '))\n",
        "b = int(input('\\nValor de B: '))\n",
        "c = int(input('\\nValor de C: '))\n",
        "\n",
        "if a > b and a > c:\n",
        "    ma = a\n",
        "elif b > c:\n",
        "    ma = b\n",
        "else:\n",
        "    ma = c\n",
        "\n",
        "print(f'\\nMaior = {ma}')"
      ],
      "execution_count": null,
      "outputs": [
        {
          "output_type": "stream",
          "name": "stdout",
          "text": [
            "Valor de A: 6\n",
            "\n",
            "Valor de B: 3\n",
            "\n",
            "Valor de C: 1\n",
            "\n",
            "Maior = 6\n"
          ]
        }
      ]
    },
    {
      "cell_type": "markdown",
      "metadata": {
        "id": "emdy9NeWaWEb"
      },
      "source": [
        "> ### `Outra forma`: algoritmo diferente."
      ]
    },
    {
      "cell_type": "code",
      "metadata": {
        "colab": {
          "base_uri": "https://localhost:8080/"
        },
        "id": "vAEikZFAaiTS",
        "outputId": "5e0cbebe-79c6-4f6d-b35d-263c65cd3936"
      },
      "source": [
        "a = int(input('Valor de A: '))\n",
        "b = int(input('\\nValor de B: '))\n",
        "c = int(input('\\nValor de C: '))\n",
        "\n",
        "ma = a\n",
        "if b > ma:\n",
        "    ma = b\n",
        "if c > ma:\n",
        "    ma = c\n",
        "\n",
        "print(f'\\nMaior = {ma}')"
      ],
      "execution_count": null,
      "outputs": [
        {
          "output_type": "stream",
          "text": [
            "Valor de A: 7\n",
            "\n",
            "Valor de B: 3\n",
            "\n",
            "Valor de C: 9\n",
            "\n",
            "Maior = 9\n"
          ],
          "name": "stdout"
        }
      ]
    },
    {
      "cell_type": "markdown",
      "metadata": {
        "id": "CZgPDw6rcqHy"
      },
      "source": [
        "> ### `2.` Cálculo da idade de uma pessoa em anos.\n",
        "\n",
        "+ #### Entrada: data de nascimento (dd/mm/aaaa)."
      ]
    },
    {
      "cell_type": "code",
      "metadata": {
        "id": "8XCET3rsdL6F",
        "colab": {
          "base_uri": "https://localhost:8080/"
        },
        "outputId": "02100a67-536b-4542-86ba-fdee73771090"
      },
      "source": [
        "# Testes:\n",
        "\n",
        "# 01/01/2000  ->  22 anos\n",
        "# 30/01/2000  ->  22 anos\n",
        "# 01/08/2000  ->  22 anos\n",
        "# 30/08/2000  ->  21 anos\n",
        "# 01/12/2000  ->  21 anos\n",
        "# 30/12/2000  ->  21 anos\n",
        "\n",
        "from datetime import datetime\n",
        "from os import environ\n",
        "from time import tzset\n",
        "\n",
        "environ['TZ'] = 'America/Sao_Paulo'\n",
        "tzset()\n",
        "data_atual = datetime.now()\n",
        "da, ma, aa = data_atual.day, data_atual.month, data_atual.year\n",
        "print(f'Data de hoje: {da}/{ma}/{aa}\\n')\n",
        "dn, mn, an = input('Data de nascimento (dd/mm/aaaa): ').split('/')\n",
        "dn, mn, an = int(dn), int(mn), int(an)\n",
        "\n",
        "idade = aa - an\n",
        "if mn > ma or (mn == ma and dn > da):\n",
        "    idade -= 1  # idade = idade - 1  (diminuir em 1)\n",
        "\n",
        "print(f'\\nIdade = {idade} anos')"
      ],
      "execution_count": null,
      "outputs": [
        {
          "output_type": "stream",
          "name": "stdout",
          "text": [
            "Data de hoje: 25/8/2022\n",
            "\n",
            "Data de nascimento (dd/mm/aaaa): 01/08/2000\n",
            "\n",
            "Idade = 22 anos\n"
          ]
        }
      ]
    },
    {
      "cell_type": "markdown",
      "metadata": {
        "id": "_ZBGu0JTihXA"
      },
      "source": [
        "> ### `3.` Criar um programa para ler 5 números reais (float) e, após a leitura, calcular e mostrar a qtde de valores negativos entre os 5 números.\n",
        "\n",
        "+ ### Usar um `contador`."
      ]
    },
    {
      "cell_type": "code",
      "source": [
        "n1 = float(input('Número 1: '))\n",
        "n2 = float(input('Número 2: '))\n",
        "n3 = float(input('Número 3: '))\n",
        "n4 = float(input('Número 4: '))\n",
        "n5 = float(input('Número 5: '))\n",
        "\n",
        "qn = 0  # qtde de negativos (contador)\n",
        "if n1 < 0:\n",
        "    qn += 1  # qn = qn + 1 (incrementar)\n",
        "if n2 < 0:\n",
        "    qn += 1\n",
        "if n3 < 0:\n",
        "    qn += 1\n",
        "if n4 < 0:\n",
        "    qn += 1\n",
        "if n5 < 0:\n",
        "    qn += 1\n",
        "\n",
        "print(f'\\nQtde de negativos = {qn}')"
      ],
      "metadata": {
        "colab": {
          "base_uri": "https://localhost:8080/"
        },
        "id": "Iv99WCChIckw",
        "outputId": "5d4b68b1-5ece-432a-fc6b-2a05f03599ba"
      },
      "execution_count": null,
      "outputs": [
        {
          "output_type": "stream",
          "name": "stdout",
          "text": [
            "Número 1: 5\n",
            "Número 2: -3\n",
            "Número 3: -2\n",
            "Número 4: 3\n",
            "Número 5: 9\n",
            "\n",
            "Qtde de negativos = 2\n"
          ]
        }
      ]
    },
    {
      "cell_type": "markdown",
      "metadata": {
        "id": "axzJjzgAncXZ"
      },
      "source": [
        "> # **Estrutura Lógica de Repetição:**\n",
        "---\n",
        "---\n",
        "+ ## Comandos de repetição:\n",
        "    + ## `while`\n",
        "    + ## `for`"
      ]
    },
    {
      "cell_type": "markdown",
      "metadata": {
        "id": "viCLnEXnSjXy"
      },
      "source": [
        "> ### Algoritmo (pseudocódigo) dos comandos enquanto (`while`) e para (`for`):\n",
        "\n",
        "    enquanto ? faça\n",
        "    início\n",
        "        ...comandos...\n",
        "    fim\n",
        "#  \n",
        "    para n de 1 até 10 faça\n",
        "    início\n",
        "        ...comandos...\n",
        "    fim"
      ]
    },
    {
      "cell_type": "markdown",
      "metadata": {
        "id": "9YdhTE2hUREo"
      },
      "source": [
        "> ## **Exemplos:**\n",
        "---"
      ]
    },
    {
      "cell_type": "markdown",
      "metadata": {
        "id": "CuPCW38bUcAm"
      },
      "source": [
        "> ### `1.` Criando uma repetição infinita."
      ]
    },
    {
      "cell_type": "code",
      "metadata": {
        "id": "Wsdfzg1fUs6Q"
      },
      "source": [
        "while True:\n",
        "    print('$', end='')"
      ],
      "execution_count": null,
      "outputs": []
    },
    {
      "cell_type": "markdown",
      "metadata": {
        "id": "cGb5ZFQWV8xX"
      },
      "source": [
        "> ### `2.` Criando uma repetição finita (contador)."
      ]
    },
    {
      "cell_type": "code",
      "metadata": {
        "colab": {
          "base_uri": "https://localhost:8080/"
        },
        "id": "b-OOE3_0WJiA",
        "outputId": "7d643a3f-f379-4c32-94ad-1385eeff1fbb"
      },
      "source": [
        "cont = 0\n",
        "while cont < 20:\n",
        "    print(cont, end=' ')\n",
        "    cont += 1  # cont = cont + 1"
      ],
      "execution_count": null,
      "outputs": [
        {
          "output_type": "stream",
          "name": "stdout",
          "text": [
            "0 1 2 3 4 5 6 7 8 9 10 11 12 13 14 15 16 17 18 19 "
          ]
        }
      ]
    },
    {
      "cell_type": "markdown",
      "metadata": {
        "id": "C605KJZfYMhr"
      },
      "source": [
        "> ### `Outra forma`: usando o comando `break`."
      ]
    },
    {
      "cell_type": "code",
      "metadata": {
        "colab": {
          "base_uri": "https://localhost:8080/"
        },
        "id": "srKApXLoYTYs",
        "outputId": "8b429bf4-687d-4726-d380-ecc3acd49de4"
      },
      "source": [
        "cont = 0\n",
        "while True:\n",
        "    print(cont, end=' ')\n",
        "    cont += 1\n",
        "    if cont > 19:\n",
        "        break  # termina a execução do while e desvia para o comando após o while"
      ],
      "execution_count": null,
      "outputs": [
        {
          "output_type": "stream",
          "name": "stdout",
          "text": [
            "0 1 2 3 4 5 6 7 8 9 10 11 12 13 14 15 16 17 18 19 "
          ]
        }
      ]
    },
    {
      "cell_type": "markdown",
      "metadata": {
        "id": "dFuCvN4kZhbI"
      },
      "source": [
        "> ### `3.` Usando o `for` para criar uma repetição finita (mesmo resultado do anterior)."
      ]
    },
    {
      "cell_type": "code",
      "metadata": {
        "colab": {
          "base_uri": "https://localhost:8080/"
        },
        "id": "R0rGJxLcZyJA",
        "outputId": "2736d5d6-3a22-49b6-ad36-fa62b8dcf582"
      },
      "source": [
        "for cont in range(20):\n",
        "    print(cont, end=' ')"
      ],
      "execution_count": null,
      "outputs": [
        {
          "output_type": "stream",
          "name": "stdout",
          "text": [
            "0 1 2 3 4 5 6 7 8 9 10 11 12 13 14 15 16 17 18 19 "
          ]
        }
      ]
    },
    {
      "cell_type": "markdown",
      "metadata": {
        "id": "1TOlZySEbbER"
      },
      "source": [
        "> ## **Exercícios:**\n",
        "---\n",
        "---"
      ]
    },
    {
      "cell_type": "markdown",
      "metadata": {
        "id": "5IGn02MBb6hx"
      },
      "source": [
        "> ### `1.` Criar um programa para somar os números inteiros de um intervalo entre **`i`** (início) e **`f`** (fim) (inclusive i e f), com **i** e **f** fornecidos pelo usuário.\n",
        "+ ### Contador e Acumulador"
      ]
    },
    {
      "cell_type": "code",
      "source": [
        "# usando o while\n",
        "\n",
        "i = int(input('Início: '))\n",
        "f = int(input('\\nFim: '))\n",
        "\n",
        "ci, cf = i, f  # cópia para ser mostrado no final\n",
        "if i > f:  # trocar i com f se i for maior\n",
        "    i, f = f, i\n",
        "\n",
        "c = i  # c é o contador e i é o início do intervalo\n",
        "s = 0  # s é o acumulador (0 é o elemento neutro da soma)\n",
        "while c <= f:  # f é o fim do intervalo\n",
        "    s += c  # s = s + c (s é o acumulador)\n",
        "    c += 1  # incrementa o contador\n",
        "\n",
        "print(f'\\nA soma entre {ci} e {cf} é igual a {s}')"
      ],
      "metadata": {
        "id": "Mv14jl7LjUOt",
        "colab": {
          "base_uri": "https://localhost:8080/"
        },
        "outputId": "24aad3b8-7b8b-40fe-f3ea-d6059c6f7c66"
      },
      "execution_count": null,
      "outputs": [
        {
          "output_type": "stream",
          "name": "stdout",
          "text": [
            "Início: 5\n",
            "\n",
            "Fim: 1\n",
            "\n",
            "A soma entre 5 e 1 é igual a 15\n"
          ]
        }
      ]
    },
    {
      "cell_type": "markdown",
      "metadata": {
        "id": "_ocmt1iynlBV"
      },
      "source": [
        "> ### `Outra forma`: usando o for."
      ]
    },
    {
      "cell_type": "code",
      "source": [
        "# usando o for\n",
        "\n",
        "i = int(input('Início: '))\n",
        "f = int(input('\\nFim: '))\n",
        "\n",
        "s = 0  # soma (acumulador)\n",
        "for c in range(i, f + 1):\n",
        "    s += c  # s = s + c\n",
        "\n",
        "print(f'\\nA soma entre {i} e {f} é igual a {s}')"
      ],
      "metadata": {
        "id": "sH1kRZ8hjVe0",
        "colab": {
          "base_uri": "https://localhost:8080/"
        },
        "outputId": "43dd2fcb-6047-45d7-d294-fbc03bc6eaa2"
      },
      "execution_count": null,
      "outputs": [
        {
          "output_type": "stream",
          "name": "stdout",
          "text": [
            "Início: 1\n",
            "\n",
            "Fim: 5\n",
            "\n",
            "A soma entre 1 e 5 é igual a 15\n"
          ]
        }
      ]
    },
    {
      "cell_type": "markdown",
      "metadata": {
        "id": "zJA7SCK7s1e6"
      },
      "source": [
        "> ### `2.` Criar uma programa para ler uma certa qtde de valores reais (`float`) e, após as leituras, mostrar a média aritmética dos números digitados. A qtde de valores é escolhida pelo usuário no início do programa.\n",
        "### Ex.:\n",
        "    Qtde de valores: 5\n",
        "    Valor 1: 6\n",
        "    Valor 2: 2\n",
        "    Valor 3: 7\n",
        "    Valor 4: 5\n",
        "    Valor 5: 1\n",
        "    Média aritmética = 4.20"
      ]
    },
    {
      "cell_type": "code",
      "metadata": {
        "id": "Fkcm785ks_2Q",
        "colab": {
          "base_uri": "https://localhost:8080/"
        },
        "outputId": "439ecbf0-1d92-40cd-d3c0-1d498f5c777d"
      },
      "source": [
        "qv = int(input('Qtde de valores: '))\n",
        "print() # salta uma linha\n",
        "s = 0  # soma dos valores (acumulador)\n",
        "for i in range(qv):  # repete qv vezes\n",
        "    val = float(input(f'Valor {i + 1}: '))\n",
        "    s += val\n",
        "\n",
        "ma = s / qv  # cálculo da média\n",
        "print(f'\\nMédia aritmética = {ma:.2f}')"
      ],
      "execution_count": null,
      "outputs": [
        {
          "output_type": "stream",
          "name": "stdout",
          "text": [
            "Qtde de valores: 5\n",
            "\n",
            "Valor 1: 5\n",
            "Valor 2: 3\n",
            "Valor 3: 7\n",
            "Valor 4: 6\n",
            "Valor 5: 2\n",
            "\n",
            "Média aritmética = 4.60\n"
          ]
        }
      ]
    },
    {
      "cell_type": "markdown",
      "metadata": {
        "id": "jZlDvgrmtHNs"
      },
      "source": [
        "\n",
        "> ### `3.` Criar um programa para ler 8 valores inteiros (`int`) e, após as leituras, mostrar o produto (multiplicação) dos números negativos. Se não tiver números negativos, deve ser mostrada uma msg ao usuário."
      ]
    },
    {
      "cell_type": "code",
      "source": [
        "p = 1  # valor inicial de produto é o 1 (elemento neutro da multiplicação)\n",
        "neg = False  # flag que indica se há negativos\n",
        "for i in range(8):\n",
        "    val = int(input(f'Valor {i + 1}: '))\n",
        "    if val < 0:\n",
        "        p *= val  # p = p * val\n",
        "        neg = True\n",
        "\n",
        "if neg:\n",
        "    print(f'\\nProduto dos valores negativos = {p}')\n",
        "else:\n",
        "    print('\\nNão há valores negativos')"
      ],
      "metadata": {
        "colab": {
          "base_uri": "https://localhost:8080/"
        },
        "id": "P3__qjC6EJxG",
        "outputId": "26691b53-a54c-4f8b-c252-e7e09570fcda"
      },
      "execution_count": null,
      "outputs": [
        {
          "output_type": "stream",
          "name": "stdout",
          "text": [
            "Valor 1: 3\n",
            "Valor 2: 2\n",
            "Valor 3: 5\n",
            "Valor 4: 4\n",
            "Valor 5: 6\n",
            "Valor 6: 7\n",
            "Valor 7: 2\n",
            "Valor 8: 4\n",
            "\n",
            "Não há valores negativos\n"
          ]
        }
      ]
    },
    {
      "cell_type": "markdown",
      "metadata": {
        "id": "l6OtqQhqqwXw"
      },
      "source": [
        "> ### `4.` Criar um programa para ler 7 números inteiros e, após as leituras, mostrar a qtde de valores pares e a qtde de valores ímpares entre os 7 números."
      ]
    },
    {
      "cell_type": "code",
      "source": [
        "qp = qi = 0\n",
        "for i in range(7):\n",
        "    val = int(input(f'Valor {i + 1}: '))\n",
        "    if val % 2 == 0:  # verifica se val é par (resto zero -> múltiplo de 2)\n",
        "        qp += 1\n",
        "    else:\n",
        "        qi += 1\n",
        "\n",
        "print(f'\\nQtde de pares = {qp}\\n\\nQtde de ímpares = {qi}')"
      ],
      "metadata": {
        "id": "RQMdrR44WgPm",
        "colab": {
          "base_uri": "https://localhost:8080/"
        },
        "outputId": "c88b0f61-76ca-46d4-ec2a-b19cb45e9cad"
      },
      "execution_count": null,
      "outputs": [
        {
          "output_type": "stream",
          "name": "stdout",
          "text": [
            "Valor 1: 5\n",
            "Valor 2: 8\n",
            "Valor 3: 1\n",
            "Valor 4: 25\n",
            "Valor 5: 56\n",
            "Valor 6: 90\n",
            "Valor 7: 101\n",
            "\n",
            "Qtde de pares = 3\n",
            "\n",
            "Qtde de ímpares = 4\n"
          ]
        }
      ]
    },
    {
      "cell_type": "markdown",
      "metadata": {
        "id": "OUBl1ucBu4_t"
      },
      "source": [
        "> ### `Outra forma`: calculando apenas um deles (par, por exemplo)."
      ]
    },
    {
      "cell_type": "code",
      "metadata": {
        "colab": {
          "base_uri": "https://localhost:8080/"
        },
        "id": "Ou9He2T-vDdZ",
        "outputId": "5d4813b3-fc45-4197-d8f3-6528e4dd8a95"
      },
      "source": [
        "qp = 0\n",
        "for i in range(7):\n",
        "    val = int(input(f'Valor {i + 1}: '))\n",
        "    if val % 2 == 0:  # verifica se val é par (resto zero -> múltiplo de 2)\n",
        "        qp += 1\n",
        "\n",
        "qi = 7 - qp  # qtde de ímpares é o complemento em relação ao total (7)\n",
        "print(f'\\nQtde de pares = {qp}\\n\\nQtde de ímpares = {qi}')"
      ],
      "execution_count": null,
      "outputs": [
        {
          "output_type": "stream",
          "name": "stdout",
          "text": [
            "Valor 1: 2\n",
            "Valor 2: 5\n",
            "Valor 3: 1\n",
            "Valor 4: 9\n",
            "Valor 5: 8\n",
            "Valor 6: 6\n",
            "Valor 7: 3\n",
            "\n",
            "Qtde de pares = 3\n",
            "\n",
            "Qtde de ímpares = 4\n"
          ]
        }
      ]
    },
    {
      "cell_type": "markdown",
      "metadata": {
        "id": "VEqi0ClSr7PO"
      },
      "source": [
        "> ### `5.` Criar um programa para mostrar a tabuada de um número inteiro fornecido pelo usuário.\n",
        "### Exemplo de execução do programa:\n",
        "    Valor inteiro: 5\n",
        "\n",
        "    Tabuada do 5:\n",
        "\n",
        "    5 x 1 = 5\n",
        "    5 x 2 = 10\n",
        "    5 x 3 = 15\n",
        "    5 x 4 = 20\n",
        "    5 x 5 = 25\n",
        "    5 x 6 = 30\n",
        "    5 x 7 = 35\n",
        "    5 x 8 = 40\n",
        "    5 x 9 = 45\n",
        "    5 x 10 = 50"
      ]
    },
    {
      "cell_type": "code",
      "source": [
        "n = int(input('Valor inteiro: '))\n",
        "print(f'\\nTabuada do {n}:\\n')\n",
        "for i in range(1, 11):  # repetição de 1 a 10\n",
        "    print(f'{n} x {i} = {n * i}')"
      ],
      "metadata": {
        "id": "nH7q66hpWl68",
        "colab": {
          "base_uri": "https://localhost:8080/"
        },
        "outputId": "350ff9f9-55ec-40e0-f9fd-d91d8f15fe81"
      },
      "execution_count": null,
      "outputs": [
        {
          "output_type": "stream",
          "name": "stdout",
          "text": [
            "Valor inteiro: 5\n",
            "\n",
            "Tabuada do 5:\n",
            "\n",
            "5 x 1 = 5\n",
            "5 x 2 = 10\n",
            "5 x 3 = 15\n",
            "5 x 4 = 20\n",
            "5 x 5 = 25\n",
            "5 x 6 = 30\n",
            "5 x 7 = 35\n",
            "5 x 8 = 40\n",
            "5 x 9 = 45\n",
            "5 x 10 = 50\n"
          ]
        }
      ]
    },
    {
      "cell_type": "markdown",
      "metadata": {
        "id": "37z93DBTsj_e"
      },
      "source": [
        "> ### `6.` Criar um programa para ler 8 valores reais (`float`) e, após as leituras, mostrar a média aritmética dos valores positivos (maiores que zero). Mostrar uma mensagem se não tiver valores positivos."
      ]
    },
    {
      "cell_type": "code",
      "source": [
        "sp = qp = 0\n",
        "for i in range(8):\n",
        "    val = float(input(f'Valor {i + 1}: '))\n",
        "    if val > 0:\n",
        "        sp += val  # acumulador\n",
        "        qp += 1\n",
        "\n",
        "if qp > 0:\n",
        "    ma = sp / qp\n",
        "    print(f'\\nMédia aritmética dos positivos = {ma:.3f}')\n",
        "else:\n",
        "    print('\\nNão há valores positivos.')"
      ],
      "metadata": {
        "colab": {
          "base_uri": "https://localhost:8080/"
        },
        "id": "PloBqcsSLzZV",
        "outputId": "8a1cc076-3a3e-4847-d054-4d1b2295dc76"
      },
      "execution_count": null,
      "outputs": [
        {
          "output_type": "stream",
          "name": "stdout",
          "text": [
            "Valor 1: 3\n",
            "Valor 2: -9\n",
            "Valor 3: 0\n",
            "Valor 4: 7\n",
            "Valor 5: 11\n",
            "Valor 6: -2\n",
            "Valor 7: 0\n",
            "Valor 8: -2\n",
            "\n",
            "Média aritmética dos positivos = 7.000\n"
          ]
        }
      ]
    },
    {
      "cell_type": "markdown",
      "metadata": {
        "id": "yorp8qoLs-bi"
      },
      "source": [
        "> ### `7.` Criar um programa para ler 8 valores reais (`float`) e, após as leituras, mostrar o **menor** e o **maior** valor digitado pelo usuário."
      ]
    },
    {
      "cell_type": "code",
      "source": [
        "me = float('inf')  # \"infinito\" para valor inicial do menor\n",
        "ma = float('-inf')  # \"infinito\" negativo para valor inicial do maior\n",
        "for i in range(8):\n",
        "    val = float(input(f'Valor {i + 1}: '))\n",
        "    if val < me:\n",
        "        me = val\n",
        "    if val > ma:\n",
        "        ma = val\n",
        "\n",
        "print(f'\\nMenor = {me}\\n\\nMaior = {ma}')"
      ],
      "metadata": {
        "colab": {
          "base_uri": "https://localhost:8080/"
        },
        "id": "52wAsIEwSXOa",
        "outputId": "ea67ff96-0b9e-4cb4-ce61-56e6e77e4605"
      },
      "execution_count": null,
      "outputs": [
        {
          "output_type": "stream",
          "name": "stdout",
          "text": [
            "Valor 1: 5\n",
            "Valor 2: -10\n",
            "Valor 3: 100\n",
            "Valor 4: 50\n",
            "Valor 5: -30\n",
            "Valor 6: 200\n",
            "Valor 7: 10\n",
            "Valor 8: 1\n",
            "\n",
            "Menor = -30.0\n",
            "\n",
            "Maior = 200.0\n"
          ]
        }
      ]
    },
    {
      "cell_type": "markdown",
      "source": [
        "> ### `Outra forma`: lendo o primeiro valor separadamente."
      ],
      "metadata": {
        "id": "xRIDcvl2jiQz"
      }
    },
    {
      "cell_type": "code",
      "source": [
        "me = ma = float(input(f'Valor 1: '))\n",
        "for i in range(1, 8):\n",
        "    val = float(input(f'Valor {i + 1}: '))\n",
        "    if val < me:\n",
        "        me = val\n",
        "    elif val > ma:\n",
        "        ma = val\n",
        "\n",
        "print(f'\\nMenor = {me}\\n\\nMaior = {ma}')"
      ],
      "metadata": {
        "colab": {
          "base_uri": "https://localhost:8080/"
        },
        "id": "waNby6Gri3eB",
        "outputId": "2d1b792e-22d4-44b2-ffaf-68f89834a98d"
      },
      "execution_count": null,
      "outputs": [
        {
          "output_type": "stream",
          "name": "stdout",
          "text": [
            "Valor 1: 5\n",
            "Valor 2: 8\n",
            "Valor 3: 1\n",
            "Valor 4: 10\n",
            "Valor 5: -5\n",
            "Valor 6: 23\n",
            "Valor 7: 7\n",
            "Valor 8: 12\n",
            "\n",
            "Menor = -5.0\n",
            "\n",
            "Maior = 23.0\n"
          ]
        }
      ]
    },
    {
      "cell_type": "markdown",
      "metadata": {
        "id": "ZhrKJk1ywiod"
      },
      "source": [
        "> ### `8.` Fulano tem 1 m de altura e Ciclano tem 1,4 m de altura. Fulano cresce 3 cm por ano e Ciclano cresce 2 cm por ano. Quantos anos serão necessários para que Fulano fique mais alto que Ciclano?\n",
        "> ### Crie um programa para realizar o cálculo."
      ]
    },
    {
      "cell_type": "code",
      "source": [
        "f = 100\n",
        "c = 140\n",
        "qa = 0  # qtde de anos\n",
        "while f <= c:\n",
        "    f += 3\n",
        "    c += 2\n",
        "    qa += 1  # contador de anos\n",
        "\n",
        "print(f'\\nQtde de anos = {qa}')"
      ],
      "metadata": {
        "id": "Pf92HeLzj5re",
        "colab": {
          "base_uri": "https://localhost:8080/"
        },
        "outputId": "fbdb2c34-0127-49d8-8d68-4bea2750d5fb"
      },
      "execution_count": null,
      "outputs": [
        {
          "output_type": "stream",
          "name": "stdout",
          "text": [
            "\n",
            "Qtde de anos = 41\n"
          ]
        }
      ]
    },
    {
      "cell_type": "markdown",
      "metadata": {
        "id": "IjtPxyy_o4LU"
      },
      "source": [
        "> ### `9.` Criar um programa para calcular e mostrar o fatorial de um número N qualquer (N!), com N fornecido pelo usuário.\n",
        "> ### N! = N . (N - 1) . (N - 2) ... 1\n",
        "### Exemplo:\n",
        "    Valor de N: 5\n",
        "\n",
        "    5! = 120\n"
      ]
    },
    {
      "cell_type": "code",
      "source": [
        "n = int(input('Valor de N: '))\n",
        "f = 1\n",
        "print(f'\\n{n}! = ', end='')\n",
        "for x in range(n, 0, -1):  # de n até 1\n",
        "    if x > 1:\n",
        "        print(f'{x} . ', end='')\n",
        "    f *= x  # f = f * x\n",
        "\n",
        "print(f'1 = {f}')"
      ],
      "metadata": {
        "id": "RWLBUW42qUCw",
        "colab": {
          "base_uri": "https://localhost:8080/"
        },
        "outputId": "d4f43166-ce00-47da-f898-dfc448ae7183"
      },
      "execution_count": null,
      "outputs": [
        {
          "output_type": "stream",
          "name": "stdout",
          "text": [
            "Valor de N: 7\n",
            "\n",
            "7! = 7 . 6 . 5 . 4 . 3 . 2 . 1 = 5040\n"
          ]
        }
      ]
    },
    {
      "cell_type": "markdown",
      "metadata": {
        "id": "nycHoX4H2rHi"
      },
      "source": [
        "> ### `10.` Criar um programa para ler a idade (em anos) de 7 pessoas e, após as leituras, mostrar a idade da pessoa mais nova (menor idade)."
      ]
    },
    {
      "cell_type": "code",
      "source": [
        "meid = 1000  # valor inicial alto (bem acima dos valores permitidos para a entrada)\n",
        "for i in range(7):\n",
        "    id = int(input(f'Idade da {i + 1}ª pessoa: '))\n",
        "    if id < meid:\n",
        "        meid = id\n",
        "\n",
        "print(f'\\nIdade da pessoa mais nova = {meid} anos')"
      ],
      "metadata": {
        "id": "BRZoNpbyo5tr",
        "colab": {
          "base_uri": "https://localhost:8080/"
        },
        "outputId": "b9160950-8615-48bf-ff9c-c09984b06134"
      },
      "execution_count": null,
      "outputs": [
        {
          "output_type": "stream",
          "name": "stdout",
          "text": [
            "Idade da 1ª pessoa: 60\n",
            "Idade da 2ª pessoa: 45\n",
            "Idade da 3ª pessoa: 78\n",
            "Idade da 4ª pessoa: 12\n",
            "Idade da 5ª pessoa: 43\n",
            "Idade da 6ª pessoa: 67\n",
            "Idade da 7ª pessoa: 25\n",
            "\n",
            "Idade da pessoa mais nova = 12 anos\n"
          ]
        }
      ]
    },
    {
      "cell_type": "markdown",
      "metadata": {
        "id": "6vpjfRJf28XT"
      },
      "source": [
        "> ### `11.` Criar um programa para ler a idade e o peso de 5 pessoas e resolver:\n",
        "+ ### Calcular e mostrar a qtde de pessoas com idade entre 10 e 50 anos (inclusive o 10 e o 50).\n",
        "+ ### Calcular e mostrar o menor peso das pessoas idosas (60 anos ou mais). Se não tiver idosos, mostrar uma msg."
      ]
    },
    {
      "cell_type": "code",
      "source": [
        "q1050 = 0\n",
        "mepid = float('inf')  # valor alto no início\n",
        "for i in range(5):\n",
        "    print(f'{i + 1}ª Pessoa:')\n",
        "    idade = int(input('Idade (anos): '))\n",
        "    peso = float(input('Peso (Kg): '))\n",
        "    print('-' * 20)\n",
        "\n",
        "    if idade >= 10 and idade <= 50:\n",
        "        q1050 += 1\n",
        "\n",
        "    if idade >= 60 and peso < mepid:\n",
        "        mepid = peso\n",
        "\n",
        "print(f'\\nQtde de pessoas com idade entre 10 e 50 anos = {q1050}')\n",
        "if mepid != float('inf'):\n",
        "    print(f'\\nMenor peso dos idosos = {mepid:.1f} Kg')\n",
        "else:\n",
        "    print('\\nNão há idosos!')"
      ],
      "metadata": {
        "colab": {
          "base_uri": "https://localhost:8080/"
        },
        "id": "-BYxyCG2QFlg",
        "outputId": "5d28f5f4-d55f-4205-d0e6-4d2c95b95b61"
      },
      "execution_count": null,
      "outputs": [
        {
          "output_type": "stream",
          "name": "stdout",
          "text": [
            "1ª Pessoa:\n",
            "Idade (anos): 60\n",
            "Peso (Kg): 80\n",
            "--------------------\n",
            "2ª Pessoa:\n",
            "Idade (anos): 10\n",
            "Peso (Kg): 40\n",
            "--------------------\n",
            "3ª Pessoa:\n",
            "Idade (anos): 80\n",
            "Peso (Kg): 77\n",
            "--------------------\n",
            "4ª Pessoa:\n",
            "Idade (anos): 35\n",
            "Peso (Kg): 67\n",
            "--------------------\n",
            "5ª Pessoa:\n",
            "Idade (anos): 26\n",
            "Peso (Kg): 60\n",
            "--------------------\n",
            "\n",
            "Qtde de pessoas com idade entre 10 e 50 anos = 3\n",
            "\n",
            "Menor peso dos idosos = 77.0 Kg\n"
          ]
        }
      ]
    },
    {
      "cell_type": "markdown",
      "metadata": {
        "id": "Hyf14wCY3fNG"
      },
      "source": [
        "> ### `12.` Criar um programa para mostrar os N primeiros termos da sequência de Fibonacci, com N fornecido pelo usuário.\n",
        "\n",
        "### Sequência de Fibonacci: 1 1 2 3 5 8 13 21 ...\n",
        "+ ### O próximo valor é a soma dos dois anteriores."
      ]
    },
    {
      "cell_type": "code",
      "source": [
        "n = int(input('Qtde de termos da sequência de Fibonacci: '))\n",
        "print('\\nSequência de Fibonacci: ', end='')\n",
        "a = 0\n",
        "b = 1\n",
        "for i in range(n):\n",
        "    print(b, end=' ')\n",
        "    p = a + b  # próximo\n",
        "    a = b\n",
        "    b = p"
      ],
      "metadata": {
        "colab": {
          "base_uri": "https://localhost:8080/"
        },
        "id": "yRXDZX3lcZJl",
        "outputId": "e04ee092-73e7-4940-ed36-77ec55f8f852"
      },
      "execution_count": null,
      "outputs": [
        {
          "output_type": "stream",
          "name": "stdout",
          "text": [
            "Qtde de termos da sequência de Fibonacci: 5\n",
            "\n",
            "Sequência de Fibonacci: 1 1 2 3 5 "
          ]
        }
      ]
    },
    {
      "cell_type": "markdown",
      "metadata": {
        "id": "wtsQtO49pjAf"
      },
      "source": [
        "> ### `Outra forma`: usando atribuições múltiplas da linguagem Python."
      ]
    },
    {
      "cell_type": "code",
      "metadata": {
        "colab": {
          "base_uri": "https://localhost:8080/"
        },
        "id": "UMhQvIq4psrf",
        "outputId": "11da6f78-962f-4c05-decf-b1444b8069fa"
      },
      "source": [
        "n = int(input('Qtde de termos da sequência de Fibonacci: '))\n",
        "print('\\nSequência de Fibonacci: ', end='')\n",
        "a, b = 0, 1\n",
        "for i in range(n):\n",
        "    print(b, end=' ')\n",
        "    a, b = b, a + b"
      ],
      "execution_count": null,
      "outputs": [
        {
          "output_type": "stream",
          "name": "stdout",
          "text": [
            "Qtde de termos da sequência de Fibonacci: 5\n",
            "\n",
            "Sequência de Fibonacci: 1 1 2 3 5 "
          ]
        }
      ]
    },
    {
      "cell_type": "markdown",
      "metadata": {
        "id": "1hfCT7DarX-N"
      },
      "source": [
        "> ### `13.` Em uma eleição existem três candidatos e voto em branco. Crie um programa para ler o número total de eleitores, mostrar as opções de voto e ler o voto de cada eleitor. Após a votação, mostrar o número de votos de cada candidato e os votos em branco.\n",
        "### `Desafio`: calcular a % de votos de cada candidato e também dos votos em branco.\n",
        "### Exemplo de interface do programa:\n",
        "    Opções:\n",
        "    1 - Candidato 1\n",
        "    2 - Candidato 2\n",
        "    3 - Candidato 3\n",
        "    4 - Branco\n",
        "    Voto do 1º eleitor:"
      ]
    },
    {
      "cell_type": "code",
      "source": [
        "from IPython.display import clear_output\n",
        "\n",
        "c1 = c2 = c3 = br = 0  # contadores\n",
        "te = int(input('Total de eleitores: '))\n",
        "for e in range(te):\n",
        "    clear_output(True)\n",
        "    print('Eleição\\n-------\\n')\n",
        "    print('1 - Candidato 1')\n",
        "    print('2 - Candidato 2')\n",
        "    print('3 - Candidato 3')\n",
        "    print('4 - Branco')\n",
        "    voto = int(input(f'\\nVoto do {e + 1}º eleitor: '))\n",
        "    if voto == 1:\n",
        "        c1 += 1\n",
        "    elif voto == 2:\n",
        "        c2 += 1\n",
        "    elif voto == 3:\n",
        "        c3 += 1\n",
        "    elif voto == 4:\n",
        "        br += 1\n",
        "clear_output(True)\n",
        "print('Resultados da eleição:\\n')\n",
        "print(f'Candidato 1: {c1} votos - {c1 / te * 100:.1f}%')\n",
        "print(f'Candidato 2: {c2} votos - {c2 / te * 100:.1f}%')\n",
        "print(f'Candidato 3: {c3} votos - {c3 / te * 100:.1f}%')\n",
        "print(f'Brancos: {br} votos - {br / te * 100:.1f}%')"
      ],
      "metadata": {
        "id": "zMFIDInirbsD",
        "colab": {
          "base_uri": "https://localhost:8080/"
        },
        "outputId": "491f38e2-4525-463e-e475-bdc56c0a4797"
      },
      "execution_count": null,
      "outputs": [
        {
          "output_type": "stream",
          "name": "stdout",
          "text": [
            "Resultados da eleição:\n",
            "\n",
            "Candidato 1: 3 votos - 42.9%\n",
            "Candidato 2: 2 votos - 28.6%\n",
            "Candidato 3: 1 votos - 14.3%\n",
            "Brancos: 1 votos - 14.3%\n"
          ]
        }
      ]
    },
    {
      "cell_type": "markdown",
      "metadata": {
        "id": "5CTY_Jp7n4fJ"
      },
      "source": [
        "> ### `Outra forma`: total de eleitores desconhecido."
      ]
    },
    {
      "cell_type": "code",
      "metadata": {
        "colab": {
          "base_uri": "https://localhost:8080/"
        },
        "id": "X8wndM62oCLM",
        "outputId": "f41a7340-833f-4589-b425-f222ea625ab4"
      },
      "source": [
        "from IPython.display import clear_output\n",
        "\n",
        "c1 = c2 = c3 = br = nu = 0  # contadores de votos\n",
        "e = 1  # contador de eleitores\n",
        "while True:\n",
        "    clear_output(True)\n",
        "    print('Eleição\\n-------\\n')\n",
        "    print('1 - Candidato 1')\n",
        "    print('2 - Candidato 2')\n",
        "    print('3 - Candidato 3')\n",
        "    print('4 - Branco')\n",
        "    print('5 - Sair e ver resultados')\n",
        "    voto = int(input(f'\\nVoto do {e}º eleitor: '))\n",
        "    e += 1\n",
        "    if voto == 1:\n",
        "        c1 += 1\n",
        "    elif voto == 2:\n",
        "        c2 += 1\n",
        "    elif voto == 3:\n",
        "        c3 += 1\n",
        "    elif voto == 4:\n",
        "        br += 1\n",
        "    elif voto == 5:\n",
        "        break  # sair do while\n",
        "    else:\n",
        "        nu += 1\n",
        "tv = c1 + c2 + c3  # total de votos válidos\n",
        "clear_output(True)\n",
        "print('Resultados da eleição:\\n')\n",
        "print(f'Candidato 1: {c1} votos - {c1 / tv * 100:.1f}%')\n",
        "print(f'Candidato 2: {c2} votos - {c2 / tv * 100:.1f}%')\n",
        "print(f'Candidato 3: {c3} votos - {c3 / tv * 100:.1f}%')\n",
        "print(f'Brancos: {br} votos')\n",
        "print(f'Nulos: {nu} votos')\n",
        "print(f'\\nTotal de votos válidos: {tv}')"
      ],
      "execution_count": null,
      "outputs": [
        {
          "output_type": "stream",
          "name": "stdout",
          "text": [
            "Resultados da eleição:\n",
            "\n",
            "Candidato 1: 4 votos - 40.0%\n",
            "Candidato 2: 3 votos - 30.0%\n",
            "Candidato 3: 3 votos - 30.0%\n",
            "Brancos: 2 votos\n",
            "Nulos: 4 votos\n",
            "\n",
            "Total de votos válidos: 10\n"
          ]
        }
      ]
    },
    {
      "cell_type": "markdown",
      "metadata": {
        "id": "eet1wPvysMlg"
      },
      "source": [
        "> ### **`14.`** Crie um programa para ler um número inteiro e, após a leitura, mostrar se o número é PRIMO ou não.\n",
        "### `Regra matemática`: número primo é divisível por 1 e por ele mesmo, APENAS. ** Exceção: número 1.\n",
        "### `Regra na programação`: todos são primos e devemos verificar se há divisores entre 2 e a metade inteira (quociente da divisão por 2) do número escolhido pelo usuário. Se houver, NÃO é primo."
      ]
    },
    {
      "cell_type": "code",
      "metadata": {
        "id": "cmGzPLYOsjan",
        "colab": {
          "base_uri": "https://localhost:8080/"
        },
        "outputId": "90407f2f-e41e-462f-d48c-20c3eae704da"
      },
      "source": [
        "n = int(input('Número inteiro: '))\n",
        "primo = True  # flag para afirmar que n é primo\n",
        "for x in range(2, n // 2 + 1):  # percorre os possíveis divisores de n\n",
        "    if n % x == 0:\n",
        "        primo = False\n",
        "        break  # sair da repetição, pois já encontrou um divisor\n",
        "\n",
        "if primo and n != 1:\n",
        "    print(f'\\n{n} é primo')\n",
        "else:\n",
        "    print(f'\\n{n} não é primo')"
      ],
      "execution_count": null,
      "outputs": [
        {
          "output_type": "stream",
          "name": "stdout",
          "text": [
            "Número inteiro: 17\n",
            "\n",
            "17 é primo\n"
          ]
        }
      ]
    },
    {
      "cell_type": "markdown",
      "metadata": {
        "id": "ubgwkqY1xNHr"
      },
      "source": [
        "> ### `Extra`: mostrar todos os números primos em um intervalo, com início e fim fornecidos pelo usuário."
      ]
    },
    {
      "cell_type": "code",
      "source": [
        "i = int(input('Início do intervalo: '))\n",
        "f = int(input('Fim do intervalo: '))\n",
        "\n",
        "print(f'\\nNúmeros primos entre {i} e {f}: ', end='')\n",
        "for n in range(i, f + 1):  # percorre o intervalo de i a f\n",
        "    primo = True  # flag para afirmar que n é primo\n",
        "    for x in range(2, n // 2 + 1):  # percorre os possíveis divisores de n\n",
        "        if n % x == 0:\n",
        "            primo = False\n",
        "            break  # sair da repetição, pois já encontrou um divisor\n",
        "\n",
        "    if primo and n != 1:\n",
        "        print(n, end=' ')  # print(f'{n} ')"
      ],
      "metadata": {
        "id": "bMENKHoFvpmK",
        "colab": {
          "base_uri": "https://localhost:8080/"
        },
        "outputId": "5e8f2f85-827e-44a9-9a0c-09552bd62fb5"
      },
      "execution_count": null,
      "outputs": [
        {
          "output_type": "stream",
          "name": "stdout",
          "text": [
            "Início do intervalo: 1\n",
            "Fim do intervalo: 100\n",
            "\n",
            "Números primos entre 1 e 100: 2 3 5 7 11 13 17 19 23 29 31 37 41 43 47 53 59 61 67 71 73 79 83 89 97 "
          ]
        }
      ]
    },
    {
      "cell_type": "markdown",
      "metadata": {
        "id": "XtFXDXZkoS0p"
      },
      "source": [
        "> ### **`15.`** Crie um programa para gerar e mostrar 10 números inteiros e aleatórios entre 1 e 1000."
      ]
    },
    {
      "cell_type": "code",
      "metadata": {
        "colab": {
          "base_uri": "https://localhost:8080/"
        },
        "id": "f-sSdVLuoh1a",
        "outputId": "63511ea8-a1af-43c6-9e42-1b2678f05134"
      },
      "source": [
        "from random import randint\n",
        "\n",
        "for i in range(10):\n",
        "    print(randint(1, 1000), end=' ')"
      ],
      "execution_count": null,
      "outputs": [
        {
          "output_type": "stream",
          "name": "stdout",
          "text": [
            "530 87 114 71 147 966 806 556 502 4 "
          ]
        }
      ]
    },
    {
      "cell_type": "markdown",
      "metadata": {
        "id": "NqEJyngKrIPp"
      },
      "source": [
        "> ## **Jogo**: acerte o número.\n",
        "---\n",
        "### Regras:\n",
        "### `CPU`: gerar um número aleatório entre 1 e 100.\n",
        "### `Jogador`: o objetivo é acertar o número gerado no menor número de tentativas possível.\n",
        "### Detalhes:\n",
        "+ #### A cada tentativa com erro, o jogo deve informar se o valor \"pensado\" pela CPU é **menor** ou **maior** que o valor digitado pelo jogador.\n",
        "+ #### Após o acerto, mostrar a qtde de tentativas que o jogador realizou e, durante o jogo, mostrar qual a tentativa o jogador está realizando no momento."
      ]
    },
    {
      "cell_type": "code",
      "source": [
        "from IPython.display import clear_output\n",
        "from random import randint\n",
        "from time import sleep\n",
        "\n",
        "while True:  # repete o jogo\n",
        "    clear_output(True)\n",
        "    cpu = randint(1, 100)  # gerar número aleatório entre 1 e 100\n",
        "    tent = 1\n",
        "    while True:  # repete as tentativas\n",
        "        print('A CPU gerou um número entre 1 e 100.\\nTente acertar o número...\\n\\n')\n",
        "        jog = int(input(f'Tentativa {tent}: '))\n",
        "        if cpu < jog:\n",
        "            print('\\nO valor é MENOR...\\n')\n",
        "        elif cpu > jog:\n",
        "            print('\\nO valor é MAIOR...\\n')\n",
        "        else:  # ganhou o jogo\n",
        "            print(f'\\nACERTOU o número em {tent} tentativas!!!')\n",
        "            break\n",
        "        tent += 1  # avança para próxima tentativa\n",
        "        sleep(1.5)  # espera 1 segundo e meio antes de continuar o programa\n",
        "        clear_output(True)\n",
        "\n",
        "    op = input('\\n\\nJogar novamente (sim ou não)?')\n",
        "    if op == 'não':\n",
        "        break"
      ],
      "metadata": {
        "colab": {
          "base_uri": "https://localhost:8080/"
        },
        "id": "TDbxKilgPREK",
        "outputId": "90a46e22-3d5f-495f-bf2b-ff726c45a93d"
      },
      "execution_count": null,
      "outputs": [
        {
          "name": "stdout",
          "output_type": "stream",
          "text": [
            "A CPU gerou um número entre 1 e 100.\n",
            "Tente acertar o número...\n",
            "\n",
            "\n",
            "Tentativa 7: 57\n",
            "\n",
            "ACERTOU o número em 7 tentativas!!!\n",
            "\n",
            "\n",
            "Jogar novamente (sim ou não)?não\n"
          ]
        }
      ]
    },
    {
      "cell_type": "markdown",
      "metadata": {
        "id": "LXwjvPGim6kf"
      },
      "source": [
        "> # **Strings** (textos): \"listas\" de caracteres.\n",
        "---\n",
        "---"
      ]
    },
    {
      "cell_type": "markdown",
      "metadata": {
        "id": "_TMTrMbMnVZx"
      },
      "source": [
        "> ## Principais operações com strings:\n",
        "---"
      ]
    },
    {
      "cell_type": "code",
      "metadata": {
        "colab": {
          "base_uri": "https://localhost:8080/"
        },
        "id": "QrKXnKJXnY1j",
        "outputId": "b2142862-9908-4ed0-cc01-3cc03216d143"
      },
      "source": [
        "curso = 'Ciência da Computação'  # atribuição de uma string (texto) a uma variável\n",
        "print(curso, type(curso))\n",
        "\n",
        "curso = ''  # limpar uma string\n",
        "print(curso)  # nada é mostrado\n",
        "\n",
        "cidade = 'Franca' + '-' + 'SP'  # concatenar strings constantes\n",
        "print(cidade)\n",
        "\n",
        "cid = 'Franca'\n",
        "est = 'SP'\n",
        "cidade = cid + '-' * 5 + est  # concatenar variáveis do tipo string e multiplicar strings\n",
        "print(cidade)\n",
        "\n",
        "curso = 'Ciência da Computação'\n",
        "for i in range(len(curso)):  # len calcula a qtde de elementos na string\n",
        "    print(curso[i], end = ' ')\n",
        "\n",
        "print()\n",
        "for c in curso:  # percorre a string e atribui a c cada caractere\n",
        "    print(c, end=' ')\n",
        "\n",
        "print()\n",
        "texto = 'texto'\n",
        "for i, c in enumerate(texto):\n",
        "    print(i, c)\n",
        "\n",
        "# NÃO É POSSÍVEL modificar uma posição da string através do seu índice\n",
        "\n",
        "# curso = 'Ciência da Computação'\n",
        "# curso[6] = '@'  # proibido modificar um posição através do índice\n",
        "# print(curso)\n",
        "\n",
        "curso = 'Ciência da Computação'\n",
        "curso = list(curso)  # list converte a string em uma lista de caracteres\n",
        "curso[6] = '@'\n",
        "curso = ''.join(curso)  # join agrupa o elementos da lista em uma string\n",
        "print(curso)\n",
        "\n",
        "# Recortes em strings (recurso muito usado em Python)\n",
        "\n",
        "curso = 'Ciência da Computação'\n",
        "print(curso[:])  # O operador : indica TODOS os caracteres (o mesmo que curso)\n",
        "print(curso[:5])  # os 5 primeiros\n",
        "print(curso[8:])  # do 9º ao último\n",
        "print(curso[4:7])  # do 5º ao 7º valor\n",
        "print(curso[len(curso) - 1])  # último caractere\n",
        "print(curso[-1])  # último caractere"
      ],
      "execution_count": null,
      "outputs": [
        {
          "output_type": "stream",
          "name": "stdout",
          "text": [
            "Ciência da Computação <class 'str'>\n",
            "\n",
            "Franca-SP\n",
            "Franca-----SP\n",
            "C i ê n c i a   d a   C o m p u t a ç ã o \n",
            "C i ê n c i a   d a   C o m p u t a ç ã o \n",
            "0 t\n",
            "1 e\n",
            "2 x\n",
            "3 t\n",
            "4 o\n",
            "Ciênci@ da Computação\n",
            "Ciência da Computação\n",
            "Ciênc\n",
            "da Computação\n",
            "cia\n",
            "o\n",
            "o\n"
          ]
        }
      ]
    },
    {
      "cell_type": "markdown",
      "metadata": {
        "id": "lVASIKPG0DHo"
      },
      "source": [
        "> ## Leitura de strings:\n",
        "---"
      ]
    },
    {
      "cell_type": "code",
      "metadata": {
        "colab": {
          "base_uri": "https://localhost:8080/"
        },
        "id": "dRPXonQ_0QFI",
        "outputId": "f8e8e346-c539-40ad-d329-84e02e00e11a"
      },
      "source": [
        "from time import sleep\n",
        "\n",
        "frase = input('Frase: ')\n",
        "for c in frase:\n",
        "    print(c, end='')\n",
        "    sleep(0.5)"
      ],
      "execution_count": null,
      "outputs": [
        {
          "output_type": "stream",
          "name": "stdout",
          "text": [
            "Frase: ciência da computação\n",
            "ciência da computação"
          ]
        }
      ]
    },
    {
      "cell_type": "markdown",
      "metadata": {
        "id": "PHx0zyt305sS"
      },
      "source": [
        "> ## **Exercícios:**\n",
        "---\n",
        "---"
      ]
    },
    {
      "cell_type": "markdown",
      "metadata": {
        "id": "nUV3L5r41Abs"
      },
      "source": [
        "> ### `1.` Ler uma frase e contar a qtde de vogais contidas nessa frase."
      ]
    },
    {
      "cell_type": "code",
      "source": [
        "frase = input('Frase: ')\n",
        "qv = 0\n",
        "for c in frase:\n",
        "    if c.lower() in 'aeiou':  # lower() converte uma string em minúsculas (upper o contrário)\n",
        "        qv += 1\n",
        "\n",
        "print(f'\\nQtde de vogais = {qv}')"
      ],
      "metadata": {
        "colab": {
          "base_uri": "https://localhost:8080/"
        },
        "id": "k_1dUAcTqIeI",
        "outputId": "ec697e7d-3686-4910-a0c7-64f2bc32e1b7"
      },
      "execution_count": null,
      "outputs": [
        {
          "output_type": "stream",
          "name": "stdout",
          "text": [
            "Frase: computacao\n",
            "\n",
            "Qtde de vogais = 5\n"
          ]
        }
      ]
    },
    {
      "cell_type": "markdown",
      "metadata": {
        "id": "aFEFO1iv1SCQ"
      },
      "source": [
        "> ### `2.` Ler uma frase e contar a qtde de consoantes dessa frase."
      ]
    },
    {
      "cell_type": "code",
      "source": [
        "frase = input('Frase: ')\n",
        "qc = 0\n",
        "for c in frase:\n",
        "    c = c.lower()\n",
        "    if c.isalpha() and c not in 'aeiou':  # isalpha verifica se é uma letra\n",
        "        qc += 1\n",
        "\n",
        "print(f'\\nQtde de consoantes = {qc}')"
      ],
      "metadata": {
        "id": "2BzwOcBOviR6",
        "colab": {
          "base_uri": "https://localhost:8080/"
        },
        "outputId": "af56148c-897f-4eba-9c89-af842a4f49ac"
      },
      "execution_count": null,
      "outputs": [
        {
          "output_type": "stream",
          "name": "stdout",
          "text": [
            "Frase: computacao\n",
            "\n",
            "Qtde de consoantes = 5\n"
          ]
        }
      ]
    },
    {
      "cell_type": "markdown",
      "metadata": {
        "id": "JdoKzg2jufaz"
      },
      "source": [
        "> ### `3.` Ler uma frase e converter para maiúscula a primeira letra de cada palavra."
      ]
    },
    {
      "cell_type": "code",
      "source": [
        "frase = input('Frase: ')\n",
        "frase = list(frase)\n",
        "frase[0] = frase[0].upper()  # converte a 1ª letra\n",
        "for i in range(1, len(frase)):  # percorre a partir do 2º caractere\n",
        "    if frase[i - 1] == ' ':  # verifica se o anterior é um espaço em branco\n",
        "        frase[i] = frase[i].upper()\n",
        "frase = ''.join(frase)\n",
        "print(f'\\n{frase}')"
      ],
      "metadata": {
        "id": "tpGAdMpEvi_Y",
        "colab": {
          "base_uri": "https://localhost:8080/"
        },
        "outputId": "575b9699-1a2b-4a8c-edc2-c157ffb48a4b"
      },
      "execution_count": null,
      "outputs": [
        {
          "output_type": "stream",
          "name": "stdout",
          "text": [
            "Frase: ciencia da computacao\n",
            "\n",
            "Ciencia Da Computacao\n"
          ]
        }
      ]
    },
    {
      "cell_type": "markdown",
      "metadata": {
        "id": "pHvxdOUR1mwh"
      },
      "source": [
        "> ### `Outra forma`: criando uma nova string."
      ]
    },
    {
      "cell_type": "code",
      "metadata": {
        "colab": {
          "base_uri": "https://localhost:8080/"
        },
        "id": "DECgIimE17xz",
        "outputId": "32bcc730-dbdf-4b1d-d6c6-700ee766b25e"
      },
      "source": [
        "frase = input('Frase: ')\n",
        "nova = frase[0].upper()\n",
        "for i in range(1, len(frase)):\n",
        "    if frase[i - 1] == ' ':\n",
        "        nova += frase[i].upper()\n",
        "    else:\n",
        "        nova += frase[i]\n",
        "frase = nova\n",
        "print(f'\\n{frase}')"
      ],
      "execution_count": null,
      "outputs": [
        {
          "output_type": "stream",
          "name": "stdout",
          "text": [
            "Frase: ciencia da computacao\n",
            "\n",
            "Ciencia Da Computacao\n"
          ]
        }
      ]
    },
    {
      "cell_type": "markdown",
      "metadata": {
        "id": "aqH5pHM9ixHO"
      },
      "source": [
        "> # **Listas numéricas** (vetores).\n",
        "---\n",
        "---"
      ]
    },
    {
      "cell_type": "markdown",
      "metadata": {
        "id": "eWReNtzeoTjJ"
      },
      "source": [
        "> ## Criação, alteração e seleção de valores em listas.\n",
        "---"
      ]
    },
    {
      "cell_type": "markdown",
      "metadata": {
        "id": "rQwyV4k-oidO"
      },
      "source": [
        "> ## **Criação:**"
      ]
    },
    {
      "cell_type": "code",
      "metadata": {
        "colab": {
          "base_uri": "https://localhost:8080/"
        },
        "id": "5Cl1DqBEoP9U",
        "outputId": "1d7139d0-e8ad-446c-a755-63e2a95f09eb"
      },
      "source": [
        "lista = []  # criar uma lista vazia\n",
        "print(lista, type(lista))"
      ],
      "execution_count": null,
      "outputs": [
        {
          "output_type": "stream",
          "name": "stdout",
          "text": [
            "[] <class 'list'>\n"
          ]
        }
      ]
    },
    {
      "cell_type": "code",
      "metadata": {
        "colab": {
          "base_uri": "https://localhost:8080/"
        },
        "id": "RTxnT-NBpV2q",
        "outputId": "1853de61-b7e1-4039-88c2-b0b7c77af2e4"
      },
      "source": [
        "lista = [1, 2, 3, 4, 5]\n",
        "print(lista)"
      ],
      "execution_count": null,
      "outputs": [
        {
          "output_type": "stream",
          "name": "stdout",
          "text": [
            "[1, 2, 3, 4, 5]\n"
          ]
        }
      ]
    },
    {
      "cell_type": "code",
      "metadata": {
        "colab": {
          "base_uri": "https://localhost:8080/"
        },
        "id": "7ctgfB0ppjaE",
        "outputId": "cc5184b9-07a1-4787-c393-22ec51ffd596"
      },
      "source": [
        "lista = [0] * 30  # criar uma lista com 30 zeros\n",
        "print(lista)"
      ],
      "execution_count": null,
      "outputs": [
        {
          "output_type": "stream",
          "name": "stdout",
          "text": [
            "[0, 0, 0, 0, 0, 0, 0, 0, 0, 0, 0, 0, 0, 0, 0, 0, 0, 0, 0, 0, 0, 0, 0, 0, 0, 0, 0, 0, 0, 0]\n"
          ]
        }
      ]
    },
    {
      "cell_type": "code",
      "metadata": {
        "colab": {
          "base_uri": "https://localhost:8080/"
        },
        "id": "-0OpeFINqQGz",
        "outputId": "e1b92a24-20d6-4158-fced-b970054ebb00"
      },
      "source": [
        "lista = []\n",
        "for v in range(30):\n",
        "    lista.append(v + 1)  # append acrescenta um valor no final da lista\n",
        "print(lista)"
      ],
      "execution_count": null,
      "outputs": [
        {
          "output_type": "stream",
          "name": "stdout",
          "text": [
            "[1, 2, 3, 4, 5, 6, 7, 8, 9, 10, 11, 12, 13, 14, 15, 16, 17, 18, 19, 20, 21, 22, 23, 24, 25, 26, 27, 28, 29, 30]\n"
          ]
        }
      ]
    },
    {
      "cell_type": "code",
      "metadata": {
        "colab": {
          "base_uri": "https://localhost:8080/"
        },
        "id": "Y_IfntrOrNL5",
        "outputId": "c6edf8ca-6a06-45a2-b760-de681f204fd7"
      },
      "source": [
        "lista = [v + 1 for v in range(30)]  # o for fornece os valores da lista\n",
        "print(lista)"
      ],
      "execution_count": null,
      "outputs": [
        {
          "output_type": "stream",
          "name": "stdout",
          "text": [
            "[1, 2, 3, 4, 5, 6, 7, 8, 9, 10, 11, 12, 13, 14, 15, 16, 17, 18, 19, 20, 21, 22, 23, 24, 25, 26, 27, 28, 29, 30]\n"
          ]
        }
      ]
    },
    {
      "cell_type": "markdown",
      "metadata": {
        "id": "A9FOOW7psVPi"
      },
      "source": [
        "> ## **Alteração:**"
      ]
    },
    {
      "cell_type": "code",
      "metadata": {
        "colab": {
          "base_uri": "https://localhost:8080/"
        },
        "id": "mteegh5BsYMS",
        "outputId": "49e8f237-ad2a-4e32-fb8a-77f6183f7e4d"
      },
      "source": [
        "lista = [0] * 10\n",
        "print(f'Antes: {lista}')\n",
        "lista[0] = 111  # altera o primeiro\n",
        "lista[-1] = 999  # altera o último\n",
        "print(f'\\nDepois: {lista}')"
      ],
      "execution_count": null,
      "outputs": [
        {
          "output_type": "stream",
          "name": "stdout",
          "text": [
            "Antes: [0, 0, 0, 0, 0, 0, 0, 0, 0, 0]\n",
            "\n",
            "Depois: [111, 0, 0, 0, 0, 0, 0, 0, 0, 999]\n"
          ]
        }
      ]
    },
    {
      "cell_type": "code",
      "metadata": {
        "colab": {
          "base_uri": "https://localhost:8080/"
        },
        "id": "l3tb21tGt16m",
        "outputId": "b6284bb3-2f5c-4bb7-eacb-282be210f560"
      },
      "source": [
        "lista = [10] * 5\n",
        "print(f'Lista: {lista}')\n",
        "copia = lista[:]  # ou lista.copy()  (: representa todos os valores)\n",
        "copia[0] = 111\n",
        "print(f'\\nLista: {lista}')\n",
        "print(f'\\nCópia: {copia}')"
      ],
      "execution_count": null,
      "outputs": [
        {
          "output_type": "stream",
          "name": "stdout",
          "text": [
            "Lista: [10, 10, 10, 10, 10]\n",
            "\n",
            "Lista: [10, 10, 10, 10, 10]\n",
            "\n",
            "Cópia: [111, 10, 10, 10, 10]\n"
          ]
        }
      ]
    },
    {
      "cell_type": "markdown",
      "metadata": {
        "id": "__7s0NFowp8f"
      },
      "source": [
        "> ## **Seleção de valores (recortes):**"
      ]
    },
    {
      "cell_type": "code",
      "metadata": {
        "colab": {
          "base_uri": "https://localhost:8080/"
        },
        "id": "GuW3B-Ybw0k3",
        "outputId": "659e3f8e-26e2-4c68-a73a-c8cde941ce7f"
      },
      "source": [
        "lista = [v for v in range(10)]\n",
        "print(lista)  # lista inteira\n",
        "print(lista[5:])  # do 6º até o fim\n",
        "print(lista[:5])  # do 1º ao 5º\n",
        "print(lista[2:5])  # do 3º ao 5º\n",
        "print(lista[-3:])  # os 3 últimos"
      ],
      "execution_count": null,
      "outputs": [
        {
          "output_type": "stream",
          "name": "stdout",
          "text": [
            "[0, 1, 2, 3, 4, 5, 6, 7, 8, 9]\n",
            "[5, 6, 7, 8, 9]\n",
            "[0, 1, 2, 3, 4]\n",
            "[2, 3, 4]\n",
            "[7, 8, 9]\n"
          ]
        }
      ]
    },
    {
      "cell_type": "markdown",
      "metadata": {
        "id": "HPF8-A5Byrq_"
      },
      "source": [
        "> ## **Exercícios:**\n",
        "---\n",
        "---"
      ]
    },
    {
      "cell_type": "markdown",
      "metadata": {
        "id": "d-BXJO5Ty-sx"
      },
      "source": [
        "> ### `1.` Ler 7 valores inteiros, armazená-los em uma lista e, em seguida, calcular e mostrar: o menor valor, o maior valor e a média aritmética de todos os números."
      ]
    },
    {
      "cell_type": "code",
      "source": [
        "'''\n",
        "lis = [0] * 7       # leitura com uma lista já criada\n",
        "for i in range(7):\n",
        "    lis[i] = int(input(f'Lista[{i}]: '))\n",
        "'''\n",
        "\n",
        "lis = []\n",
        "for i in range(7):\n",
        "    lis.append(int(input(f'{i + 1}º valor: ')))\n",
        "\n",
        "# ou ainda: lis = [int(input(f'{i + 1}º valor: ')) for i in range(7)]\n",
        "\n",
        "'''\n",
        "me = ma = lis[0]  # menor recebe primeiro\n",
        "for i in range(1, 7):\n",
        "    if lis[i] < me:  # troca se for menor\n",
        "        me = lis[i]\n",
        "    elif lis[i] > ma:  # troca se for maior\n",
        "        ma = lis[i]\n",
        "'''\n",
        "'''\n",
        "me = ma = lis[0]  # menor recebe primeiro\n",
        "for v in lis[1:]:\n",
        "    if v < me:  # troca se for menor\n",
        "        me = v\n",
        "    elif v > ma:  # troca se for maior\n",
        "        ma = v\n",
        "'''\n",
        "\n",
        "me = min(lis)  # calcula o menor da lista\n",
        "ma = max(lis)  # calcula o maior da lista\n",
        "\n",
        "print(f'\\nMenor = {me}')\n",
        "print(f'\\nMaior = {ma}')\n",
        "\n",
        "'''\n",
        "s = 0\n",
        "for i in range(7):\n",
        "    s += lis[i]\n",
        "'''\n",
        "'''\n",
        "s = 0\n",
        "for v in lis:\n",
        "    s += v\n",
        "'''\n",
        "\n",
        "ma = sum(lis) / len(lis)  # sum soma todos da lista e len a qtde de elementos\n",
        "\n",
        "print(f'\\nMédia aritmética = {ma:.3f}')"
      ],
      "metadata": {
        "id": "En3u3ZqB7Rt4",
        "colab": {
          "base_uri": "https://localhost:8080/"
        },
        "outputId": "3c1b4b0d-6ddd-4826-ba7b-195e6f434240"
      },
      "execution_count": null,
      "outputs": [
        {
          "output_type": "stream",
          "name": "stdout",
          "text": [
            "1º valor: 6\n",
            "2º valor: 2\n",
            "3º valor: 9\n",
            "4º valor: 5\n",
            "5º valor: 2\n",
            "6º valor: 6\n",
            "7º valor: 9\n",
            "\n",
            "Menor = 2\n",
            "\n",
            "Maior = 9\n",
            "\n",
            "Média aritmética = 5.571\n"
          ]
        }
      ]
    },
    {
      "cell_type": "markdown",
      "metadata": {
        "id": "dQ7mWkFD7VtZ"
      },
      "source": [
        "> ### `2.` Ler uma lista com 6 valores inteiros e, em seguida, mostrar os valores separados por vírgula, sem sobrar vírgulas no início ou no final.\n",
        "### Ex.:\n",
        "### Lista = 1, 3, 6, 0, 2, 6"
      ]
    },
    {
      "cell_type": "code",
      "source": [
        "lis = []\n",
        "for i in range(6):\n",
        "    lis.append(int(input(f'{i + 1}º valor: ')))\n",
        "\n",
        "print(f'\\nLista = {lis[0]}', end='')\n",
        "for i in range(1, 6):\n",
        "    print(f', {lis[i]}', end='')"
      ],
      "metadata": {
        "id": "TP9w-P877SOo",
        "colab": {
          "base_uri": "https://localhost:8080/"
        },
        "outputId": "a37e58b3-6598-47c8-baea-b0b16845e1bd"
      },
      "execution_count": null,
      "outputs": [
        {
          "output_type": "stream",
          "name": "stdout",
          "text": [
            "1º valor: 4\n",
            "2º valor: 7\n",
            "3º valor: 2\n",
            "4º valor: 4\n",
            "5º valor: 8\n",
            "6º valor: 1\n",
            "\n",
            "Lista = 4, 7, 2, 4, 8, 1"
          ]
        }
      ]
    },
    {
      "cell_type": "markdown",
      "metadata": {
        "id": "4V-ar2GH8IzP"
      },
      "source": [
        "> ### `3.` Ler uma lista com 7 valores inteiros e, após as leituras, ler um inteiro qualquer (X), buscar pelo primeiro valor igual a X na lista e mostrar sua posição (índice). Caso não encontre X, o programa deve mostrar -1 como posição.\n",
        "### `Ex. 1`: encontrou o valor.\n",
        "    Vet = 1  2  3  4  5  6  7\n",
        "    X = 5\n",
        "    Posição (índice) = 4\n",
        "\n",
        "### `Ex. 2`: não encontrou o valor.\n",
        "    Vet = 6  2  8  4  2  6  9\n",
        "    X = 10\n",
        "    Posição (índice) = -1"
      ]
    },
    {
      "cell_type": "code",
      "source": [
        "lis = []\n",
        "for i in range(7):\n",
        "    lis.append(int(input(f'{i + 1}º valor: ')))\n",
        "x = int(input('\\nDigite um valor inteiro para busca: '))\n",
        "\n",
        "pos = -1  # -1 indica que não encontrou\n",
        "for i, v in enumerate(lis):\n",
        "    if x == v:\n",
        "        pos = i  # armazena a posição (índice)\n",
        "        break\n",
        "\n",
        "print(f'\\nPosição (índice) = {pos}')"
      ],
      "metadata": {
        "colab": {
          "base_uri": "https://localhost:8080/"
        },
        "id": "OvO_Y8UulB77",
        "outputId": "e9d4764d-bc4f-4573-b177-e0f7c3933ae3"
      },
      "execution_count": null,
      "outputs": [
        {
          "output_type": "stream",
          "name": "stdout",
          "text": [
            "1º valor: 6\n",
            "2º valor: 3\n",
            "3º valor: 7\n",
            "4º valor: 3\n",
            "5º valor: 8\n",
            "6º valor: 9\n",
            "7º valor: 2\n",
            "\n",
            "Digite um valor inteiro para busca: 3\n",
            "\n",
            "Posição (índice) = 1\n"
          ]
        }
      ]
    },
    {
      "cell_type": "markdown",
      "metadata": {
        "id": "ODIBmNt21_Dl"
      },
      "source": [
        "> ### `Extra:` modificar o programa para armazenar em uma lista as posições (índices) de todas as ocorrências e mostrá-la no final."
      ]
    },
    {
      "cell_type": "code",
      "source": [
        "lis = []\n",
        "for i in range(7):\n",
        "    lis.append(int(input(f'{i + 1}º valor: ')))\n",
        "x = int(input('\\nDigite um valor inteiro para busca: '))\n",
        "\n",
        "lis_pos = []  # lista de posições (vazia inicialmente)\n",
        "for i, v in enumerate(lis):\n",
        "    if x == v:\n",
        "        lis_pos.append(i)  # armazena na lista a posição (índice)\n",
        "\n",
        "print(f'\\nLista com as posições (índices) = {lis_pos}')"
      ],
      "metadata": {
        "id": "cdEyk4yq0T7y",
        "colab": {
          "base_uri": "https://localhost:8080/"
        },
        "outputId": "1b15d00f-ce1c-4d9d-c46d-b56b1683744c"
      },
      "execution_count": null,
      "outputs": [
        {
          "output_type": "stream",
          "name": "stdout",
          "text": [
            "1º valor: 2\n",
            "2º valor: 3\n",
            "3º valor: 5\n",
            "4º valor: 2\n",
            "5º valor: 7\n",
            "6º valor: 8\n",
            "7º valor: 2\n",
            "\n",
            "Digite um valor inteiro para busca: 2\n",
            "\n",
            "Lista com as posições (índices) = [0, 3, 6]\n"
          ]
        }
      ]
    },
    {
      "cell_type": "markdown",
      "metadata": {
        "id": "92KhXYHV2wFN"
      },
      "source": [
        "> ### `4.` Ler uma lista com 5 valores inteiros e não permitir a entrada de valores repetidos. Sempre que isso ocorrer, não avançar para o próximo valor (índice) e mostrar uma msg.\n",
        "\n",
        "### Exemplo:\n",
        "\n",
        "    1º Valor: 10\n",
        "    2º Valor: 10\n",
        "    Valor já inserido. Digite novamente...\n",
        "    2º Valor:"
      ]
    },
    {
      "cell_type": "code",
      "source": [
        "'''\n",
        "lis = []\n",
        "i = 0\n",
        "while i < 5:\n",
        "    val = int(input(f'{i + 1}º valor: '))\n",
        "    achou = False\n",
        "    for v in lis:  #  busca pelo valor nos valores já digitados\n",
        "        if val == v:\n",
        "            achou = True\n",
        "            break\n",
        "    if achou:\n",
        "        print('Valor já digitado. Digite novamente...')\n",
        "    else:\n",
        "        lis.append(val)\n",
        "        i += 1\n",
        "'''\n",
        "\n",
        "lis = []\n",
        "i = 0\n",
        "while i < 5:\n",
        "    val = int(input(f'{i + 1}º valor: '))\n",
        "    if val in lis:\n",
        "        print('Valor já digitado. Digite novamente...')\n",
        "    else:\n",
        "        lis.append(val)\n",
        "        i += 1\n",
        "\n",
        "print(f'\\nLista = {lis}')"
      ],
      "metadata": {
        "id": "G2gCz1ry0Uyz",
        "colab": {
          "base_uri": "https://localhost:8080/"
        },
        "outputId": "fadda36f-8f29-4a5b-ff01-c71da3ff2222"
      },
      "execution_count": null,
      "outputs": [
        {
          "output_type": "stream",
          "name": "stdout",
          "text": [
            "1º valor: 5\n",
            "2º valor: 4\n",
            "3º valor: 5\n",
            "Valor já digitado. Digite novamente...\n",
            "3º valor: 6\n",
            "4º valor: 4\n",
            "Valor já digitado. Digite novamente...\n",
            "4º valor: 3\n",
            "5º valor: 5\n",
            "Valor já digitado. Digite novamente...\n",
            "5º valor: 6\n",
            "Valor já digitado. Digite novamente...\n",
            "5º valor: 2\n",
            "\n",
            "Lista = [5, 4, 6, 3, 2]\n"
          ]
        }
      ]
    },
    {
      "cell_type": "markdown",
      "metadata": {
        "id": "nOS_Jn6P4A3h"
      },
      "source": [
        "> ### `5.` Gerar uma lista com 10 números inteiros aleatórios entre 1 e 100 e, em seguida, separar os valores pares e ímpares em duas listas. Mostrar as 3 listas no final."
      ]
    },
    {
      "cell_type": "code",
      "source": [
        "from random import randint\n",
        "\n",
        "lista = [randint(1, 100) for _ in range(10)]\n",
        "\n",
        "par, impar = [], []\n",
        "for v in lista:\n",
        "    par.append(v) if v % 2 == 0 else impar.append(v)\n",
        "\n",
        "# par = [v for v in lista if v % 2 == 0]\n",
        "# impar = [v for v in lista if v % 2 != 0]\n",
        "\n",
        "print(f'Lista: {lista}')\n",
        "print(f'\\nPares: {par}')\n",
        "print(f'\\nÍmpares: {impar}')"
      ],
      "metadata": {
        "colab": {
          "base_uri": "https://localhost:8080/"
        },
        "id": "xF_EdbiElSya",
        "outputId": "3b9cd268-ad8a-4884-d487-72c7851a6b31"
      },
      "execution_count": null,
      "outputs": [
        {
          "output_type": "stream",
          "name": "stdout",
          "text": [
            "Lista: [46, 86, 59, 41, 29, 75, 52, 72, 96, 61]\n",
            "\n",
            "Pares: [46, 86, 52, 72, 96]\n",
            "\n",
            "Ímpares: [59, 41, 29, 75, 61]\n"
          ]
        }
      ]
    },
    {
      "cell_type": "markdown",
      "metadata": {
        "id": "0AxVqZr8489V"
      },
      "source": [
        "> ### `6.` Gerar uma lista com 20 valores aleatórios entre 10 e 20 e, em seguida, ordenar a lista, calcular e mostrar (em ordem crescente) a qtde de ocorrências de cada valor dentro da lista (não repetir valores já mostrados)."
      ]
    },
    {
      "cell_type": "code",
      "source": [
        "from random import randint\n",
        "\n",
        "lis = [randint(10, 20) for _ in range(20)]\n",
        "lis.sort()\n",
        "print(f'Lista: {lis}\\n')\n",
        "\n",
        "print('Valores e quantidades:\\n')\n",
        "sel = []  # lista de valores já selecionados (mostrados)\n",
        "for v in lis:\n",
        "    if v not in sel:\n",
        "        cont = 0\n",
        "        for x in lis:\n",
        "            if x == v:\n",
        "                cont += 1\n",
        "        print(f'{v}: {cont}x')\n",
        "        sel.append(v)\n",
        "\n",
        "print('\\nValores e quantidades:\\n')\n",
        "sel = []  # lista de valores já selecionados (mostrados)\n",
        "for v in lis:\n",
        "    if v not in sel:\n",
        "        print(f'{v}: {lis.count(v)}x')\n",
        "        sel.append(v)\n",
        "\n",
        "# Outra forma\n",
        "print('\\nValores e quantidades:\\n')\n",
        "for v in set(lis):  # set (conjunto) elimina repetições em lis\n",
        "    print(f'{v}: {lis.count(v)}x')"
      ],
      "metadata": {
        "colab": {
          "base_uri": "https://localhost:8080/"
        },
        "id": "1OGZCUtvvynG",
        "outputId": "f13883ce-993b-4e58-ce35-45a425b15747"
      },
      "execution_count": null,
      "outputs": [
        {
          "output_type": "stream",
          "name": "stdout",
          "text": [
            "Lista: [10, 11, 11, 11, 11, 12, 12, 12, 13, 14, 14, 16, 16, 16, 16, 17, 17, 19, 20, 20]\n",
            "\n",
            "Valores e quantidades:\n",
            "\n",
            "10: 1x\n",
            "11: 4x\n",
            "12: 3x\n",
            "13: 1x\n",
            "14: 2x\n",
            "16: 4x\n",
            "17: 2x\n",
            "19: 1x\n",
            "20: 2x\n",
            "Valores e quantidades:\n",
            "\n",
            "10: 1x\n",
            "11: 4x\n",
            "12: 3x\n",
            "13: 1x\n",
            "14: 2x\n",
            "16: 4x\n",
            "17: 2x\n",
            "19: 1x\n",
            "20: 2x\n",
            "\n",
            "Valores e quantidades:\n",
            "\n",
            "10: 1x\n",
            "11: 4x\n",
            "12: 3x\n",
            "13: 1x\n",
            "14: 2x\n",
            "16: 4x\n",
            "17: 2x\n",
            "19: 1x\n",
            "20: 2x\n"
          ]
        }
      ]
    },
    {
      "cell_type": "markdown",
      "metadata": {
        "id": "YdZ9NuR6DBTC"
      },
      "source": [
        "> ### `7.` Criar um programa para gerar uma lista com `10 valores` inteiros **distintos** e aleatórios entre 1 e 100. Depois, gerar outra lista com `20 valores` aleatórios entre 1 e 100, também **distintos**. Após a criação das listas, ordená-las em ordem crescente e criar uma terceira lista com os valores presentes em ambas as listas (1ª e 2ª), ou seja, presente tanto na primeira como na segunda lista. Mostrar as 3 listas no final do programa."
      ]
    },
    {
      "cell_type": "code",
      "source": [
        "from random import sample\n",
        "\n",
        "'''\n",
        "lis1 = []\n",
        "for _ in range(10):\n",
        "    v = randint(1, 100)\n",
        "    while v in lis1:\n",
        "        v = randint(1, 100)\n",
        "    lis1.append(v)\n",
        "'''\n",
        "\n",
        "lis1 = sample(range(1, 101), 10)  # gera uma lista com 10 números distintos entre 1 e 100\n",
        "lis1.sort()\n",
        "lis2 = sample(range(1, 101), 20)  # gera com 20 números\n",
        "lis2.sort()\n",
        "\n",
        "lis3 = []\n",
        "for v in lis1:\n",
        "    if v in lis2:\n",
        "        lis3.append(v)\n",
        "\n",
        "print(f'Lista 1: {lis1}')\n",
        "print(f'\\nLista 2: {lis2}')\n",
        "print(f'\\nLista 3 = {lis3}')"
      ],
      "metadata": {
        "id": "QDerhw_F972G",
        "colab": {
          "base_uri": "https://localhost:8080/"
        },
        "outputId": "0eba7b0e-6ac2-4be9-8dfb-70927c7c162a"
      },
      "execution_count": null,
      "outputs": [
        {
          "output_type": "stream",
          "name": "stdout",
          "text": [
            "Lista 1: [17, 49, 53, 60, 66, 72, 75, 82, 84, 91]\n",
            "\n",
            "Lista 2: [1, 5, 6, 12, 21, 22, 25, 30, 31, 42, 47, 48, 49, 50, 54, 62, 66, 68, 71, 73]\n",
            "\n",
            "Lista 3 = [49, 66]\n"
          ]
        }
      ]
    },
    {
      "cell_type": "markdown",
      "metadata": {
        "id": "ykADcUBIGsYg"
      },
      "source": [
        "> ## `Resumo das operações com listas` (métodos e funções):"
      ]
    },
    {
      "cell_type": "code",
      "metadata": {
        "colab": {
          "base_uri": "https://localhost:8080/"
        },
        "id": "7_X4NubeGvyC",
        "outputId": "34ee57e7-be29-4adf-de66-dbd06142071e"
      },
      "source": [
        "lis = []  # criar uma lista vazia\n",
        "lis = [1, 2, 3, 4, 5]  # criar uma lista com valores pré-inseridos\n",
        "lis = [0] * 10  # criar uma lista com 10 zeros\n",
        "lis = [x for x in range(10)]  # criar a lista: [0, 1, 2, 3, 4, 5, 6, 7, 8, 9]\n",
        "copia = lis[:]  # copiar a lista lis para copia\n",
        "copia = lis.copy()  # copiar a lista lis para copia\n",
        "print(copia)\n",
        "print(copia[1:4])  # mostra o recorte da lista entre o 2º e o 4º valor\n",
        "lis.append(10)  # inserir no final da lista o valor 10\n",
        "print(lis)\n",
        "val = lis.pop()  # retirar da lista o valor final (val recebe o último da lista)\n",
        "print(val, lis)\n",
        "val = lis.pop(0)  # retirar o primeiro da lista (o índice deve ser passado)\n",
        "print(val, lis)\n",
        "lis.insert(4, 99)  # inserir 99 na posição (índice) 4 (5º posição)\n",
        "print(lis)\n",
        "lis = [6, 2, 9, 0, 2, 6, 7, 3]\n",
        "print(f'Lista desordenada = {lis}')\n",
        "tam = len(lis)  # calcular o tamanho da lista (nº de elementos)\n",
        "print(tam, 'elementos')\n",
        "novalis = sorted(lis)  # criar uma nova lista ordenada (crescente) da lista passada com parâmetro (lis)\n",
        "print(f'Lista desordenada = {lis} e lista em ordem crescente = {novalis}')\n",
        "novalis = sorted(lis, reverse=True)  # ordem decrescente\n",
        "print(f'Lista desordenada = {lis} e lista em ordem decrescente = {novalis}')\n",
        "lis.sort()  # ordenar a lista (a lista será alterada)\n",
        "print(f'Lista ordenada = {lis}')\n",
        "me, ma, soma = min(lis), max(lis), sum(lis)  # calcular menor, maior e a soma dos valores de uma lista\n",
        "print('Menor =', me, 'Maior =', ma, 'Soma =', soma)\n",
        "cont = lis.count(2)  # calcular a qtde de elementos iguais ao 2\n",
        "print('Qtde iguais ao 2 =', cont)\n",
        "if 3 in lis:  # verifica se o valor 3 está contido na lista lis\n",
        "    print('3 está contido na lista')\n",
        "if 5 not in lis:  # verifica se o 5 NÃO está contido na lista lis\n",
        "    print('SIM')\n",
        "else:\n",
        "    print('NÃO')\n",
        "lis1 = [1, 2, 3]\n",
        "lis2 = [4, 5, 6, 7, 8]\n",
        "lis3 = lis1 + lis2  # soma de listas resulta em outra lista com os valores reunidos\n",
        "print(f'Lista (listas somadas): {lis3}')"
      ],
      "execution_count": null,
      "outputs": [
        {
          "output_type": "stream",
          "name": "stdout",
          "text": [
            "[0, 1, 2, 3, 4, 5, 6, 7, 8, 9]\n",
            "[1, 2, 3]\n",
            "[0, 1, 2, 3, 4, 5, 6, 7, 8, 9, 10]\n",
            "10 [0, 1, 2, 3, 4, 5, 6, 7, 8, 9]\n",
            "0 [1, 2, 3, 4, 5, 6, 7, 8, 9]\n",
            "[1, 2, 3, 4, 99, 5, 6, 7, 8, 9]\n",
            "Lista desordenada = [6, 2, 9, 0, 2, 6, 7, 3]\n",
            "8 elementos\n",
            "Lista desordenada = [6, 2, 9, 0, 2, 6, 7, 3] e lista em ordem crescente = [0, 2, 2, 3, 6, 6, 7, 9]\n",
            "Lista desordenada = [6, 2, 9, 0, 2, 6, 7, 3] e lista em ordem decrescente = [9, 7, 6, 6, 3, 2, 2, 0]\n",
            "Lista ordenada = [0, 2, 2, 3, 6, 6, 7, 9]\n",
            "Menor = 0 Maior = 9 Soma = 35\n",
            "Qtde iguais ao 2 = 2\n",
            "3 está contido na lista\n",
            "SIM\n",
            "Lista (listas somadas): [1, 2, 3, 4, 5, 6, 7, 8]\n"
          ]
        }
      ]
    }
  ]
}