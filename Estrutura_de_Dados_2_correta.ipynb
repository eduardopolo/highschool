{
  "nbformat": 4,
  "nbformat_minor": 0,
  "metadata": {
    "colab": {
      "provenance": [],
      "include_colab_link": true
    },
    "kernelspec": {
      "name": "python3",
      "display_name": "Python 3"
    },
    "language_info": {
      "name": "python"
    }
  },
  "cells": [
    {
      "cell_type": "markdown",
      "metadata": {
        "id": "view-in-github",
        "colab_type": "text"
      },
      "source": [
        "<a href=\"https://colab.research.google.com/github/eduardopolo/highschool/blob/main/Estrutura_de_Dados_2_correta.ipynb\" target=\"_parent\"><img src=\"https://colab.research.google.com/assets/colab-badge.svg\" alt=\"Open In Colab\"/></a>"
      ]
    },
    {
      "cell_type": "markdown",
      "source": [
        "16/08 Exercício 1"
      ],
      "metadata": {
        "id": "K6kWIv_zdCd4"
      }
    },
    {
      "cell_type": "code",
      "execution_count": null,
      "metadata": {
        "colab": {
          "base_uri": "https://localhost:8080/"
        },
        "id": "YuDL-oUKc5-0",
        "outputId": "34632a0a-8658-4b54-b782-c584f8dab3c3"
      },
      "outputs": [
        {
          "output_type": "stream",
          "name": "stdout",
          "text": [
            "Digite um número inteiro: 25\n",
            "A representação binária de 25 é: 11001\n"
          ]
        }
      ],
      "source": [
        "#def binario (n):\n",
        "#    if n == 0:\n",
        "#        return\n",
        "#    else:\n",
        "#       binario (n // 2)\n",
        "#    print(n % 2)\n",
        "#\n",
        "#binario (25)\n",
        "\n",
        "def decimal_binario(n):\n",
        "    if n == 0:\n",
        "        return '0'\n",
        "    elif n == 1:\n",
        "        return '1'\n",
        "    else:\n",
        "        return decimal_binario(n // 2) + str(n % 2)\n",
        "\n",
        "num = int(input(\"Digite um número inteiro: \"))\n",
        "binario_representacao = decimal_binario(num)\n",
        "print(f\"A representação binária de {num} é: {binario_representacao}\")"
      ]
    },
    {
      "cell_type": "markdown",
      "source": [
        "Exercício 2"
      ],
      "metadata": {
        "id": "0XwQS6pPdP2S"
      }
    },
    {
      "cell_type": "code",
      "source": [
        "#def nroDigitos (n):\n",
        "#    if n == 0:\n",
        "#        return 0\n",
        "#    else:\n",
        "#        return 1 + nroDigitos (n // 10)\n",
        "#\n",
        "#print(nroDigitos(1234))\n",
        "\n",
        "def qnt_digitos(n):\n",
        "    if n < 10:\n",
        "        return 1\n",
        "    else:\n",
        "        return 1 + qnt_digitos(n // 10)\n",
        "\n",
        "num = int(input(\"Digite um número inteiro: \"))\n",
        "digito_qnt = qnt_digitos(num)\n",
        "print(f\"O número {num} tem {digito_qnt} dígitos.\")"
      ],
      "metadata": {
        "colab": {
          "base_uri": "https://localhost:8080/"
        },
        "id": "4Ly3FV7xdRZh",
        "outputId": "e0dca362-fd97-402a-bb18-68ad9485702e"
      },
      "execution_count": null,
      "outputs": [
        {
          "output_type": "stream",
          "name": "stdout",
          "text": [
            "Digite um número inteiro: 123\n",
            "O número 123 tem 3 dígitos.\n"
          ]
        }
      ]
    },
    {
      "cell_type": "markdown",
      "source": [
        "Exercício 3"
      ],
      "metadata": {
        "id": "NMZznfvCdZGe"
      }
    },
    {
      "cell_type": "code",
      "source": [
        "def reverso(n, num_reverso=0):\n",
        "    if n == 0:\n",
        "        return num_reverso\n",
        "    else:\n",
        "        return reverso(n // 10, num_reverso * 10 + n % 10)\n",
        "        #return ((num % 10) * (10 ** (n - 1)) + inverteNumero(num // 10 , n - 1))\n",
        "\n",
        "num = int(input(\"Digite um número inteiro: \"))\n",
        "numero_reverso = reverso(num)\n",
        "print(f\"O número {num} invertido é: {numero_reverso}\")"
      ],
      "metadata": {
        "colab": {
          "base_uri": "https://localhost:8080/"
        },
        "id": "PNhf2x2BdaXN",
        "outputId": "7cf45d14-dac3-4e7c-c6d2-ea29553582b7"
      },
      "execution_count": null,
      "outputs": [
        {
          "output_type": "stream",
          "name": "stdout",
          "text": [
            "Digite um número inteiro: 123\n",
            "O número 123 invertido é: 321\n"
          ]
        }
      ]
    },
    {
      "cell_type": "markdown",
      "source": [
        "23/08 Exercício 1"
      ],
      "metadata": {
        "id": "HIY0fFKV1N0b"
      }
    },
    {
      "cell_type": "code",
      "source": [
        "def multiplicacao_Russa(a, b):\n",
        "    if a == 0 or b == 0:\n",
        "        return 0\n",
        "    elif a % 2 == 1:\n",
        "        return b + multiplicacao_Russa(a // 2, b * 2)\n",
        "    else:\n",
        "        return multiplicacao_Russa(a // 2, b * 2)\n",
        "\n",
        "num1 = int(input(\"Digite o primeiro número inteiro: \"))\n",
        "num2 = int(input(\"Digite o segundo número inteiro: \"))\n",
        "result = multiplicacao_Russa(num1, num2)\n",
        "print(f\"O resultado da multiplicação russa entre {num1} e {num2} é: {result}\")\n"
      ],
      "metadata": {
        "id": "6WcwYk7R490G",
        "colab": {
          "base_uri": "https://localhost:8080/"
        },
        "outputId": "89e53479-e661-4029-8b07-92f0b9171b88"
      },
      "execution_count": null,
      "outputs": [
        {
          "output_type": "stream",
          "name": "stdout",
          "text": [
            "Digite o primeiro número inteiro: 12\n",
            "Digite o segundo número inteiro: 7\n",
            "O resultado da multiplicação russa entre 12 e 7 é: 84\n"
          ]
        }
      ]
    },
    {
      "cell_type": "markdown",
      "source": [
        "Exercício 2"
      ],
      "metadata": {
        "id": "_ofXiTaD4KAc"
      }
    },
    {
      "cell_type": "code",
      "source": [
        "def soma_recursiva(vetor, tamanho):\n",
        "    if tamanho == 0:\n",
        "        return 0\n",
        "    else:\n",
        "        return vetor[tamanho - 1] + soma_recursiva(vetor, tamanho - 1)\n",
        "\n",
        "vetor = [int(x) for x in input(\"Digite os elementos do vetor separados por espaço: \").split()]\n",
        "tamanho = len(vetor)\n",
        "soma = soma_recursiva(vetor, tamanho)\n",
        "print(f\"A soma dos elementos do vetor é: {soma}\")\n"
      ],
      "metadata": {
        "colab": {
          "base_uri": "https://localhost:8080/"
        },
        "id": "KnUKsnx90web",
        "outputId": "328aac58-ec17-4e04-96e0-1e9432c63656"
      },
      "execution_count": null,
      "outputs": [
        {
          "output_type": "stream",
          "name": "stdout",
          "text": [
            "Digite os elementos do vetor separados por espaço: 15 21 35 48 56\n",
            "A soma dos elementos do vetor é: 175\n"
          ]
        }
      ]
    },
    {
      "cell_type": "markdown",
      "source": [
        "Exercício 3"
      ],
      "metadata": {
        "id": "Xx-mgYxF4z2w"
      }
    },
    {
      "cell_type": "code",
      "source": [
        "def Soma_pares(vetor, tamanho):\n",
        "    if tamanho == 0:\n",
        "        return 0\n",
        "    else:\n",
        "        elemento = vetor[tamanho - 1]\n",
        "        if elemento % 2 == 0:\n",
        "            return elemento + Soma_pares(vetor, tamanho - 1)\n",
        "        else:\n",
        "            return Soma_pares(vetor, tamanho - 1)\n",
        "\n",
        "vetor = [int(x) for x in input(\"Digite os elementos do vetor separados por espaço: \").split()]\n",
        "tamanho = len(vetor)\n",
        "soma_pares = Soma_pares(vetor, tamanho)\n",
        "print(f\"A soma dos números pares no vetor é: {soma_pares}\")\n"
      ],
      "metadata": {
        "colab": {
          "base_uri": "https://localhost:8080/"
        },
        "id": "BEbm4XcH4I7U",
        "outputId": "01a22a9c-108b-46cc-c3e7-b93d32ede621"
      },
      "execution_count": null,
      "outputs": [
        {
          "output_type": "stream",
          "name": "stdout",
          "text": [
            "Digite os elementos do vetor separados por espaço: 2 3 5 7 9 11 16\n",
            "A soma dos números pares no vetor é: 18\n"
          ]
        }
      ]
    },
    {
      "cell_type": "markdown",
      "source": [
        "Exercício 4"
      ],
      "metadata": {
        "id": "DLEwlrQ0ky5X"
      }
    },
    {
      "cell_type": "code",
      "source": [
        "def calcular_potencia(X, n):\n",
        "    if n == 0:\n",
        "        return 1\n",
        "    elif n > 0:\n",
        "        return X * calcular_potencia(X, n - 1)\n",
        "    else:\n",
        "        return 1 / (X * calcular_potencia(X, -n - 1))\n",
        "\n",
        "base = 30\n",
        "expoente = 3\n",
        "\n",
        "\n",
        "resultado = calcular_potencia(base, expoente)\n",
        "print(f\"{base} elevado a {expoente} é igual a {resultado}\")\n"
      ],
      "metadata": {
        "colab": {
          "base_uri": "https://localhost:8080/"
        },
        "id": "_k1pf3ilk2l2",
        "outputId": "41f39894-5bde-40f3-bd8e-33949e79718b"
      },
      "execution_count": null,
      "outputs": [
        {
          "output_type": "stream",
          "name": "stdout",
          "text": [
            "30 elevado a 3 é igual a 27000\n"
          ]
        }
      ]
    },
    {
      "cell_type": "markdown",
      "source": [
        "Exercício 5"
      ],
      "metadata": {
        "id": "5JwbY5simHUt"
      }
    },
    {
      "cell_type": "code",
      "source": [
        "def somar_digitos(numero):\n",
        "    if numero == 0:\n",
        "        return 0\n",
        "    else:\n",
        "        ultimo_digito = numero % 10\n",
        "        resto_do_numero = numero // 10\n",
        "        return ultimo_digito + somar_digitos(resto_do_numero)\n",
        "\n",
        "numero = 2154\n",
        "soma = somar_digitos(numero)\n",
        "print(f\"A soma dos dígitos de {numero} é {soma}\")\n"
      ],
      "metadata": {
        "colab": {
          "base_uri": "https://localhost:8080/"
        },
        "id": "f9BruqxVmJ4T",
        "outputId": "33fa9342-3dd0-4f06-842b-22dd12a80d5f"
      },
      "execution_count": null,
      "outputs": [
        {
          "output_type": "stream",
          "name": "stdout",
          "text": [
            "A soma dos dígitos de 2154 é 12\n"
          ]
        }
      ]
    },
    {
      "cell_type": "markdown",
      "source": [
        "Exercício 6"
      ],
      "metadata": {
        "id": "EoqP6u51mVmy"
      }
    },
    {
      "cell_type": "code",
      "source": [
        "def primeiro_digito(numero):\n",
        "    if numero < 10 and numero >= 0:\n",
        "        return numero\n",
        "    else:\n",
        "        return primeiro_digito(numero // 10)\n",
        "\n",
        "numero = 350\n",
        "primeiro = primeiro_digito(numero)\n",
        "print(f\"O primeiro dígito de {numero} é {primeiro}\")\n"
      ],
      "metadata": {
        "colab": {
          "base_uri": "https://localhost:8080/"
        },
        "id": "Xp1Q5BO6mYue",
        "outputId": "23ab9a74-580c-4b1b-bb01-62e343ea4c7f"
      },
      "execution_count": null,
      "outputs": [
        {
          "output_type": "stream",
          "name": "stdout",
          "text": [
            "O primeiro dígito de 350 é 3\n"
          ]
        }
      ]
    },
    {
      "cell_type": "markdown",
      "source": [
        "Exercício 7"
      ],
      "metadata": {
        "id": "1WFfcJZRm-t2"
      }
    },
    {
      "cell_type": "code",
      "source": [
        "def resto_divisao_inteira(dividendo, divisor):\n",
        "    if dividendo < divisor:\n",
        "        return dividendo\n",
        "    else:\n",
        "        return resto_divisao_inteira(dividendo - divisor, divisor)\n",
        "\n",
        "dividendo = 17\n",
        "divisor = 5\n",
        "resto = resto_divisao_inteira(dividendo, divisor)\n",
        "print(f\"O resto da divisão inteira de {dividendo} por {divisor} é {resto}\")\n"
      ],
      "metadata": {
        "colab": {
          "base_uri": "https://localhost:8080/"
        },
        "id": "XK4ERAn2nBBu",
        "outputId": "74ebd82d-fbb8-457c-f27f-f817883b63e1"
      },
      "execution_count": null,
      "outputs": [
        {
          "output_type": "stream",
          "name": "stdout",
          "text": [
            "O resto da divisão inteira de 17 por 5 é 2\n"
          ]
        }
      ]
    },
    {
      "cell_type": "markdown",
      "source": [
        "Exercíco 8"
      ],
      "metadata": {
        "id": "LXYW8T34nLMm"
      }
    },
    {
      "cell_type": "code",
      "source": [
        "def media_digitos(numero):\n",
        "    if numero == 0:\n",
        "        return 0\n",
        "\n",
        "    soma = 0\n",
        "    contador = 0\n",
        "\n",
        "    while numero > 0:\n",
        "        ultimo_digito = numero % 10\n",
        "        soma += ultimo_digito\n",
        "        contador += 1\n",
        "        numero //= 10\n",
        "\n",
        "    if contador > 0:\n",
        "        return soma / contador\n",
        "    else:\n",
        "        return 0\n",
        "\n",
        "numero = 12345\n",
        "media = media_digitos(numero)\n",
        "print(f\"A média dos dígitos de {numero} é {media}\")\n"
      ],
      "metadata": {
        "colab": {
          "base_uri": "https://localhost:8080/"
        },
        "id": "1m5EoNPMnNNF",
        "outputId": "9de3a43d-0a62-470f-d63d-d4bc65bc4ea9"
      },
      "execution_count": null,
      "outputs": [
        {
          "output_type": "stream",
          "name": "stdout",
          "text": [
            "A média dos dígitos de 12345 é 3.0\n"
          ]
        }
      ]
    },
    {
      "cell_type": "code",
      "source": [
        "def seleção (lis):\n",
        "    for p in range(len(lis) - 1):\n",
        "        ime = p # armazena em ime o indice do menor elemento\n",
        "        for i in range (p+1, len(lis)): # percorrer o vetor para encontrar o\n",
        "            if lis[i] < lis(ime):\n",
        "                ime = i\n",
        "        lis[p],lis[ime] = lis[ime], lis[p]\n",
        "        print('\\n',lis,end='')\n",
        "\n",
        "\n",
        "\n",
        "\n",
        "\n",
        "        def selecaoMaior"
      ],
      "metadata": {
        "id": "-Wf8jrOlnK94"
      },
      "execution_count": null,
      "outputs": []
    },
    {
      "cell_type": "markdown",
      "source": [
        "30/08 Exercícios\n"
      ],
      "metadata": {
        "id": "CCpkKgM9xbSO"
      }
    },
    {
      "cell_type": "code",
      "source": [
        "# Exercíco 1 #\n",
        "def apareceDigito(n, d):\n",
        "    if n == 0:\n",
        "        return 0\n",
        "\n",
        "    ultimo_digito = n % 10\n",
        "    count = apareceDigito(n // 10, d)\n",
        "    if ultimo_digito == d:\n",
        "        count += 1\n",
        "\n",
        "    return count\n",
        "\n",
        "n = 10332\n",
        "d = 3\n",
        "resultado = apareceDigito(n, d)\n",
        "print(f'O dígito {d} aparece {resultado} vezes em {n}')\n"
      ],
      "metadata": {
        "colab": {
          "base_uri": "https://localhost:8080/"
        },
        "id": "FO6cjOqTvjPb",
        "outputId": "1a1e4d71-af69-495a-8c6d-b0c0dbbfef62"
      },
      "execution_count": null,
      "outputs": [
        {
          "output_type": "stream",
          "name": "stdout",
          "text": [
            "O dígito 3 aparece 2 vezes em 10332\n"
          ]
        }
      ]
    },
    {
      "cell_type": "code",
      "source": [
        "# Exercício 2 #\n",
        "def StringInversa(texto):\n",
        "    if texto == \"\":\n",
        "        return \"\"\n",
        "\n",
        "    return texto[-1] + StringInversa(texto[:-1])\n",
        "\n",
        "string = \"Senna é o melhor do mundo!\"\n",
        "string_inversa = StringInversa(string)\n",
        "print(string_inversa)\n"
      ],
      "metadata": {
        "colab": {
          "base_uri": "https://localhost:8080/"
        },
        "id": "NbwQE014wp1o",
        "outputId": "713280e0-648c-4ba0-bcca-7bad4a18c7c5"
      },
      "execution_count": null,
      "outputs": [
        {
          "output_type": "stream",
          "name": "stdout",
          "text": [
            "!odnum od rohlem o é anneS\n"
          ]
        }
      ]
    },
    {
      "cell_type": "code",
      "source": [],
      "metadata": {
        "id": "qyWrxfuLx-ei"
      },
      "execution_count": null,
      "outputs": []
    },
    {
      "cell_type": "markdown",
      "source": [
        "Alterar o algoritmo da busca sequencial para realizar a busca em um vetor ordenar (para melhorar o desempenho)"
      ],
      "metadata": {
        "id": "7pvuCxw1wOhx"
      }
    },
    {
      "cell_type": "code",
      "source": [
        "def sequencial(v,x):\n",
        "    for i in range(len(v)):\n",
        "        if x==v[i]:\n",
        "            return i\n",
        "    return -1\n",
        "v = [12, 43, 27, 5, 38, 15]\n",
        "ref = sequencial(v, 5)\n",
        "print(ref)"
      ],
      "metadata": {
        "colab": {
          "base_uri": "https://localhost:8080/"
        },
        "id": "XSpHjDjiv2j6",
        "outputId": "ae29f108-6cb2-4a39-f744-b8f5b46ea390"
      },
      "execution_count": null,
      "outputs": [
        {
          "output_type": "stream",
          "name": "stdout",
          "text": [
            "3\n"
          ]
        }
      ]
    },
    {
      "cell_type": "code",
      "source": [
        "def sequencialOrdenado(v, x):\n",
        "    for i in range(len(v)):\n",
        "        if v[i] > x:\n",
        "            return -1\n",
        "        if v[i] == x:\n",
        "            return i\n",
        "    return -1\n",
        "\n",
        "v = [7, 29, 18, 35, 91, 56]\n",
        "vp = 35\n",
        "\n",
        "resultado = sequencialOrdenado(v, vp)\n",
        "\n",
        "if resultado != -1:\n",
        "    print(f'O elemento {vp} está na posição {resultado}.')\n",
        "else:\n",
        "    print(f'O elemento {vp} não está no vetor.')\n"
      ],
      "metadata": {
        "colab": {
          "base_uri": "https://localhost:8080/"
        },
        "id": "poSAv6jdyIM7",
        "outputId": "6dc5e896-2e68-4863-edb6-51b736d9a3e1"
      },
      "execution_count": null,
      "outputs": [
        {
          "output_type": "stream",
          "name": "stdout",
          "text": [
            "O elemento 35 está na posição 3.\n"
          ]
        }
      ]
    },
    {
      "cell_type": "markdown",
      "source": [
        "Escreva um algoritmo de busca para encontrar um elemento no vetor. Se encontrar, retorna a posição do elemento dentro do vetor. Se não encotrar insere o elemento no final e retorna a sua posição"
      ],
      "metadata": {
        "id": "pcNGuiSm0FEw"
      }
    },
    {
      "cell_type": "code",
      "source": [
        "def busca_elemento(v, x):\n",
        "  for i in range(len(v)):\n",
        "    if v[i] == x:\n",
        "      return i\n",
        "  v.append(x)\n",
        "  return len(v) - 1\n",
        "\n",
        "v = [10, 5, 3, 5, 15, 15, 18, 5, 10, 15, 20]\n",
        "retorna = busca_elemento(v,35)\n",
        "print(retorna)"
      ],
      "metadata": {
        "colab": {
          "base_uri": "https://localhost:8080/"
        },
        "id": "kYMLHFfQzX26",
        "outputId": "76cb613c-f9b4-4640-d007-1ea5f3f447f4"
      },
      "execution_count": null,
      "outputs": [
        {
          "output_type": "stream",
          "name": "stdout",
          "text": [
            "11\n"
          ]
        }
      ]
    },
    {
      "cell_type": "code",
      "source": [
        "def buscaInsere(v, e):\n",
        "    for i in range(len(v)):\n",
        "        if v[i] == e:\n",
        "            return i\n",
        "\n",
        "    v.append(e)\n",
        "    return len(v) - 1\n",
        "\n",
        "v = [12, 43, 27, 5, 38, 15]\n",
        "\n",
        "ep = 45\n",
        "\n",
        "p = buscaInsere(v, ep)\n",
        "\n",
        "print(f'A posição do elemento {ep} é: {p}')\n"
      ],
      "metadata": {
        "colab": {
          "base_uri": "https://localhost:8080/"
        },
        "id": "3MOmXjrn3BTI",
        "outputId": "7299d475-fa4b-445c-b830-40f3425f6b76"
      },
      "execution_count": null,
      "outputs": [
        {
          "output_type": "stream",
          "name": "stdout",
          "text": [
            "A posição do elemento 45 é: 6\n"
          ]
        }
      ]
    },
    {
      "cell_type": "code",
      "source": [
        "def busca_elemento(v, e):\n",
        "    indices = []\n",
        "    for i in range(len(v)):\n",
        "        if v[i] == e:\n",
        "            indices.append(i)\n",
        "    return indices\n",
        "\n",
        "v = [22, 35, 43, 56, 15, 15, 18, 56, 10, 15, 22]\n",
        "retorna = busca_elemento(v, 22)\n",
        "print(retorna)\n"
      ],
      "metadata": {
        "colab": {
          "base_uri": "https://localhost:8080/"
        },
        "outputId": "6d90bc5c-14e2-4bba-a4b9-5af2fced1195",
        "id": "jMALPJPl2O9S"
      },
      "execution_count": null,
      "outputs": [
        {
          "output_type": "stream",
          "name": "stdout",
          "text": [
            "[0, 10]\n"
          ]
        }
      ]
    },
    {
      "cell_type": "code",
      "source": [
        "def ClassificadoCrescente(v):\n",
        "    n = len(v)\n",
        "    for i in range(1, n):\n",
        "        if v[i] < v[i - 1]:\n",
        "            return False\n",
        "    return True\n",
        "\n",
        "v1 = [15, 26, 39, 45, 56]\n",
        "v2 = [31, 83, 12, 94, 25]\n",
        "v3 = [22, 43, 32, 87, 33]\n",
        "v4 = [42, 67, 76, 88, 134]\n",
        "\n",
        "print(\"Vetor 1 está classificado em ordem crescente:\", ClassificadoCrescente(v1))\n",
        "print(\"Vetor 2 está classificado em ordem crescente:\", ClassificadoCrescente(v2))\n",
        "print(\"Vetor 3 está classificado em ordem crescente:\", ClassificadoCrescente(v3))\n",
        "print(\"Vetor 4 está classificado em ordem crescente:\", ClassificadoCrescente(v4))\n"
      ],
      "metadata": {
        "id": "e82sGoHE6w9H"
      },
      "execution_count": null,
      "outputs": []
    },
    {
      "cell_type": "markdown",
      "source": [
        "Aula 04/10"
      ],
      "metadata": {
        "id": "LlWLyif878p2"
      }
    },
    {
      "cell_type": "code",
      "source": [
        "class NoArvore:\n",
        "    def __init__(self,info):\n",
        "        self.info=info\n",
        "        self.esq=None\n",
        "        self.dir=None\n",
        "\n",
        "    def getInfo(self):\n",
        "        return self.info\n",
        "\n",
        "    def getEsq(self):\n",
        "        return self.esq\n",
        "\n",
        "    def setEsq(self,esq):\n",
        "        self.esq=esq\n",
        "\n",
        "    def getDir(self):\n",
        "        return self.dir\n",
        "\n",
        "    def setDir(self,dir):\n",
        "        self.dir=dir\n",
        "\n",
        "class Arvore:\n",
        "\n",
        "    def __init__(self):\n",
        "        self.raiz=None\n",
        "\n",
        "    def montaArvore(self,x):\n",
        "        if self.raiz==None:\n",
        "            no=NoArvore(x)\n",
        "            self.raiz=no\n",
        "            return\n",
        "        q=None\n",
        "        p=self.raiz\n",
        "        while p and p.getInfo()!=x :\n",
        "            q=p\n",
        "            if (x<p.getInfo()):\n",
        "                p=p.getEsq()\n",
        "            else:\n",
        "                p=p.getDir()\n",
        "\n",
        "        if p:\n",
        "            print(f'Informacao ja cadastrada')\n",
        "            return\n",
        "        p=NoArvore(x)\n",
        "        if x<q.getInfo():\n",
        "            q.setEsq(p)\n",
        "        else:\n",
        "            q.setDir(p)\n",
        "\n",
        "    def preOrdem(self,p):\n",
        "        if p:\n",
        "            print(f'no visitado em preOrdem: {p.getInfo()}')\n",
        "            self.preOrdem(p.getEsq())\n",
        "            self.preOrdem(p.getDir())\n",
        "\n",
        "    def emOrdem(self,p):\n",
        "        if p:\n",
        "            self.emOrdem(p.getEsq())\n",
        "            print(f'no visitado em emOrdem: {p.getInfo()}')\n",
        "            self.emOrdem(p.getDir())\n",
        "\n",
        "\n",
        "    def posOrdem(self,p):\n",
        "        if p:\n",
        "            self.posOrdem(p.getEsq())\n",
        "            self.posOrdem(p.getDir())\n",
        "            print(f'no visitado em posOrdem: {p.getInfo()}')\n",
        "\n",
        "\n",
        "arv3=Arvore()\n",
        "arv3.montaArvore(80)\n",
        "arv3.montaArvore(40)\n",
        "arv3.montaArvore(45)\n",
        "arv3.montaArvore(90)\n",
        "arv3.montaArvore(120)\n",
        "arv3.montaArvore(88)\n",
        "arv3.montaArvore(82)\n",
        "arv3.montaArvore(95)\n",
        "arv3.montaArvore(84)\n",
        "arv3.montaArvore(42)\n",
        "arv3.montaArvore(43)\n",
        "arv3.montaArvore(92)\n",
        "arv3.montaArvore(83)"
      ],
      "metadata": {
        "id": "_NmqEYfB8AtV"
      },
      "execution_count": null,
      "outputs": []
    },
    {
      "cell_type": "code",
      "source": [
        "class Produto:\n",
        "    def __init__(self, id_produto, nome_produto, quantidade_consumida, preco_unitario):\n",
        "        self.id_produto = id_produto\n",
        "        self.nome_produto = nome_produto\n",
        "        self.quantidade_consumida = quantidade_consumida\n",
        "        self.preco_unitario = preco_unitario\n",
        "\n",
        "class ArvoreProduto:\n",
        "    def __init__(self):\n",
        "        self.raiz = None\n",
        "\n",
        "    def inserir_produto(self, produto):\n",
        "        self.raiz = self._inserir(self.raiz, produto)\n",
        "\n",
        "    def _inserir(self, no, produto):\n",
        "        if not no:\n",
        "            return NoArvoreProduto(produto)\n",
        "        if produto.id_produto < no.produto.id_produto:\n",
        "            no.esq = self._inserir(no.esq, produto)\n",
        "        elif produto.id_produto > no.produto.id_produto:\n",
        "            no.dir = self._inserir(no.dir, produto)\n",
        "        return no\n",
        "\n",
        "    def alterar_produto(self, id_produto, quantidade, preco_unitario):\n",
        "        self.raiz = self._alterar(self.raiz, id_produto, quantidade, preco_unitario)\n",
        "\n",
        "    def _alterar(self, no, id_produto, quantidade, preco_unitario):\n",
        "        if not no:\n",
        "            return None\n",
        "        if id_produto < no.produto.id_produto:\n",
        "            no.esq = self._alterar(no.esq, id_produto, quantidade, preco_unitario)\n",
        "        elif id_produto > no.produto.id_produto:\n",
        "            no.dir = self._alterar(no.dir, id_produto, quantidade, preco_unitario)\n",
        "        else:\n",
        "            no.produto.quantidade_consumida = quantidade\n",
        "            no.produto.preco_unitario = preco_unitario\n",
        "        return no\n",
        "\n",
        "    def excluir_produto(self, id_produto):\n",
        "        self.raiz, saldo_reduzido = self._excluir(self.raiz, id_produto)\n",
        "        return saldo_reduzido\n",
        "\n",
        "    def _excluir(self, no, id_produto):\n",
        "        if not no:\n",
        "            return None, 0\n",
        "        if id_produto < no.produto.id_produto:\n",
        "            no.esq, saldo_reduzido = self._excluir(no.esq, id_produto)\n",
        "        elif id_produto > no.produto.id_produto:\n",
        "            no.dir, saldo_reduzido = self._excluir(no.dir, id_produto)\n",
        "        else:\n",
        "            saldo_reduzido = no.produto.quantidade_consumida * no.produto.preco_unitario\n",
        "            if not no.esq:\n",
        "                return no.dir, saldo_reduzido\n",
        "            elif not no.dir:\n",
        "                return no.esq, saldo_reduzido\n",
        "            temp = self._minimo(no.dir)\n",
        "            no.produto = temp.produto\n",
        "            no.dir, saldo_reduzido_temp = self._excluir(no.dir, temp.produto.id_produto)\n",
        "            saldo_reduzido += saldo_reduzido_temp\n",
        "        return no, saldo_reduzido\n",
        "\n",
        "    def _minimo(self, no):\n",
        "        while no.esq:\n",
        "            no = no.esq\n",
        "        return no\n",
        "\n",
        "    def obter_saldo_produto(self, id_produto):\n",
        "        return self._obter_saldo(self.raiz, id_produto)\n",
        "\n",
        "    def _obter_saldo(self, no, id_produto):\n",
        "        if not no:\n",
        "            return 0\n",
        "        if id_produto < no.produto.id_produto:\n",
        "            return self._obter_saldo(no.esq, id_produto)\n",
        "        elif id_produto > no.produto.id_produto:\n",
        "            return self._obter_saldo(no.dir, id_produto)\n",
        "        return no.produto.quantidade_consumida * no.produto.preco_unitario\n",
        "\n",
        "    def listar_produtos(self):\n",
        "        produtos = []\n",
        "        self._listar(self.raiz, produtos)\n",
        "        return produtos\n",
        "\n",
        "    def _listar(self, no, produtos):\n",
        "        if no:\n",
        "            self._listar(no.esq, produtos)\n",
        "            produtos.append(no.produto)\n",
        "            self._listar(no.dir, produtos)\n",
        "\n",
        "class NoArvoreProduto:\n",
        "    def __init__(self, produto):\n",
        "        self.produto = produto\n",
        "        self.esq = None\n",
        "        self.dir = None\n",
        "\n",
        "class Cliente:\n",
        "    def __init__(self, id_cliente, nome_cliente, endereco):\n",
        "        self.id_cliente = id_cliente\n",
        "        self.nome_cliente = nome_cliente\n",
        "        self.endereco = endereco\n",
        "        self.saldo_a_pagar = 0\n",
        "        self.arvoreProduto = ArvoreProduto()\n",
        "\n",
        "    def inserir_produto(self, id_produto, nome_produto, quantidade, preco_unitario):\n",
        "        produto = Produto(id_produto, nome_produto, quantidade, preco_unitario)\n",
        "        self.arvoreProduto.inserir_produto(produto)\n",
        "        self.saldo_a_pagar += quantidade * preco_unitario\n",
        "\n",
        "    def alterar_produto(self, id_produto, quantidade, preco_unitario):\n",
        "        saldo_anterior = self.arvoreProduto.obter_saldo_produto(id_produto)\n",
        "        self.arvoreProduto.alterar_produto(id_produto, quantidade, preco_unitario)\n",
        "        saldo_atual = self.arvoreProduto.obter_saldo_produto(id_produto)\n",
        "        self.saldo_a_pagar += saldo_atual - saldo_anterior\n",
        "\n",
        "    def excluir_produto(self, id_produto):\n",
        "        saldo_reduzido = self.arvoreProduto.excluir_produto(id_produto)\n",
        "        self.saldo_a_pagar -= saldo_reduzido\n",
        "\n",
        "    def listar_produtos(self):\n",
        "        return self.arvoreProduto.listar_produtos()\n",
        "\n",
        "class ArvoreClientes:\n",
        "    def __init__(self):\n",
        "        self.raiz = None\n",
        "\n",
        "    def inserir_cliente(self, cliente):\n",
        "        self.raiz = self._inserir(self.raiz, cliente)\n",
        "\n",
        "    def _inserir(self, no, cliente):\n",
        "        if not no:\n",
        "            return NoArvoreCliente(cliente)\n",
        "        if cliente.id_cliente < no.cliente.id_cliente:\n",
        "            no.esq = self._inserir(no.esq, cliente)\n",
        "        elif cliente.id_cliente > no.cliente.id_cliente:\n",
        "            no.dir = self._inserir(no.dir, cliente)\n",
        "        return no\n",
        "\n",
        "    def buscar_cliente(self, id_cliente):\n",
        "        return self._buscar(self.raiz, id_cliente)\n",
        "\n",
        "    def _buscar(self, no, id_cliente):\n",
        "        if not no or no.cliente.id_cliente == id_cliente:\n",
        "            return no.cliente if no else None\n",
        "        if id_cliente < no.cliente.id_cliente:\n",
        "            return self._buscar(no.esq, id_cliente)\n",
        "        return self._buscar(no.dir, id_cliente)\n",
        "\n",
        "    def listar_clientes(self):\n",
        "        clientes = []\n",
        "        self._listar(self.raiz, clientes)\n",
        "        return clientes\n",
        "\n",
        "    def listar_clientes_com_saldo(self):\n",
        "        clientes = []\n",
        "        self._listar_com_saldo(self.raiz, clientes)\n",
        "        return clientes\n",
        "\n",
        "    def listar_clientes_sem_saldo(self):\n",
        "        clientes = []\n",
        "        self._listar_sem_saldo(self.raiz, clientes)\n",
        "        return clientes\n",
        "\n",
        "    def _listar(self, no, clientes):\n",
        "        if no:\n",
        "            self._listar(no.esq, clientes)\n",
        "            clientes.append(no.cliente)\n",
        "            self._listar(no.dir, clientes)\n",
        "\n",
        "    def _listar_com_saldo(self, no, clientes):\n",
        "        if no:\n",
        "            self._listar_com_saldo(no.esq, clientes)\n",
        "            if no.cliente.saldo_a_pagar > 0:\n",
        "                clientes.append(no.cliente)\n",
        "            self._listar_com_saldo(no.dir, clientes)\n",
        "\n",
        "    def _listar_sem_saldo(self, no, clientes):\n",
        "        if no:\n",
        "            self._listar_sem_saldo(no.esq, clientes)\n",
        "            if no.cliente.saldo_a_pagar == 0:\n",
        "                clientes.append(no.cliente)\n",
        "            self._listar_sem_saldo(no.dir, clientes)\n",
        "\n",
        "class NoArvoreCliente:\n",
        "    def __init__(self, cliente):\n",
        "        self.cliente = cliente\n",
        "        self.esq = None\n",
        "        self.dir = None\n",
        "\n",
        "if __name__ == \"__main__\":\n",
        "    arvore_clientes = ArvoreClientes()\n",
        "\n",
        "    cliente1 = Cliente(1, \"Cliente 1\", \"Endereco 1\")\n",
        "    cliente2 = Cliente(2, \"Cliente 2\", \"Endereco 2\")\n",
        "\n",
        "    arvore_clientes.inserir_cliente(cliente1)\n",
        "    arvore_clientes.inserir_cliente(cliente2)\n",
        "\n",
        "    cliente1.inserir_produto(101, \"Produto A\", 10, 5.0)\n",
        "    cliente1.inserir_produto(102, \"Produto B\", 5, 8.0)\n",
        "\n",
        "    cliente2.inserir_produto(201, \"Produto X\", 7, 4.0)\n",
        "    cliente2.inserir_produto(202, \"Produto Y\", 8, 6.0)\n",
        "\n",
        "    cliente1.alterar_produto(101, 15, 6.0)\n",
        "    cliente2.excluir_produto(202)\n",
        "\n",
        "    print(\"Lista de todos os clientes:\")\n",
        "    for cliente in arvore_clientes.listar_clientes():\n",
        "        print(f\"ID: {cliente.id_cliente}, Nome: {cliente.nome_cliente}, Saldo: {cliente.saldo_a_pagar}\")\n",
        "\n",
        "    print(\"\\nLista de clientes com saldo a pagar:\")\n",
        "    for cliente in arvore_clientes.listar_clientes_com_saldo():\n",
        "        print(f\"ID: {cliente.id_cliente}, Nome: {cliente.nome_cliente}, Saldo: {cliente.saldo_a_pagar}\")\n",
        "\n",
        "    print(\"\\nLista de clientes sem saldo a pagar:\")\n",
        "    for cliente in arvore_clientes.listar_clientes_sem_saldo():\n",
        "        print(f\"ID: {cliente.id_cliente}, Nome: {cliente.nome_cliente}, Saldo: {cliente.saldo_a_pagar}\")\n",
        "\n",
        "    print(\"\\nLista de produtos consumidos pelo Cliente 1:\")\n",
        "    for produto in cliente1.listar_produtos():\n",
        "        print(f\"ID: {produto.id_produto}, Nome: {produto.nome_produto}, Quantidade: {produto.quantidade_consumida}, Preço Unitário: {produto.preco_unitario}\")\n",
        "\n",
        "    print(\"\\nSaldo a pagar do Cliente 1:\", cliente1.saldo_a_pagar)\n"
      ],
      "metadata": {
        "colab": {
          "base_uri": "https://localhost:8080/"
        },
        "id": "3SDSfZnqO296",
        "outputId": "f412de0a-2a78-45e5-cf4b-f40fb4149724"
      },
      "execution_count": null,
      "outputs": [
        {
          "output_type": "stream",
          "name": "stdout",
          "text": [
            "Lista de todos os clientes:\n",
            "ID: 1, Nome: Cliente 1, Saldo: 130.0\n",
            "ID: 2, Nome: Cliente 2, Saldo: 28.0\n",
            "\n",
            "Lista de clientes com saldo a pagar:\n",
            "ID: 1, Nome: Cliente 1, Saldo: 130.0\n",
            "ID: 2, Nome: Cliente 2, Saldo: 28.0\n",
            "\n",
            "Lista de clientes sem saldo a pagar:\n",
            "\n",
            "Lista de produtos consumidos pelo Cliente 1:\n",
            "ID: 101, Nome: Produto A, Quantidade: 15, Preço Unitário: 6.0\n",
            "ID: 102, Nome: Produto B, Quantidade: 5, Preço Unitário: 8.0\n",
            "\n",
            "Saldo a pagar do Cliente 1: 130.0\n"
          ]
        }
      ]
    }
  ]
}