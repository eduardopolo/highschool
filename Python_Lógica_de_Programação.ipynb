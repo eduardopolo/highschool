{
  "nbformat": 4,
  "nbformat_minor": 0,
  "metadata": {
    "colab": {
      "provenance": [],
      "toc_visible": true,
      "authorship_tag": "ABX9TyOj+VgZMB+WWZfiPH9bhsJw",
      "include_colab_link": true
    },
    "kernelspec": {
      "name": "python3",
      "display_name": "Python 3"
    },
    "language_info": {
      "name": "python"
    }
  },
  "cells": [
    {
      "cell_type": "markdown",
      "metadata": {
        "id": "view-in-github",
        "colab_type": "text"
      },
      "source": [
        "<a href=\"https://colab.research.google.com/github/eduardopolo/l-gicadeprograma-o_python/blob/main/Python_L%C3%B3gica_de_Programa%C3%A7%C3%A3o.ipynb\" target=\"_parent\"><img src=\"https://colab.research.google.com/assets/colab-badge.svg\" alt=\"Open In Colab\"/></a>"
      ]
    },
    {
      "cell_type": "code",
      "source": [
        "# Exemplo de cálculos com os operadores matemáticos\n",
        "\n",
        "print('Soma=' , 5 + 3)\n",
        "print('Subtração =' , 10 - 8)\n",
        "print('Multiplicação =' , 6 * 7)\n",
        "print('Divisão =' , 9 / 2)\n",
        "print('Potência =' , 2 ** 10)\n",
        "print('Quociente =' , 5 // 2)\n",
        "print ('Resto =' , 5 % 2)"
      ],
      "metadata": {
        "colab": {
          "base_uri": "https://localhost:8080/"
        },
        "id": "bQJpQ9NZr4Vp",
        "outputId": "57517340-7ddd-4797-ba77-59be22246d24"
      },
      "execution_count": null,
      "outputs": [
        {
          "output_type": "stream",
          "name": "stdout",
          "text": [
            "Soma= 8\n",
            "Subtração = 2\n",
            "Multiplicação = 42\n",
            "Divisão = 4.5\n",
            "Potência = 1024\n",
            "Quociente = 2\n",
            "Resto = 1\n"
          ]
        }
      ]
    },
    {
      "cell_type": "markdown",
      "metadata": {
        "id": "cHxLnkWtSn4l"
      },
      "source": [
        "> ## **Exercícios:**\n",
        "---\n",
        "---"
      ]
    },
    {
      "cell_type": "code",
      "source": [
        "# Questão 1\n",
        "\n",
        "from math import sqrt\n",
        "\n",
        "raio = float(input('Raio: '))\n",
        "dist = float(input('Distância: '))\n",
        "a = 2 * 3.1415 * raio ** 2 + 10\n",
        "v = sqrt(5 / (dist * raio) + a)\n",
        "print(f'A = {a}\\nV = {v}')"
      ],
      "metadata": {
        "colab": {
          "base_uri": "https://localhost:8080/"
        },
        "id": "KsjX_5Xr7gGp",
        "outputId": "599970bb-12b0-49fd-b07d-4a38fb0c13f7"
      },
      "execution_count": null,
      "outputs": [
        {
          "output_type": "stream",
          "name": "stdout",
          "text": [
            "Raio: 10\n",
            "Distância: 10\n",
            "A = 638.3000000000001\n",
            "V = 25.265589247037166\n"
          ]
        }
      ]
    },
    {
      "cell_type": "markdown",
      "metadata": {
        "id": "LEcXUzwF8SoZ"
      },
      "source": [
        "> # **Estrutura Lógica Sequencial**\n",
        "---\n",
        "---"
      ]
    },
    {
      "cell_type": "markdown",
      "metadata": {
        "id": "P_ZToqCH81Ps"
      },
      "source": [
        "> ## **Variável**: armazena dados (memória do computador).\n",
        "\n",
        "- ### Nomes (identificadores) para variáveis:\n",
        "    - ### Início com `letra` (maiúscula ou minúscula) ou `_`, seguido ou não de `letras`, `dígitos` ou `_`.\n",
        "    - ### Exemplos:\n",
        "        - ### `a`, `A`, `a123`, `area`, `nome_cliente`, `_contador`, `EnderecoCliente` ..."
      ]
    },
    {
      "cell_type": "markdown",
      "metadata": {
        "id": "pzQ8Gjo2ZE2r"
      },
      "source": [
        "> ## **Algoritmo**: sequência finita de passos que soluciona um determinado problema.\n",
        "\n",
        "- ### Mais informações sobre algoritmos, consulte o livro: Fundamentos da Programação de Computadores (Ascêncio, Ana; Campos, Edilene)."
      ]
    },
    {
      "cell_type": "markdown",
      "metadata": {
        "id": "56eHO996FFHc"
      },
      "source": [
        "> ### **Exemplo**: cálculo da área de um retângulo.\n",
        "\n",
        "- #### area = lado1 . lado2\n",
        "\n",
        "\n",
        "    Algoritmo Area_Retangulo\n",
        "    Declare area, lado1, lado2: numérico\n",
        "    início\n",
        "        leia lado1, lado2\n",
        "        area = lado1 * lado2\n",
        "        escreva area\n",
        "    fim"
      ]
    },
    {
      "cell_type": "code",
      "source": [
        "# Programa para calcular a área de um retângulo\n",
        "\n",
        "lado1 = float(input('Lado 1 (m): '))\n",
        "lado2 = float(input('\\nLado 2 (m): '))\n",
        "area = lado1 * lado2\n",
        "print(f'\\nÁrea do retângulo = {lado1:.3f} x {lado2:.3f} = {area:.3f} m²')"
      ],
      "metadata": {
        "colab": {
          "base_uri": "https://localhost:8080/"
        },
        "id": "pRW35Wh6_ECr",
        "outputId": "eb79c75e-9d11-4831-b5a7-7bb0cd8f2fe9"
      },
      "execution_count": null,
      "outputs": [
        {
          "output_type": "stream",
          "name": "stdout",
          "text": [
            "Lado 1 (m): 1.234\n",
            "\n",
            "Lado 2 (m): 32.65432\n",
            "\n",
            "Área do retângulo = 1.234 x 32.654 = 40.295 m²\n"
          ]
        }
      ]
    },
    {
      "cell_type": "markdown",
      "metadata": {
        "id": "y9CaAz3N7kxC"
      },
      "source": [
        "> ## **Operadores matemáticos:**\n",
        "---\n",
        "\n",
        "- ## `+` : soma.\n",
        "- ## `-` : subtração.\n",
        "- ## `*` : multiplicação (produto).\n",
        "- ## `/` : divisão.\n",
        "- ## `**` : potência.\n",
        "- ## `//` : quociente da divisão entre 2 números.\n",
        "- ## `%` : resto da divisão entre 2 números."
      ]
    },
    {
      "cell_type": "code",
      "metadata": {
        "colab": {
          "base_uri": "https://localhost:8080/"
        },
        "id": "nMt32jZG9KKX",
        "outputId": "8f2d5f35-3885-46ac-80a5-bc1517a2d28f"
      },
      "source": [
        "# Exemplo de cálculos com os operadores matemáticos\n",
        "\n",
        "print('Soma =', 5 + 3)\n",
        "print('Subtração =', 10 - 8)\n",
        "print('Multiplicação =', 6 * 7)\n",
        "print('Divisão =', 9 / 2)\n",
        "print('Potência =', 2 ** 10)\n",
        "print('Quociente =', 5 // 2)\n",
        "print('Resto =', 5 % 2)"
      ],
      "execution_count": null,
      "outputs": [
        {
          "output_type": "stream",
          "name": "stdout",
          "text": [
            "Soma = 8\n",
            "Subtração = 2\n",
            "Multiplicação = 42\n",
            "Divisão = 4.5\n",
            "Potência = 1024\n",
            "Quociente = 2\n",
            "Resto = 1\n"
          ]
        }
      ]
    },
    {
      "cell_type": "markdown",
      "metadata": {
        "id": "6oxImPP2S-Nn"
      },
      "source": [
        "> ### `1.` Crie um programa para ler `3 notas` (0 a 10) e, após a leitura, calcular e mostrar a média aritmética das notas."
      ]
    },
    {
      "cell_type": "code",
      "source": [
        "# Programa para calcular a área de um retângulo\n",
        "\n",
        "nota1 = float(input('Nota 1 (0 a 10): '))\n",
        "nota2 = float(input('\\nNota 2  (0 a 10): '))\n",
        "nota3 = float(input('\\nNota 3  (0 a 10): '))\n",
        "notafinal = (nota1 + nota2 + nota3) / 3\n",
        "print(f'\\nNota Final = {notafinal:.1f}')\n"
      ],
      "metadata": {
        "colab": {
          "base_uri": "https://localhost:8080/"
        },
        "id": "G4hR7fwJwgBv",
        "outputId": "df6d1e0a-0a15-4bf2-e5c3-759fdbbe80bc"
      },
      "execution_count": null,
      "outputs": [
        {
          "output_type": "stream",
          "name": "stdout",
          "text": [
            "Nota 1 (0 a 10): 5.5\n",
            "\n",
            "Nota 2  (0 a 10): 5.5\n",
            "\n",
            "Nota 3  (0 a 10): 2\n",
            "\n",
            "Nota Final = 4.3\n"
          ]
        }
      ]
    },
    {
      "cell_type": "markdown",
      "metadata": {
        "id": "qSt2fZRKTZl3"
      },
      "source": [
        "> ### `2.` Crie um programa para ler o `raio` (m) de um círculo e, após a leitura, calcular e mostrar:\n",
        "- ### comp = 2 . PI . raio\n",
        "- ### area = PI . raio²\n",
        "\n",
        "### **OBS.**: PI = 3.1415"
      ]
    },
    {
      "cell_type": "code",
      "source": [
        "# import math: importa todas as funções e constantes do módulo math\n",
        "from math import pi # importa apenas o pi\n",
        "\n",
        "\n",
        "r = float(input('Raio do círculo (m): '))\n",
        "c = 2 * 3.1415 * r\n",
        "a = 3.1415 * r ** 2\n",
        "print(f'\\nComp: {c:.4f} m')\n",
        "print(f'\\nArea: {a:.4f} m²')"
      ],
      "metadata": {
        "colab": {
          "base_uri": "https://localhost:8080/"
        },
        "id": "cU3oUoUoBWMI",
        "outputId": "a2a4d41f-04aa-4134-f107-0909e7ab78e6"
      },
      "execution_count": null,
      "outputs": [
        {
          "output_type": "stream",
          "name": "stdout",
          "text": [
            "Raio do círculo (m): 1\n",
            "\n",
            "Comp: 6.2830 m\n",
            "\n",
            "Area: 3.1415 m²\n"
          ]
        }
      ]
    },
    {
      "cell_type": "code",
      "source": [
        "import math\n",
        "\n",
        "math.pi"
      ],
      "metadata": {
        "colab": {
          "base_uri": "https://localhost:8080/"
        },
        "id": "ygXMxPnyHNU0",
        "outputId": "faa1a196-d3d7-4097-dab3-0a5397d18b82"
      },
      "execution_count": null,
      "outputs": [
        {
          "output_type": "execute_result",
          "data": {
            "text/plain": [
              "3.141592653589793"
            ]
          },
          "metadata": {},
          "execution_count": 13
        }
      ]
    },
    {
      "cell_type": "markdown",
      "metadata": {
        "id": "liTTJu6KLgNT"
      },
      "source": [
        "> ### `3.` Crie um programa para ler o `preço` de um produto e, após a leitura, calcular e mostrar o valor do produto após um desconto de 7% e o valor do produto após um aumento de 5,5%."
      ]
    },
    {
      "cell_type": "code",
      "source": [
        "p = float(input('Preço do produto: R$ '))\n",
        "pd = p - 7 / 100 * p\n",
        "pa = p + 5.5 / 100 * p\n",
        "print(f'\\nPreço com desconto de 7% = R$ {pd:.2f}')\n",
        "print(f'\\nPreço com aumento de 5,5% = R$ {pa:.2f}')"
      ],
      "metadata": {
        "colab": {
          "base_uri": "https://localhost:8080/"
        },
        "id": "VkyFIL_BsZua",
        "outputId": "9cf29ac0-64f7-4139-8918-c4d5f15010e8"
      },
      "execution_count": null,
      "outputs": [
        {
          "output_type": "stream",
          "name": "stdout",
          "text": [
            "Preço do produto: R$ 100\n",
            "\n",
            "Preço com desconto de 7% = R$ 93.00\n",
            "\n",
            "Preço com aumento de 5,5% = R$ 105.50\n"
          ]
        }
      ]
    },
    {
      "cell_type": "markdown",
      "metadata": {
        "id": "E7-zeakH03LZ"
      },
      "source": [
        "> ### `4.` Crie um programa para calcular e mostrar a média ponderada entre 2 notas. As `notas` e seus respectivos `pesos` devem ser fornecidos pelo usuário no início do programa.\n",
        "### Fórmula:\n",
        "### $mp = {n1.p1 + n2.p2 \\over p1+p2}$"
      ]
    },
    {
      "cell_type": "code",
      "source": [
        "n1 = float(input('Nota 1 (0 a 10): '))\n",
        "p1 = int(input('Peso 1: '))\n",
        "n2 = float(input('\\nNota 2 (0 a 10): '))\n",
        "p2 = int(input('Peso 2: '))\n",
        "mp = (n1 * p1 + n2 * p2) / (p1 + p2)\n",
        "print(f'\\nMédia ponderada = {mp:.1f}')"
      ],
      "metadata": {
        "id": "dXayUw5wKAAd",
        "colab": {
          "base_uri": "https://localhost:8080/"
        },
        "outputId": "1a15c80f-c1ea-4310-8315-29547f488dbd"
      },
      "execution_count": null,
      "outputs": [
        {
          "output_type": "stream",
          "name": "stdout",
          "text": [
            "Nota 1 (0 a 10): 5\n",
            "Peso 1: 3\n",
            "\n",
            "Nota 2 (0 a 10): 7\n",
            "Peso 2: 2\n",
            "\n",
            "Média ponderada = 5.8\n"
          ]
        }
      ]
    },
    {
      "cell_type": "markdown",
      "metadata": {
        "id": "vkm2tfq_03Lt"
      },
      "source": [
        "> ### `5.` Uma empresa paga aos seus funcionários um salário fixo mais uma comissão de 7,5% sobre as vendas realizadas por cada funcionário. Sabendo disso, crie um programa para ler o `salário fixo` e o `valor das vendas` de um funcionário e, após as leituras, calcular e mostrar a comissão sobre as vendas e o salário final desse funcionário."
      ]
    },
    {
      "cell_type": "code",
      "source": [
        "fixo = float(input('Salário fixo: R$ '))\n",
        "vendas = float(input('\\nTotal de vendas: R$ '))\n",
        "com = 7.5 / 100 * vendas\n",
        "final = fixo + com\n",
        "print(f'\\nComissão sobre as vendas = R$ {com:.2f}')\n",
        "print(f'\\nSalário final = R$ {fixo:.2f} + R$ {com:.2f} = R$ {final:.2f}')"
      ],
      "metadata": {
        "id": "oOda9dr7KD1V",
        "colab": {
          "base_uri": "https://localhost:8080/"
        },
        "outputId": "39569439-495c-41ea-9b5d-2f255b62754e"
      },
      "execution_count": null,
      "outputs": [
        {
          "output_type": "stream",
          "name": "stdout",
          "text": [
            "Salário fixo: R$ 5000\n",
            "\n",
            "Total de vendas: R$ 100000\n",
            "\n",
            "Comissão sobre as vendas = R$ 7500.00\n",
            "\n",
            "Salário final = R$ 5000.00 + R$ 7500.00 = R$ 12500.00\n"
          ]
        }
      ]
    },
    {
      "cell_type": "markdown",
      "metadata": {
        "id": "XQtu4pLVUU9y"
      },
      "source": [
        "> ### `6.` Crie um programa para ler os valores dos `catetos` de um triângulo retângulo e, após a leitura, calcular e mostrar o valor da hipotenusa.\n",
        "### `Obs.`: use Pitágoras para calcular.\n",
        "### $h = \\sqrt{ca^2 + cb^2}$"
      ]
    },
    {
      "cell_type": "code",
      "source": [
        "from math import sqrt # sqrt é a função que calcula a raiz quadrada\n",
        "\n",
        "ca = float(input('Cateto A: '))\n",
        "cb = float(input('\\nCateto B: '))\n",
        "h = sqrt(ca ** 2 + cb ** 2)\n",
        "print(f'\\nHipotenusa = {h:.3f}')"
      ],
      "metadata": {
        "id": "XPPrny-x2Jn8",
        "colab": {
          "base_uri": "https://localhost:8080/"
        },
        "outputId": "059aefd9-f2e3-4a69-fd9a-2fd3858002c2"
      },
      "execution_count": null,
      "outputs": [
        {
          "output_type": "stream",
          "name": "stdout",
          "text": [
            "Cateto A: 3\n",
            "\n",
            "Cateto B: 4\n",
            "\n",
            "Hipotenusa = 5.000\n"
          ]
        }
      ]
    },
    {
      "cell_type": "markdown",
      "metadata": {
        "id": "NIrxGjsWHO65"
      },
      "source": [
        "> ### `7.` Uma escada está apoiada no chão formando um ângulo `a` e há uma distância `d` da parede. A parede forma um ângulo de 90º com o chão. Sabendo disso, crie um programa para ler os valores de `a` (graus) e `d` (metros), calcule e mostre o comprimento da escada (`c`).\n",
        "\n",
        "    |\\\n",
        "    | \\\n",
        "    |  \\\n",
        "    |   \\                      d\n",
        "    |    \\ c         cos a = -----  ->  c = d / cos a\n",
        "    |     \\                    c\n",
        "    |      \\\n",
        "    |_      \\\n",
        "    |.|    a \\\n",
        "    -----------\n",
        "         d\n"
      ]
    },
    {
      "cell_type": "code",
      "source": [
        "from math import cos, radians\n",
        "\n",
        "a = float(input('Ângulo (graus): '))\n",
        "d = float(input('\\nDistância (m): '))\n",
        "c = d / cos(radians(a))\n",
        "print(f'\\nComprimento da escada = {c:.1f} m')"
      ],
      "metadata": {
        "colab": {
          "base_uri": "https://localhost:8080/"
        },
        "id": "70J1U3uvFNyD",
        "outputId": "2c59dbbc-e4f7-4bea-b138-dbfebe878b89"
      },
      "execution_count": null,
      "outputs": [
        {
          "output_type": "stream",
          "name": "stdout",
          "text": [
            "Ângulo (graus): 60\n",
            "\n",
            "Distância (m): 2\n",
            "\n",
            "Comprimento da escada = 4.0 m\n"
          ]
        }
      ]
    },
    {
      "cell_type": "markdown",
      "metadata": {
        "id": "EHOVAyMEN4fX"
      },
      "source": [
        "> ### `8.` Crie um programa para ler uma certa quantidade de `dias`, `horas`, `minutos` e `segundos` (o usuário fornece). Após as leituras, calcular e mostrar a qtde total de segundos contidos nesses valores."
      ]
    },
    {
      "cell_type": "code",
      "source": [
        "d = float(input('Dias: '))\n",
        "h = float(input('\\nHoras: '))\n",
        "m = float(input('\\nMinutos: '))\n",
        "s = float(input('\\nSegundos: '))\n",
        "total = s + m * 60 + h * 60 * 60 + d * 24 * 60 * 60\n",
        "print(f'\\nTotal de segundos = {total}')"
      ],
      "metadata": {
        "colab": {
          "base_uri": "https://localhost:8080/"
        },
        "id": "BaACiqaDG3dS",
        "outputId": "a59ef919-d383-4c53-c8b5-a9cc04ae3e91"
      },
      "execution_count": null,
      "outputs": [
        {
          "output_type": "stream",
          "name": "stdout",
          "text": [
            "Dias: 1\n",
            "\n",
            "Horas: 1\n",
            "\n",
            "Minutos: 1\n",
            "\n",
            "Segundos: 1\n",
            "\n",
            "Total de segundos = 90061.0\n"
          ]
        }
      ]
    },
    {
      "cell_type": "markdown",
      "metadata": {
        "id": "zqwaq3cdO7wp"
      },
      "source": [
        "> ### `9.` Crie um programa para ler o `tamanho` de um arquivo em GBytes e a `velocidade` de download de uma rede em Mbits por segundo. Após as leituras, calcular e mostrar o tempo gasto (minutos e segundos) para transferir o arquivo pela rede.\n",
        "- ### 1 Byte = 8 bits\n",
        "- ### 1 GByte = 1024 MBytes\n",
        "### **Testes para validação do cálculo:**\n",
        "- ### `Tamanho`: 1 GB ; `Velocidade`: 300 Mb/s ; `Resultado`: 0 min e 27 seg\n",
        "- ### `Tamanho`: 30 GB ; `Velocidade`: 100 Mb/s ; `Resultado`: 40 min e 57 seg\n"
      ]
    },
    {
      "cell_type": "code",
      "source": [
        "tam = int(input('Tamanho do arquivo (GByte): '))\n",
        "vel = int(input('\\nVelocidade da rede (Mbit/s): '))\n",
        "tam_mb = tam * 1024 * 8 # converte o tamanho em Mbit\n",
        "ts = tam_mb // vel # tempo em segundos (apenas o valor inteiro para descartar os décimos de seg)\n",
        "tm = ts // 60 # calcula os minutos\n",
        "ts %= 60 # calcula os segundos que restaram (ts = ts % 60)\n",
        "print(f'\\nTempo gasto de download = {tm} min e {ts} seg')"
      ],
      "metadata": {
        "id": "hiBPlgpnMG2T",
        "colab": {
          "base_uri": "https://localhost:8080/"
        },
        "outputId": "aebac4f2-51a4-4d42-b5bb-2241324cfde4"
      },
      "execution_count": null,
      "outputs": [
        {
          "output_type": "stream",
          "name": "stdout",
          "text": [
            "Tamanho do arquivo (GByte): 1\n",
            "\n",
            "Velocidade da rede (Mbit/s): 300\n",
            "\n",
            "Tempo gasto de download = 0 min e 27 seg\n"
          ]
        }
      ]
    },
    {
      "cell_type": "markdown",
      "source": [
        "> ### `10.` Crie um programa para ler uma qtde qualquer de `segundos` e converter para **dias**, **horas**, **minutos** e **segundos** restantes."
      ],
      "metadata": {
        "id": "t40zHEic40vb"
      }
    },
    {
      "cell_type": "code",
      "source": [
        "s = float(input('Quantidade de Segundos: '))\n",
        "m = s // 60\n",
        "s %= 60\n",
        "h = m // 60\n",
        "m %= 60\n",
        "d = h // 24\n",
        "h %= 24\n",
        "print(f'\\nDias: {d:.0f}')\n",
        "print(f'\\nHoras: {h:.0f}')\n",
        "print(f'\\nMinutos: {m:.0f}')\n",
        "print(f'\\nSegundos: {s:.0f}')"
      ],
      "metadata": {
        "colab": {
          "base_uri": "https://localhost:8080/"
        },
        "id": "W2EKSQ24-Fjo",
        "outputId": "d2a6d26b-7e52-4499-958b-fbc8284509c1"
      },
      "execution_count": null,
      "outputs": [
        {
          "output_type": "stream",
          "name": "stdout",
          "text": [
            "Quantidade de Segundos: 90063\n",
            "\n",
            "Dias: 1\n",
            "\n",
            "Horas: 1\n",
            "\n",
            "Minutos: 1\n",
            "\n",
            "Segundos: 3\n"
          ]
        }
      ]
    },
    {
      "cell_type": "markdown",
      "metadata": {
        "id": "hijP9Q12HNJW"
      },
      "source": [
        "> # **Estrutura Lógica Condicional**\n",
        "---\n",
        "---"
      ]
    },
    {
      "cell_type": "markdown",
      "metadata": {
        "id": "PL-G_qmOJzyz"
      },
      "source": [
        "> ## **Algoritmo** (Livro: Fundamentos da Programação de Computadores):\n",
        "---\n",
        "\n",
        "    se ? então     SIMPLES        ? : condição\n",
        "    início\n",
        "        ...   VERDADEIRO\n",
        "    fim\n",
        "\n",
        "    se ? então     COMPOSTO       ? : condição\n",
        "    início\n",
        "        ...   VERDADEIRO\n",
        "    fim\n",
        "    senão\n",
        "    início\n",
        "        ...   FALSO\n",
        "    fim"
      ]
    },
    {
      "cell_type": "markdown",
      "metadata": {
        "id": "E80HoQzlKQ1Q"
      },
      "source": [
        " > ## **Linguagem `Python`:** o deslocamento para direita (Tab) inicia um bloco de comandos e o retorno para a coluna à esquerda finaliza o bloco.\n",
        " ---\n",
        "\n",
        "    if ?:       >> Comando condicional SIMPLES\n",
        "        ...\n",
        "        ...\n",
        "\n",
        "    if ?:       >> Comando condicional COMPOSTO\n",
        "        ...\n",
        "        ...\n",
        "    else:\n",
        "        ...\n",
        "        ...\n",
        "\n",
        "\n",
        "> ### `?` : condição (V ou F)."
      ]
    },
    {
      "cell_type": "markdown",
      "metadata": {
        "id": "UNXFis5JOmwU"
      },
      "source": [
        "> ## **`Condição` (`?`):**\n",
        "---\n",
        "- ## Expressão que resulta sempre em **V** ou **F** (True ou False)."
      ]
    },
    {
      "cell_type": "markdown",
      "metadata": {
        "id": "cH22o2Y1Pe7L"
      },
      "source": [
        "> ## **Operadores relacionais:**\n",
        "---\n",
        "\n",
        "- ## Algoritmo: < <= > >= = <> (diferente).\n",
        "- ## Python: `<` `<=` `>` `>=` `==` `!=`"
      ]
    },
    {
      "cell_type": "markdown",
      "metadata": {
        "id": "RRA49rGMQury"
      },
      "source": [
        "> ### **Exemplos:**\n",
        "\n",
        "### `a == 0`\n",
        "### `nota >= 6`\n",
        "### `salario != 5000.0`\n",
        "### `x < 0`\n",
        "### `sqrt(w) >= 10 - y`\n"
      ]
    },
    {
      "cell_type": "markdown",
      "metadata": {
        "id": "k6_Qh36ERwzV"
      },
      "source": [
        "> ## **Operadores Lógicos:**\n",
        "---\n",
        "\n",
        "- ### Condições compostas: duas ou mais condições.\n",
        "\n",
        "- ## Algoritmo: e ou não (negação)\n",
        "- ## Python: `and` `or` `not`"
      ]
    },
    {
      "cell_type": "markdown",
      "metadata": {
        "id": "qzDV85e5Tah0"
      },
      "source": [
        "> ## Tabela Verdade - `and`\n",
        "---\n",
        "Condição 1 | Condição 2 | `AND`\n",
        "- | - | -\n",
        "F | F | F\n",
        "F | V | F\n",
        "V | F | F\n",
        "V | V | V"
      ]
    },
    {
      "cell_type": "markdown",
      "metadata": {
        "id": "upPXJyjJUUJJ"
      },
      "source": [
        "> ## Tabela Verdade - `or`\n",
        "---\n",
        "Condição 1 | Condição 2 | `OR`\n",
        "- | - | -\n",
        "F | F | F\n",
        "F | V | V\n",
        "V | F | V\n",
        "V | V | V"
      ]
    },
    {
      "cell_type": "markdown",
      "metadata": {
        "id": "2c3W340eUtZg"
      },
      "source": [
        "> ## Tabela Verdade - `not`\n",
        "---\n",
        "Condição | `NOT`\n",
        "- | -\n",
        "F | V\n",
        "V | F\n"
      ]
    },
    {
      "cell_type": "markdown",
      "metadata": {
        "id": "HPCcTAYPVGRB"
      },
      "source": [
        "> ### **Exemplos:**\n",
        "\n",
        "### `a >= 0 and a <= 10`\n",
        "### `a < 0 or a > 10`\n",
        "### `not (a >= 0 and a <= 10)`\n",
        "### `not (a < 0 and (x != 2 or d == -1) and nota != 10)`"
      ]
    },
    {
      "cell_type": "markdown",
      "metadata": {
        "id": "k6wOcJ7wWrLc"
      },
      "source": [
        "> ## **Prioridade (ou precedência) de Operadores:**\n",
        "\n",
        "[https://www.inf.pucrs.br/flash/algfis/aulas/selecao/build/selecao/PrecedenceofOperators.html](https://www.inf.pucrs.br/flash/algfis/aulas/selecao/build/selecao/PrecedenceofOperators.html)\n"
      ]
    },
    {
      "cell_type": "code",
      "source": [
        "a = 1\n",
        "b = 2\n",
        "c = 3\n",
        "(a < b or b < c) and c != 0"
      ],
      "metadata": {
        "id": "X2594E6o8wJQ",
        "colab": {
          "base_uri": "https://localhost:8080/"
        },
        "outputId": "e78092c0-0182-4396-b9bc-7ca4ddc7575e"
      },
      "execution_count": null,
      "outputs": [
        {
          "output_type": "execute_result",
          "data": {
            "text/plain": [
              "True"
            ]
          },
          "metadata": {},
          "execution_count": 5
        }
      ]
    },
    {
      "cell_type": "markdown",
      "metadata": {
        "id": "w5TmTOMFZtOr"
      },
      "source": [
        "> ## **Exercícios:**\n",
        "---\n",
        "---"
      ]
    },
    {
      "cell_type": "markdown",
      "metadata": {
        "id": "hq3ZRq2YaGQo"
      },
      "source": [
        "> ### `1.` Crie um programa para ler `2 notas`, calcular e mostrar a média aritmética e informar se o aluno foi aprovado ou reprovado (média mínima = 6.0). Mostrar também uma mensagem de 'Parabéns!', caso ele tenha uma média igual a 10."
      ]
    },
    {
      "cell_type": "code",
      "metadata": {
        "colab": {
          "base_uri": "https://localhost:8080/"
        },
        "id": "RAgU7Ngxbhr1",
        "outputId": "0b249e30-4856-4e6a-cd29-22f094519724"
      },
      "source": [
        "n1 = float(input('Nota 1 (0 a 10): '))\n",
        "n2 = float(input('\\nNota 2 (0 a 10): '))\n",
        "ma = (n1 + n2) / 2\n",
        "print(f'\\nMédia final = {ma:.1f}')\n",
        "\n",
        "if ma >= 6:\n",
        "    print('\\nAPROVADO!!!', end='') # end='' impede que o print vá para a próxima linha\n",
        "    if ma == 10:\n",
        "        print('  PARABÉNS!!!')\n",
        "else:\n",
        "    print('\\nREPROVADO!!!')"
      ],
      "execution_count": null,
      "outputs": [
        {
          "output_type": "stream",
          "name": "stdout",
          "text": [
            "Nota 1 (0 a 10): 7\n",
            "\n",
            "Nota 2 (0 a 10): 4\n",
            "\n",
            "Média final = 5.5\n",
            "\n",
            "REPROVADO!!!\n"
          ]
        }
      ]
    },
    {
      "cell_type": "markdown",
      "metadata": {
        "id": "W8A1MoY0NuNz"
      },
      "source": [
        "> ### `2.` Criar um programa para ler `3 valores` inteiros e, após as leituras, mostrar o menor e o maior valor entre os 3."
      ]
    },
    {
      "cell_type": "code",
      "source": [
        "a = int(input('Valor de A: '))\n",
        "b = int(input('\\nValor de B: '))\n",
        "c = int(input('\\nValor de C: '))\n",
        "\n",
        "if a < b and a < c:\n",
        "    me = a\n",
        "elif b < c:\n",
        "    me = b\n",
        "else:\n",
        "    me = c\n",
        "\n",
        "if a > b and a > c:\n",
        "    ma = a\n",
        "elif b > c:\n",
        "    ma = b\n",
        "else:\n",
        "    ma = c\n",
        "\n",
        "print(f'\\nMenor = {me}\\n\\nMaior = {ma}')"
      ],
      "metadata": {
        "id": "3yRaK8j_JLaM",
        "colab": {
          "base_uri": "https://localhost:8080/"
        },
        "outputId": "7417abcc-e074-462e-9368-2e3c427cf8c8"
      },
      "execution_count": null,
      "outputs": [
        {
          "output_type": "stream",
          "name": "stdout",
          "text": [
            "A: 5\n",
            "\n",
            "B: 2\n",
            "\n",
            "C: 8\n",
            "\n",
            "Menor = 2\n",
            "\n",
            "Maior = 8\n"
          ]
        }
      ]
    },
    {
      "cell_type": "markdown",
      "metadata": {
        "id": "96MckkghYqUv"
      },
      "source": [
        "> ### `3.` Criar um programa para ler `3 valores` inteiros e, após as leituras, mostrar o menor e o maior valor digitado pelo usuário, seguindo as regras:\n",
        "\n",
        "- ### Usar apenas `if` (NÃO pode usar `else`, nem `elif`).\n",
        "- ### NÃO pode usar o operador lógico `and`."
      ]
    },
    {
      "cell_type": "code",
      "source": [
        "a = int(input('Valor de A: '))\n",
        "b = int(input('\\nValor de B: '))\n",
        "c = int(input('\\nValor de C: '))\n",
        "\n",
        "me = a # primeiro é o menor\n",
        "if b < me: # verifica se o segundo é o menor\n",
        "    me = b\n",
        "if c < me: # verifica se o terceiro é o menor\n",
        "    me = c\n",
        "\n",
        "ma = a # primeiro é o maior\n",
        "if b > ma: # verifica se o segundo é o maior\n",
        "    ma = b\n",
        "if c > ma: # verifica se o terceiro é o maior\n",
        "    ma = c\n",
        "\n",
        "print(f'\\nMenor = {me}\\n\\nMaior = {ma}')"
      ],
      "metadata": {
        "colab": {
          "base_uri": "https://localhost:8080/"
        },
        "id": "X4JOM8Bl_nKV",
        "outputId": "7ad800a0-9567-4ed2-db70-f8347d7e0d40"
      },
      "execution_count": null,
      "outputs": [
        {
          "output_type": "stream",
          "name": "stdout",
          "text": [
            "Valor de A: 3\n",
            "\n",
            "Valor de B: 2\n",
            "\n",
            "Valor de C: 6\n",
            "\n",
            "Menor = 2\n",
            "\n",
            "Maior = 6\n"
          ]
        }
      ]
    },
    {
      "cell_type": "markdown",
      "metadata": {
        "id": "uuN-VaRrapWf"
      },
      "source": [
        "> ### `4.` Criar um programa para ler um número inteiro qualquer e, após a leitura, mostrar se o número é PAR ou ÍMPAR."
      ]
    },
    {
      "cell_type": "code",
      "source": [
        "num = int(input('Número inteiro: '))\n",
        "\n",
        "if num % 2 == 0: # verificar se num é múltiplo de 2 (resto da divisão por 2 igual a zero)\n",
        "    print(f'\\n{num} é PAR!!')\n",
        "else:\n",
        "    print(f'\\n{num} é ÍMPAR!!')"
      ],
      "metadata": {
        "colab": {
          "base_uri": "https://localhost:8080/"
        },
        "id": "38TNNgspBXHq",
        "outputId": "7941c3f0-a236-4d27-9dcd-49803924a830"
      },
      "execution_count": null,
      "outputs": [
        {
          "output_type": "stream",
          "name": "stdout",
          "text": [
            "Número inteiro: 11\n",
            "\n",
            "11 é ÍMPAR!!\n"
          ]
        }
      ]
    },
    {
      "cell_type": "markdown",
      "metadata": {
        "id": "beBs-VSYN5pB"
      },
      "source": [
        "> ### `Observação`: o operador `%` pode ser usado para verificar se um número é múltiplo de qualquer outro número."
      ]
    },
    {
      "cell_type": "code",
      "metadata": {
        "colab": {
          "base_uri": "https://localhost:8080/"
        },
        "id": "1O_cJLipOFWy",
        "outputId": "ff651612-86fa-40db-e77e-b0f6fd808a9a"
      },
      "source": [
        "x = int(input('X: '))\n",
        "y = int(input('\\nY: '))\n",
        "\n",
        "if x % y == 0:\n",
        "    print(f'\\n{x} é múltiplo de {y}')\n",
        "else:\n",
        "    print(f'\\n{x} NÃO é múltiplo de {y}')"
      ],
      "execution_count": null,
      "outputs": [
        {
          "output_type": "stream",
          "name": "stdout",
          "text": [
            "X: 3425\n",
            "\n",
            "Y: 30\n",
            "\n",
            "3425 NÃO é múltiplo de 30\n"
          ]
        }
      ]
    },
    {
      "cell_type": "markdown",
      "metadata": {
        "id": "Q7oTTm6EbaBl"
      },
      "source": [
        "> ### `5.` Criar um programa para ler `2 valores` reais (float) e, caso o primeiro valor seja maior que o segundo, trocar os valores das duas variáveis e mostrar seus resultados."
      ]
    },
    {
      "cell_type": "code",
      "source": [
        "p = float(input('Primeiro valor: '))\n",
        "s = float(input('\\nSegundo valor: '))\n",
        "\n",
        "if p > s:\n",
        "    aux = p\n",
        "    p = s\n",
        "    s = aux\n",
        "    print('\\nTrocou...')\n",
        "\n",
        "print(f'\\nPrimeiro = {p}\\n\\nSegundo = {s}')"
      ],
      "metadata": {
        "id": "bdUo_dXaFPrD",
        "colab": {
          "base_uri": "https://localhost:8080/"
        },
        "outputId": "6aec0f78-6bd5-46f3-e9aa-d894e631a2a3"
      },
      "execution_count": null,
      "outputs": [
        {
          "output_type": "stream",
          "name": "stdout",
          "text": [
            "Primeiro valor: 5\n",
            "\n",
            "Segundo valor: 1\n",
            "\n",
            "Trocou...\n",
            "\n",
            "Primeiro = 1.0\n",
            "\n",
            "Segundo = 5.0\n"
          ]
        }
      ]
    },
    {
      "cell_type": "markdown",
      "metadata": {
        "id": "WCZzuPXTXYyN"
      },
      "source": [
        "> ### `Outra forma`: \"método Python\" de trocar."
      ]
    },
    {
      "cell_type": "code",
      "metadata": {
        "colab": {
          "base_uri": "https://localhost:8080/"
        },
        "id": "J3IdUQKKXhC3",
        "outputId": "2ecd87c6-fe73-4e5b-c13f-a554d64d0dd6"
      },
      "source": [
        "p = float(input('Primeiro valor: '))\n",
        "s = float(input('\\nSegundo valor: '))\n",
        "\n",
        "if p > s:\n",
        "    p, s = s, p\n",
        "    print('\\nTrocou...')\n",
        "\n",
        "print(f'\\nPrimeiro: {p}\\n\\nSegundo = {s}')"
      ],
      "execution_count": null,
      "outputs": [
        {
          "output_type": "stream",
          "text": [
            "Primeiro valor: 20\n",
            "\n",
            "Segundo valor: 10\n",
            "\n",
            "Trocou...\n",
            "\n",
            "Primeiro: 10.0\n",
            "\n",
            "Segundo = 20.0\n"
          ],
          "name": "stdout"
        }
      ]
    },
    {
      "cell_type": "markdown",
      "metadata": {
        "id": "MX89SPPmZ3qn"
      },
      "source": [
        "> ### `6.` Criar um programa para ler `5 valores` inteiros e, após as leituras, calcular e mostrar a qtde de valores negativos entre os 5 valores.\n",
        "+ ### `Dica`: use um contador."
      ]
    },
    {
      "cell_type": "code",
      "source": [
        "v1 = int(input('Valor 1: '))\n",
        "v2 = int(input('Valor 2: '))\n",
        "v3 = int(input('Valor 3: '))\n",
        "v4 = int(input('Valor 4: '))\n",
        "v5 = int(input('Valor 5: '))\n",
        "\n",
        "qn = 0 # qtde de negativos (contador)\n",
        "\n",
        "if v1 < 0:\n",
        "    qn += 1\n",
        "if v2 < 0:\n",
        "    qn += 1\n",
        "if v3 < 0:\n",
        "    qn += 1\n",
        "if v4 < 0:\n",
        "    qn += 1\n",
        "if v5 < 0:\n",
        "    qn += 1\n",
        "\n",
        "print(f'\\nQtde de negativos = {qn}')"
      ],
      "metadata": {
        "id": "OXSMdwWdNtXb"
      },
      "execution_count": null,
      "outputs": []
    },
    {
      "cell_type": "markdown",
      "metadata": {
        "id": "O7jxPzfPgQE3"
      },
      "source": [
        "> ### `7.` Criar um programa para ler a `distância` (em Km) e o `consumo` de combustível (em litros) de um carro ao percorrer um trajeto qualquer. Após as leituras, calcular e mostrar o consumo médio (em Km/litro) do carro e um aviso seguinto a tabela abaixo:\n",
        "Consumo Médio (Km/litro)|Aviso!\n",
        "-|-\n",
        "Abaixo de 8|Venda o carro!!\n",
        "Entre 8 e 14|Econômico!!\n",
        "Acima de 14|Super econômico!!\n",
        "\n",
        "<br>"
      ]
    },
    {
      "cell_type": "markdown",
      "metadata": {
        "id": "GLzIwiITgUbB"
      },
      "source": [
        "> ### `8.` Criar um programa para ler a `idade` (em anos) de um nadador e, após a leitura, mostrar sua categoria seguindo a tabela abaixo:\n",
        "Categoria|Idade (em anos)\n",
        "-|-\n",
        "NA|Abaixo de 5\n",
        "Infantil A|5 a 7\n",
        "Infantil B|8 a 10\n",
        "Juvenil A|11 a 14\n",
        "Juvenil B|15 a 18\n",
        "Senior|Acima de 18\n",
        "\n",
        "<br>"
      ]
    },
    {
      "cell_type": "markdown",
      "source": [],
      "metadata": {
        "id": "MmW6PPcJCRis"
      }
    },
    {
      "cell_type": "code",
      "source": [
        "# Questão 1\n",
        "\n",
        "from math import sqrt\n",
        "\n",
        "raio = float(input('Raio: '))\n",
        "dist = float(input('Distância: '))\n",
        "a = 2 * 3.1415 * raio ** 2 + 10\n",
        "v = sqrt(5 / (dist * raio) + a)\n",
        "print(f'A = {a}\\nV = {v}')"
      ],
      "metadata": {
        "colab": {
          "base_uri": "https://localhost:8080/"
        },
        "outputId": "599970bb-12b0-49fd-b07d-4a38fb0c13f7",
        "id": "DEBlOsPTCRvj"
      },
      "execution_count": null,
      "outputs": [
        {
          "output_type": "stream",
          "name": "stdout",
          "text": [
            "Raio: 10\n",
            "Distância: 10\n",
            "A = 638.3000000000001\n",
            "V = 25.265589247037166\n"
          ]
        }
      ]
    },
    {
      "cell_type": "code",
      "source": [
        "# Questão 2\n",
        "from math import ceil\n",
        "\n",
        "area = float(input('Área: '))\n",
        "qlatas = ceil(area / 3 / 18)\n",
        "custo = qlatas * 120\n",
        "print(f'Qtde de latas = {qlatas}\\nCusto = R$ {custo:.2f}')"
      ],
      "metadata": {
        "colab": {
          "base_uri": "https://localhost:8080/"
        },
        "id": "sdrAuRFf7mAg",
        "outputId": "a461516a-c9ec-48df-f60d-567c1d14ada1"
      },
      "execution_count": null,
      "outputs": [
        {
          "output_type": "stream",
          "name": "stdout",
          "text": [
            "Área: 360\n",
            "Qtde de latas = 7\n",
            "Custo = R$ 840.00\n"
          ]
        }
      ]
    },
    {
      "cell_type": "code",
      "source": [],
      "metadata": {
        "id": "u8pAqREaU0b6"
      },
      "execution_count": null,
      "outputs": []
    },
    {
      "cell_type": "code",
      "source": [
        "id = int(input('Idade em anos: '))\n",
        "\n",
        "if id < 5:\n",
        "    cat = 'NA'\n",
        "elif id <= 7:\n",
        "    cat = 'Infantil A'\n",
        "elif id <= 10:\n",
        "    cat = 'Infantil B'\n",
        "elif id <= 14:\n",
        "    cat = 'Juvenil A'\n",
        "elif id <= 18:\n",
        "    cat = 'Juvenil B'\n",
        "else:\n",
        "    cat = 'Senior'\n",
        "\n",
        "print(f'\\nCategoria: {cat}')"
      ],
      "metadata": {
        "id": "In1g6lx5ShlB",
        "colab": {
          "base_uri": "https://localhost:8080/"
        },
        "outputId": "c4a4c476-1038-4867-8060-a462f8afc3a6"
      },
      "execution_count": null,
      "outputs": [
        {
          "output_type": "stream",
          "name": "stdout",
          "text": [
            "Idade em anos: 15\n",
            "\n",
            "Categoria: Juvenil B\n"
          ]
        }
      ]
    },
    {
      "cell_type": "markdown",
      "metadata": {
        "id": "QCW3WOkwNqwt"
      },
      "source": [
        "> ### `9.` Criar um programa para ler `3 valores` inteiros e, após as leituras, mostrá-los em ordem crescente."
      ]
    },
    {
      "cell_type": "code",
      "source": [
        "a = int(input('A: '))\n",
        "b = int(input('\\nB: '))\n",
        "c = int(input('\\nC: '))\n",
        "\n",
        "print('\\nOrdem crescente: ', end='')\n",
        "if a < b and b < c:\n",
        "    print(f'{a}, {b}, {c}')\n",
        "elif a < c and c < b:\n",
        "    print(f'{a}, {c}, {b}')\n",
        "elif b < a and a < c:\n",
        "    print(f'{b}, {a}, {c}')\n",
        "elif b < c and c < a:\n",
        "    print(f'{b}, {c}, {a}')\n",
        "elif c < a and a < b:\n",
        "    print(f'{c}, {a}, {b}')\n",
        "else:\n",
        "    print(f'{c}, {b}, {a}')"
      ],
      "metadata": {
        "id": "YRAMH1r-Oj8Z"
      },
      "execution_count": null,
      "outputs": []
    },
    {
      "cell_type": "markdown",
      "metadata": {
        "id": "dAX9a3JPOScf"
      },
      "source": [
        "> ### `Outra forma`: fazer o mesmo que foi pedido no exercício `9` usando apenas `3 if's` (sem else ou elif)."
      ]
    },
    {
      "cell_type": "code",
      "source": [
        "a = int(input('A: '))\n",
        "b = int(input('\\nB: '))\n",
        "c = int(input('\\nC: '))\n",
        "\n",
        "ca, cb, cc = a, b, c # copiar para não perder os valores originais\n",
        "\n",
        "if ca > cb:\n",
        "    ca, cb = cb, ca\n",
        "\n",
        "if cb > cc:\n",
        "    cb, cc = cc, cb\n",
        "\n",
        "if ca > cb:\n",
        "    ca, cb = cb, ca\n",
        "\n",
        "print(f'\\nOrdem crescente: {ca}, {cb}, {cc}')"
      ],
      "metadata": {
        "id": "2N4xcSvcek7N",
        "colab": {
          "base_uri": "https://localhost:8080/"
        },
        "outputId": "182f2d4b-e99d-4264-bed2-445d513854fa"
      },
      "execution_count": null,
      "outputs": [
        {
          "output_type": "stream",
          "name": "stdout",
          "text": [
            "A: 3\n",
            "\n",
            "B: 2\n",
            "\n",
            "C: 1\n",
            "\n",
            "Ordem crescente: 1, 2, 3\n"
          ]
        }
      ]
    },
    {
      "cell_type": "markdown",
      "metadata": {
        "id": "cZHJxKEzhUN4"
      },
      "source": [
        "> ### `10.` Criar um programa para ler `3 valores` reais (float) e, após as leituras, verificar se os valores podem ou não formar um triângulo. Caso formem um triângulo, mostrar qual o seu tipo.\n",
        "- ### `Regra para formar um triângulo`: cada um dos lados deve ser menor que a soma dos outros dois lados.\n",
        "- ### Tipos: **`equilátero`** (3 lados iguais), **`isósceles`** (apenas 2 lados iguais) ou **`escaleno`** (3 lados diferentes)."
      ]
    },
    {
      "cell_type": "code",
      "source": [
        "a = float(input('Lado A: '))\n",
        "b = float(input('\\nLado B: '))\n",
        "c = float(input('\\nLado C: '))\n",
        "\n",
        "if a < b + c and b < a + c and c < a + b:\n",
        "    if a == b and b == c:\n",
        "        print('\\nTriângulo Equilátero!')\n",
        "    elif a == b or a == c or b == c:\n",
        "        print('\\nTriângulo Isósceles!')\n",
        "    else:\n",
        "        print('\\nTriângulo Escaleno!')\n",
        "else:\n",
        "    print('\\nNão formam um triângulo!')"
      ],
      "metadata": {
        "id": "SrEDCYfpen8N"
      },
      "execution_count": null,
      "outputs": []
    },
    {
      "cell_type": "markdown",
      "metadata": {
        "id": "_kvWu9Dify20"
      },
      "source": [
        "> ### `11.` Criar um programa para ler a `idade` e o `tempo` de serviço de um trabalhador (em anos) e, após as leituras, mostrar uma mensagem informando se ele pode ou não se aposentar. As condições para aposentadoria são:\n",
        "+ ### Ter pelo menos 65 anos de idade.\n",
        "+ ### Ou ter trabalhado pelo menos 30 anos.\n",
        "+ ### Ou ter pelo menos 60 anos de idade e ter trabalhado pelo menos 25 anos."
      ]
    },
    {
      "cell_type": "code",
      "source": [
        "id = int(input('Idade: '))\n",
        "at = int(input('\\nAnos trabalhados: '))\n",
        "\n",
        "if id >= 65 or at >= 30 or id >= 60 and at >=25:\n",
        "      print('Pode Aposentar!')\n",
        "else:\n",
        "      print('Não pode se Aposentar!')"
      ],
      "metadata": {
        "colab": {
          "base_uri": "https://localhost:8080/"
        },
        "id": "qR2iJ4fMK3LI",
        "outputId": "684c5a29-5b21-4803-9953-071f98d06196"
      },
      "execution_count": null,
      "outputs": [
        {
          "output_type": "stream",
          "name": "stdout",
          "text": [
            "Idade: 65\n",
            "\n",
            "Anos trabalhados: 20\n",
            "Pode Aposentar!\n"
          ]
        }
      ]
    },
    {
      "cell_type": "markdown",
      "source": [],
      "metadata": {
        "id": "HBFRHdFUCWXd"
      }
    },
    {
      "cell_type": "markdown",
      "metadata": {
        "id": "EbSgSEG2tXrP"
      },
      "source": [
        "> ### `12.` Criar um programa para ler a `altura` (m) e o `peso` (Kg) de uma pessoa e, após as leituras, mostrar a classificação dessa pessoa através da tabela abaixo:\n",
        "Altura||Peso||\n",
        ":-:|:-:|:-:|:-:\n",
        "|Até 60|Entre 60 e 90 (inclusive)|Acima de 90\n",
        "Abaixo de 1,2|A|D|G\n",
        "De 1,2 a 1,7|B|E|H\n",
        "Acima de 1,7|C|F|I\n",
        "\n",
        "<br>"
      ]
    },
    {
      "cell_type": "code",
      "metadata": {
        "id": "c-XaYEJDtcvW"
      },
      "source": [
        "alt = float(input('Altura (m): '))\n",
        "peso = float(input('\\nPeso (Kg): '))\n",
        "\n",
        "if alt < 1.2:\n",
        "    if peso <= 60:\n",
        "        cla = 'A'\n",
        "    elif peso <= 90:\n",
        "        cla = 'D'\n",
        "    else:\n",
        "        cla = 'G'\n",
        "elif alt <= 1.7:\n",
        "    if peso <= 60:\n",
        "        cla = 'B'\n",
        "    elif peso <= 90:\n",
        "        cla = 'E'\n",
        "    else:\n",
        "        cla = 'H'\n",
        "else:\n",
        "    if peso <= 60:\n",
        "        cla = 'C'\n",
        "    elif peso <= 90:\n",
        "        cla = 'F'\n",
        "    else:\n",
        "        cla = 'I'\n",
        "\n",
        "print(f'\\nClassificação: {cla}')"
      ],
      "execution_count": null,
      "outputs": []
    },
    {
      "cell_type": "markdown",
      "metadata": {
        "id": "7rOmG_Y0tcU3"
      },
      "source": [
        "> ### `13.` Criar um programa para ler `2 valores` reais (float) e, após as leituras, mostrar o menu de opções mostrado abaixo e ler a `escolha` do usuário. Após a escolha, calcular e mostrar o resultado da operação selecionada. Caso a opção escolhida seja inválida, mostrar uma mensagem ao usuário.\n",
        "### Exemplo de execução:\n",
        "    Opções:\n",
        "    1. Soma dos dois valores.\n",
        "    2. Diferença dos dois valores (maior - menor).\n",
        "    3. Multiplicação dos dois valores.\n",
        "    4. Divisão dos dois valores (1º pelo 2º).\n",
        "    Escolha:\n"
      ]
    },
    {
      "cell_type": "markdown",
      "source": [],
      "metadata": {
        "id": "cTTdc1-zfUXa"
      }
    },
    {
      "cell_type": "code",
      "source": [
        "from IPython.display import clear_output\n",
        "\n",
        "v1 = float(input('Valor 1: '))\n",
        "v2 = float(input('\\nValor 2: '))\n",
        "clear_output(True) # limpa a saída de dados\n",
        "print('Opções:')\n",
        "print('1 - Soma dos dois valores.')\n",
        "print('2 - Diferença dos dois valores (maior - menor).')\n",
        "print('3 - Multiplicação dos dois valores.')\n",
        "print('4 - Divisão dos dois valores (1º pelo 2º).')\n",
        "op = int(input('Escolha: '))\n",
        "\n",
        "if op == 1:\n",
        "    soma = v1 + v2\n",
        "    print(f'\\nSoma = {v1} + {v2} = {soma}')\n",
        "elif op == 2:\n",
        "    if v1 < v2:\n",
        "        v1, v2 = v2, v1 # troca o valor de v1 com v2, se v1 for menor que v2\n",
        "    dif = v1 - v2\n",
        "    print(f'\\nDiferença = {v1} - {v2} = {dif}')\n",
        "elif op == 3:\n",
        "    mult = v1 * v2\n",
        "    print(f'\\nMultiplicação = {v1} * {v2} = {mult}')\n",
        "elif op == 4:\n",
        "    div = v1 / v2\n",
        "    print(f'\\nDivisão = {v1} / {v2} = {div}')\n",
        "else:\n",
        "    print(f'\\nOpção inválida!!')"
      ],
      "metadata": {
        "id": "dMSzS03SgXa9",
        "colab": {
          "base_uri": "https://localhost:8080/"
        },
        "outputId": "eb8d44d1-4f99-4bfb-b93c-da71c52e8be1"
      },
      "execution_count": null,
      "outputs": [
        {
          "output_type": "stream",
          "name": "stdout",
          "text": [
            "Opções:\n",
            "1 - Soma dos dois valores.\n",
            "2 - Diferença dos dois valores (maior - menor).\n",
            "3 - Multiplicação dos dois valores.\n",
            "4 - Divisão dos dois valores (1º pelo 2º).\n",
            "Escolha: 2\n",
            "\n",
            "Diferença = 9.0 - 6.0 = 3.0\n"
          ]
        }
      ]
    },
    {
      "cell_type": "markdown",
      "metadata": {
        "id": "IbSiXvcqX8Mx"
      },
      "source": [
        "> ### `Extra`: Comando `switch` (exemplo em linguagem C, pois Python não possui o comando).\n",
        "---\n",
        "---"
      ]
    },
    {
      "cell_type": "code",
      "metadata": {
        "id": "kZUoYOaSXgty"
      },
      "source": [
        "switch (op)\n",
        "{\n",
        "    case 1:\n",
        "        printf('\\nOpcao 1');\n",
        "        break;\n",
        "    case 2:\n",
        "        printf('\\nOpcao 2');\n",
        "        break;\n",
        "    default:\n",
        "        printf('\\nOpcao invalida!!');\n",
        "}"
      ],
      "execution_count": null,
      "outputs": []
    },
    {
      "cell_type": "markdown",
      "metadata": {
        "id": "ujqaDA_hlvw6"
      },
      "source": [
        "> ### `14.` Criar um programa para ler uma `data` (dia, mês e ano) e, após a leitura, mostrar uma mensagem informando se a data é válida ou inválida."
      ]
    },
    {
      "cell_type": "markdown",
      "source": [],
      "metadata": {
        "id": "7oSNpFMXfhm0"
      }
    },
    {
      "cell_type": "code",
      "source": [
        "d, m, a = input('Data (dd/mm/aaaa): ').split('/')\n",
        "d, m, a = int(d), int(m), int(a)\n",
        "\n",
        "val = True # val é a variável que indica se a data é válida ou não (flag)\n",
        "\n",
        "if a < 1 or m < 1 or m > 12 or d < 1 or d > 31:\n",
        "    val = False\n",
        "elif (m == 4 or m == 6 or m == 9 or m == 11) and d > 30:\n",
        "    val = False\n",
        "elif m == 2:\n",
        "    if a % 4 == 0: # ano bissexto (múltiplo de 4)\n",
        "        if d > 29:\n",
        "            val = False\n",
        "    elif d > 28: # ano não bissexto\n",
        "        val = False\n",
        "\n",
        "if val:\n",
        "    print('\\nVÁLIDA!!!')\n",
        "else:\n",
        "    print('\\nINVÁLIDA!!!')"
      ],
      "metadata": {
        "id": "rE8xLAJLgXyb",
        "colab": {
          "base_uri": "https://localhost:8080/"
        },
        "outputId": "d88b2997-5b0f-4556-8704-99d6be115f65"
      },
      "execution_count": null,
      "outputs": [
        {
          "output_type": "stream",
          "name": "stdout",
          "text": [
            "Data (dd/mm/aaaa): 31/12/2022\n",
            "\n",
            "VÁLIDA!!!\n"
          ]
        }
      ]
    }
  ]
}